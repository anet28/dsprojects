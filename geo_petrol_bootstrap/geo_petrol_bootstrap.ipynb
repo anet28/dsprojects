{
  "cells": [
    {
      "cell_type": "markdown",
      "metadata": {
        "id": "iaJfOz7tzorZ"
      },
      "source": [
        "# Выбор локации для скважины"
      ]
    },
    {
      "cell_type": "markdown",
      "metadata": {
        "id": "VpChvIsjzora"
      },
      "source": [
        "Допустим, вы работаете в добывающей компании «ГлавРосГосНефть». Нужно решить, где бурить новую скважину.\n",
        "\n",
        "Вам предоставлены пробы нефти в трёх регионах: в каждом 10 000 месторождений, где измерили качество нефти и объём её запасов. Постройте модель машинного обучения, которая поможет определить регион, где добыча принесёт наибольшую прибыль. Проанализируйте возможную прибыль и риски техникой *Bootstrap.*\n",
        "\n",
        "Шаги для выбора локации:\n",
        "\n",
        "- В избранном регионе ищут месторождения, для каждого определяют значения признаков;\n",
        "- Строят модель и оценивают объём запасов;\n",
        "- Выбирают месторождения с самым высокими оценками значений. Количество месторождений зависит от бюджета компании и стоимости разработки одной скважины;\n",
        "- Прибыль равна суммарной прибыли отобранных месторождений."
      ]
    },
    {
      "cell_type": "markdown",
      "metadata": {
        "id": "uTvKuyMFzorb"
      },
      "source": [
        "**Описание данных**\n",
        "\n",
        "Данные геологоразведки трёх регионов находятся в файлах:\n",
        "\n",
        "- `/datasets/geo_data_0.csv`\n",
        "- `/datasets/geo_data_1.csv`\n",
        "- `/datasets/geo_data_2.csv`\n",
        "- `id` — уникальный идентификатор скважины;\n",
        "- `f0`, `f1`, `f2` — три признака точек (неважно, что они означают, но сами признаки значимы);\n",
        "- `product` — объём запасов в скважине (тыс. баррелей).\n",
        "\n",
        "**Условия задачи:**\n",
        "\n",
        "- Для обучения модели подходит только линейная регрессия (остальные — недостаточно предсказуемые).\n",
        "- При разведке региона исследуют 500 точек, из которых с помощью машинного обучения выбирают 200 лучших для разработки.\n",
        "- Бюджет на разработку скважин в регионе — 10 млрд рублей.\n",
        "- При нынешних ценах один баррель сырья приносит 450 рублей дохода. Доход с каждой единицы продукта составляет 450 тыс. рублей, поскольку объём указан в тысячах баррелей.\n",
        "- После оценки рисков нужно оставить лишь те регионы, в которых вероятность убытков меньше 2.5%. Среди них выбирают регион с наибольшей средней прибылью.\n",
        "\n",
        "Данные синтетические: детали контрактов и характеристики месторождений не разглашаются."
      ]
    },
    {
      "cell_type": "markdown",
      "metadata": {
        "id": "TknpYwvRzorc"
      },
      "source": [
        "## Загрузка и подготовка данных"
      ]
    },
    {
      "cell_type": "code",
      "execution_count": null,
      "metadata": {
        "id": "_5X9M-eQzord"
      },
      "outputs": [],
      "source": [
        "!pip install -U scikit-learn -q"
      ]
    },
    {
      "cell_type": "code",
      "execution_count": null,
      "metadata": {
        "id": "SHTyjA8yzord"
      },
      "outputs": [],
      "source": [
        "import pandas as pd\n",
        "import numpy as np\n",
        "import seaborn as sns\n",
        "import sklearn\n",
        "#import shap\n",
        "#import phik\n",
        "import scipy.stats as st\n",
        "import warnings\n",
        "warnings.simplefilter(action='ignore', category=FutureWarning)\n",
        "\n",
        "from matplotlib import pyplot as plt\n",
        "from math import sqrt\n",
        "#from scipy import stats\n",
        "from sklearn.model_selection import GridSearchCV, cross_val_score, train_test_split\n",
        "from sklearn.linear_model import LinearRegression #, LogisticRegression #, Ridge\n",
        "from sklearn.metrics import confusion_matrix, mean_squared_error\n",
        "from sklearn.preprocessing import StandardScaler, MinMaxScaler #, LabelEncoder, OneHotEncoder, OrdinalEncoder\n",
        "#from sklearn.multiclass import OneVsRestClassifier\n",
        "from sklearn.pipeline import Pipeline #, make_pipeline\n",
        "from sklearn.compose import ColumnTransformer #, make_column_transformer\n",
        "from sklearn.impute import SimpleImputer\n",
        "#from sklearn.neighbors import KNeighborsClassifier\n",
        "from sklearn.tree import DecisionTreeRegressor #, DecisionTreeClassifier"
      ]
    },
    {
      "cell_type": "code",
      "execution_count": null,
      "metadata": {
        "id": "I5gltECKzorf",
        "outputId": "3d88b7c2-b9d3-4664-e1e4-cb4236b3273b"
      },
      "outputs": [
        {
          "data": {
            "text/plain": [
              "'1.4.0'"
            ]
          },
          "execution_count": 3,
          "metadata": {},
          "output_type": "execute_result"
        }
      ],
      "source": [
        "sklearn.__version__"
      ]
    },
    {
      "cell_type": "code",
      "execution_count": null,
      "metadata": {
        "id": "DxARtm9mzorg"
      },
      "outputs": [],
      "source": [
        "try:\n",
        "    geo_data_0 = pd.read_csv('/datasets/geo_data_0.csv')\n",
        "    geo_data_1 = pd.read_csv('/datasets/geo_data_1.csv')\n",
        "    geo_data_2 = pd.read_csv('/datasets/geo_data_2.csv')\n",
        "except:\n",
        "    geo_data_0 = pd.read_csv('C:/Users/Student/Desktop/geo_data_0.csv')\n",
        "    geo_data_1 = pd.read_csv('C:/Users/Student/Desktop/geo_data_1.csv')\n",
        "    geo_data_2 = pd.read_csv('C:/Users/Student/Desktop/geo_data_2.csv')"
      ]
    },
    {
      "cell_type": "code",
      "execution_count": null,
      "metadata": {
        "id": "_zhdd5PGzorg",
        "outputId": "8ad798b4-81b9-427e-f008-23e631de0120"
      },
      "outputs": [
        {
          "name": "stdout",
          "output_type": "stream",
          "text": [
            "<class 'pandas.core.frame.DataFrame'>\n",
            "RangeIndex: 100000 entries, 0 to 99999\n",
            "Data columns (total 5 columns):\n",
            " #   Column   Non-Null Count   Dtype  \n",
            "---  ------   --------------   -----  \n",
            " 0   id       100000 non-null  object \n",
            " 1   f0       100000 non-null  float64\n",
            " 2   f1       100000 non-null  float64\n",
            " 3   f2       100000 non-null  float64\n",
            " 4   product  100000 non-null  float64\n",
            "dtypes: float64(4), object(1)\n",
            "memory usage: 3.8+ MB\n"
          ]
        },
        {
          "data": {
            "text/html": [
              "<div>\n",
              "<style scoped>\n",
              "    .dataframe tbody tr th:only-of-type {\n",
              "        vertical-align: middle;\n",
              "    }\n",
              "\n",
              "    .dataframe tbody tr th {\n",
              "        vertical-align: top;\n",
              "    }\n",
              "\n",
              "    .dataframe thead th {\n",
              "        text-align: right;\n",
              "    }\n",
              "</style>\n",
              "<table border=\"1\" class=\"dataframe\">\n",
              "  <thead>\n",
              "    <tr style=\"text-align: right;\">\n",
              "      <th></th>\n",
              "      <th>id</th>\n",
              "      <th>f0</th>\n",
              "      <th>f1</th>\n",
              "      <th>f2</th>\n",
              "      <th>product</th>\n",
              "    </tr>\n",
              "  </thead>\n",
              "  <tbody>\n",
              "    <tr>\n",
              "      <th>0</th>\n",
              "      <td>txEyH</td>\n",
              "      <td>0.705745</td>\n",
              "      <td>-0.497823</td>\n",
              "      <td>1.221170</td>\n",
              "      <td>105.280062</td>\n",
              "    </tr>\n",
              "    <tr>\n",
              "      <th>1</th>\n",
              "      <td>2acmU</td>\n",
              "      <td>1.334711</td>\n",
              "      <td>-0.340164</td>\n",
              "      <td>4.365080</td>\n",
              "      <td>73.037750</td>\n",
              "    </tr>\n",
              "    <tr>\n",
              "      <th>2</th>\n",
              "      <td>409Wp</td>\n",
              "      <td>1.022732</td>\n",
              "      <td>0.151990</td>\n",
              "      <td>1.419926</td>\n",
              "      <td>85.265647</td>\n",
              "    </tr>\n",
              "    <tr>\n",
              "      <th>3</th>\n",
              "      <td>iJLyR</td>\n",
              "      <td>-0.032172</td>\n",
              "      <td>0.139033</td>\n",
              "      <td>2.978566</td>\n",
              "      <td>168.620776</td>\n",
              "    </tr>\n",
              "    <tr>\n",
              "      <th>4</th>\n",
              "      <td>Xdl7t</td>\n",
              "      <td>1.988431</td>\n",
              "      <td>0.155413</td>\n",
              "      <td>4.751769</td>\n",
              "      <td>154.036647</td>\n",
              "    </tr>\n",
              "  </tbody>\n",
              "</table>\n",
              "</div>"
            ],
            "text/plain": [
              "      id        f0        f1        f2     product\n",
              "0  txEyH  0.705745 -0.497823  1.221170  105.280062\n",
              "1  2acmU  1.334711 -0.340164  4.365080   73.037750\n",
              "2  409Wp  1.022732  0.151990  1.419926   85.265647\n",
              "3  iJLyR -0.032172  0.139033  2.978566  168.620776\n",
              "4  Xdl7t  1.988431  0.155413  4.751769  154.036647"
            ]
          },
          "metadata": {},
          "output_type": "display_data"
        },
        {
          "name": "stdout",
          "output_type": "stream",
          "text": [
            "Пропуски:\n",
            "id         0\n",
            "f0         0\n",
            "f1         0\n",
            "f2         0\n",
            "product    0\n",
            "dtype: int64\n",
            "Дубликатов 0\n"
          ]
        }
      ],
      "source": [
        "def dfinfo(df):\n",
        "    df.info()\n",
        "    display(df.head())\n",
        "    print('Пропуски:')\n",
        "    print(df.isna().sum())\n",
        "    print('Дубликатов', df.duplicated().sum())\n",
        "\n",
        "dfinfo(geo_data_0)"
      ]
    },
    {
      "cell_type": "code",
      "execution_count": null,
      "metadata": {
        "id": "us-9TdTlzorh",
        "outputId": "2c9c10ac-6114-4601-cc4c-eb7d65b1df45"
      },
      "outputs": [
        {
          "name": "stdout",
          "output_type": "stream",
          "text": [
            "<class 'pandas.core.frame.DataFrame'>\n",
            "RangeIndex: 100000 entries, 0 to 99999\n",
            "Data columns (total 5 columns):\n",
            " #   Column   Non-Null Count   Dtype  \n",
            "---  ------   --------------   -----  \n",
            " 0   id       100000 non-null  object \n",
            " 1   f0       100000 non-null  float64\n",
            " 2   f1       100000 non-null  float64\n",
            " 3   f2       100000 non-null  float64\n",
            " 4   product  100000 non-null  float64\n",
            "dtypes: float64(4), object(1)\n",
            "memory usage: 3.8+ MB\n"
          ]
        },
        {
          "data": {
            "text/html": [
              "<div>\n",
              "<style scoped>\n",
              "    .dataframe tbody tr th:only-of-type {\n",
              "        vertical-align: middle;\n",
              "    }\n",
              "\n",
              "    .dataframe tbody tr th {\n",
              "        vertical-align: top;\n",
              "    }\n",
              "\n",
              "    .dataframe thead th {\n",
              "        text-align: right;\n",
              "    }\n",
              "</style>\n",
              "<table border=\"1\" class=\"dataframe\">\n",
              "  <thead>\n",
              "    <tr style=\"text-align: right;\">\n",
              "      <th></th>\n",
              "      <th>id</th>\n",
              "      <th>f0</th>\n",
              "      <th>f1</th>\n",
              "      <th>f2</th>\n",
              "      <th>product</th>\n",
              "    </tr>\n",
              "  </thead>\n",
              "  <tbody>\n",
              "    <tr>\n",
              "      <th>0</th>\n",
              "      <td>kBEdx</td>\n",
              "      <td>-15.001348</td>\n",
              "      <td>-8.276000</td>\n",
              "      <td>-0.005876</td>\n",
              "      <td>3.179103</td>\n",
              "    </tr>\n",
              "    <tr>\n",
              "      <th>1</th>\n",
              "      <td>62mP7</td>\n",
              "      <td>14.272088</td>\n",
              "      <td>-3.475083</td>\n",
              "      <td>0.999183</td>\n",
              "      <td>26.953261</td>\n",
              "    </tr>\n",
              "    <tr>\n",
              "      <th>2</th>\n",
              "      <td>vyE1P</td>\n",
              "      <td>6.263187</td>\n",
              "      <td>-5.948386</td>\n",
              "      <td>5.001160</td>\n",
              "      <td>134.766305</td>\n",
              "    </tr>\n",
              "    <tr>\n",
              "      <th>3</th>\n",
              "      <td>KcrkZ</td>\n",
              "      <td>-13.081196</td>\n",
              "      <td>-11.506057</td>\n",
              "      <td>4.999415</td>\n",
              "      <td>137.945408</td>\n",
              "    </tr>\n",
              "    <tr>\n",
              "      <th>4</th>\n",
              "      <td>AHL4O</td>\n",
              "      <td>12.702195</td>\n",
              "      <td>-8.147433</td>\n",
              "      <td>5.004363</td>\n",
              "      <td>134.766305</td>\n",
              "    </tr>\n",
              "  </tbody>\n",
              "</table>\n",
              "</div>"
            ],
            "text/plain": [
              "      id         f0         f1        f2     product\n",
              "0  kBEdx -15.001348  -8.276000 -0.005876    3.179103\n",
              "1  62mP7  14.272088  -3.475083  0.999183   26.953261\n",
              "2  vyE1P   6.263187  -5.948386  5.001160  134.766305\n",
              "3  KcrkZ -13.081196 -11.506057  4.999415  137.945408\n",
              "4  AHL4O  12.702195  -8.147433  5.004363  134.766305"
            ]
          },
          "metadata": {},
          "output_type": "display_data"
        },
        {
          "name": "stdout",
          "output_type": "stream",
          "text": [
            "Пропуски:\n",
            "id         0\n",
            "f0         0\n",
            "f1         0\n",
            "f2         0\n",
            "product    0\n",
            "dtype: int64\n",
            "Дубликатов 0\n"
          ]
        }
      ],
      "source": [
        "dfinfo(geo_data_1)"
      ]
    },
    {
      "cell_type": "code",
      "execution_count": null,
      "metadata": {
        "id": "yIgQX3Mrzori",
        "outputId": "59f696b2-535e-4e6f-f9a3-f54a9ba31d49"
      },
      "outputs": [
        {
          "name": "stdout",
          "output_type": "stream",
          "text": [
            "<class 'pandas.core.frame.DataFrame'>\n",
            "RangeIndex: 100000 entries, 0 to 99999\n",
            "Data columns (total 5 columns):\n",
            " #   Column   Non-Null Count   Dtype  \n",
            "---  ------   --------------   -----  \n",
            " 0   id       100000 non-null  object \n",
            " 1   f0       100000 non-null  float64\n",
            " 2   f1       100000 non-null  float64\n",
            " 3   f2       100000 non-null  float64\n",
            " 4   product  100000 non-null  float64\n",
            "dtypes: float64(4), object(1)\n",
            "memory usage: 3.8+ MB\n"
          ]
        },
        {
          "data": {
            "text/html": [
              "<div>\n",
              "<style scoped>\n",
              "    .dataframe tbody tr th:only-of-type {\n",
              "        vertical-align: middle;\n",
              "    }\n",
              "\n",
              "    .dataframe tbody tr th {\n",
              "        vertical-align: top;\n",
              "    }\n",
              "\n",
              "    .dataframe thead th {\n",
              "        text-align: right;\n",
              "    }\n",
              "</style>\n",
              "<table border=\"1\" class=\"dataframe\">\n",
              "  <thead>\n",
              "    <tr style=\"text-align: right;\">\n",
              "      <th></th>\n",
              "      <th>id</th>\n",
              "      <th>f0</th>\n",
              "      <th>f1</th>\n",
              "      <th>f2</th>\n",
              "      <th>product</th>\n",
              "    </tr>\n",
              "  </thead>\n",
              "  <tbody>\n",
              "    <tr>\n",
              "      <th>0</th>\n",
              "      <td>fwXo0</td>\n",
              "      <td>-1.146987</td>\n",
              "      <td>0.963328</td>\n",
              "      <td>-0.828965</td>\n",
              "      <td>27.758673</td>\n",
              "    </tr>\n",
              "    <tr>\n",
              "      <th>1</th>\n",
              "      <td>WJtFt</td>\n",
              "      <td>0.262778</td>\n",
              "      <td>0.269839</td>\n",
              "      <td>-2.530187</td>\n",
              "      <td>56.069697</td>\n",
              "    </tr>\n",
              "    <tr>\n",
              "      <th>2</th>\n",
              "      <td>ovLUW</td>\n",
              "      <td>0.194587</td>\n",
              "      <td>0.289035</td>\n",
              "      <td>-5.586433</td>\n",
              "      <td>62.871910</td>\n",
              "    </tr>\n",
              "    <tr>\n",
              "      <th>3</th>\n",
              "      <td>q6cA6</td>\n",
              "      <td>2.236060</td>\n",
              "      <td>-0.553760</td>\n",
              "      <td>0.930038</td>\n",
              "      <td>114.572842</td>\n",
              "    </tr>\n",
              "    <tr>\n",
              "      <th>4</th>\n",
              "      <td>WPMUX</td>\n",
              "      <td>-0.515993</td>\n",
              "      <td>1.716266</td>\n",
              "      <td>5.899011</td>\n",
              "      <td>149.600746</td>\n",
              "    </tr>\n",
              "  </tbody>\n",
              "</table>\n",
              "</div>"
            ],
            "text/plain": [
              "      id        f0        f1        f2     product\n",
              "0  fwXo0 -1.146987  0.963328 -0.828965   27.758673\n",
              "1  WJtFt  0.262778  0.269839 -2.530187   56.069697\n",
              "2  ovLUW  0.194587  0.289035 -5.586433   62.871910\n",
              "3  q6cA6  2.236060 -0.553760  0.930038  114.572842\n",
              "4  WPMUX -0.515993  1.716266  5.899011  149.600746"
            ]
          },
          "metadata": {},
          "output_type": "display_data"
        },
        {
          "name": "stdout",
          "output_type": "stream",
          "text": [
            "Пропуски:\n",
            "id         0\n",
            "f0         0\n",
            "f1         0\n",
            "f2         0\n",
            "product    0\n",
            "dtype: int64\n",
            "Дубликатов 0\n"
          ]
        }
      ],
      "source": [
        "dfinfo(geo_data_2)"
      ]
    },
    {
      "cell_type": "markdown",
      "metadata": {
        "id": "QOf1tk0Wzorj"
      },
      "source": [
        "Во всех 3 датасетах по регионам по 100 000 строк, нет пропусков и явных дубликатов."
      ]
    },
    {
      "cell_type": "code",
      "execution_count": null,
      "metadata": {
        "scrolled": false,
        "id": "J-YNKorAzorj",
        "outputId": "5b9f3a16-3e58-4375-a4d4-ca93c693d1c3"
      },
      "outputs": [
        {
          "name": "stdout",
          "output_type": "stream",
          "text": [
            "geo_data_0\n",
            "          id        f0        f1         f2     product\n",
            "66136  74z30  1.084962 -0.312358   6.990771  127.643327\n",
            "64022  74z30  0.741456  0.459229   5.153109  140.771492\n",
            "51970  A5aEY -0.180335  0.935548  -2.094773   33.020205\n",
            "3389   A5aEY -0.039949  0.156872   0.209861   89.249364\n",
            "69163  AGS9W -0.933795  0.116194  -3.655896   19.230453\n",
            "42529  AGS9W  1.454747 -0.479651   0.683380  126.370504\n",
            "931    HZww2  0.755284  0.368511   1.863211   30.681774\n",
            "7530   HZww2  1.061194 -0.373969  10.430210  158.828695\n",
            "63593  QcMuo  0.635635 -0.473422   0.862670   64.578675\n",
            "1949   QcMuo  0.506563 -0.323775  -2.215583   75.496502\n",
            "75715  Tdehs  0.112079  0.430296   3.218993   60.964018\n",
            "21426  Tdehs  0.829407  0.298807  -0.049563   96.035308\n",
            "92341  TtcGQ  0.110711  1.022689   0.911381  101.318008\n",
            "60140  TtcGQ  0.569276 -0.104876   6.440215   85.350186\n",
            "89582  bsk9y  0.398908 -0.400253  10.122376  163.433078\n",
            "97785  bsk9y  0.378429  0.005837   0.160827  160.637302\n",
            "41724  bxg6G -0.823752  0.546319   3.630479   93.007798\n",
            "1364   bxg6G  0.411645  0.856830  -3.653440   73.604260\n",
            "16633  fiKDv  0.157341  1.028359   5.585586   95.817889\n",
            "90815  fiKDv  0.049883  0.841313   6.394613  137.346586\n",
            "\n",
            "geo_data_1\n",
            "          id         f0         f1        f2     product\n",
            "5849   5ltQ6  -3.435401 -12.296043  1.999796   57.085625\n",
            "84461  5ltQ6  18.213839   2.191999  3.993869  107.813044\n",
            "1305   LHZR0  11.170835  -1.945066  3.002872   80.859783\n",
            "41906  LHZR0  -8.989672  -4.286607  2.009139   57.085625\n",
            "2721   bfPNe  -9.494442  -5.463692  4.006042  110.992147\n",
            "82178  bfPNe  -6.202799  -4.820045  2.995107   84.038886\n",
            "47591  wt4Uk  -9.091098  -8.109279 -0.002314    3.179103\n",
            "82873  wt4Uk  10.259972  -9.376355  4.994297  134.766305\n",
            "\n",
            "geo_data_2\n",
            "          id        f0        f1        f2     product\n",
            "45404  KUPhW  0.231846 -1.698941  4.990775   11.716299\n",
            "55967  KUPhW  1.211150  3.176408  5.543540  132.831802\n",
            "11449  VF7Jo  2.122656 -0.858275  5.746001  181.716817\n",
            "49564  VF7Jo -0.883115  0.560537  0.723601  136.233420\n",
            "44378  Vcm5J -1.229484 -2.439204  1.222909  137.968290\n",
            "95090  Vcm5J  2.587702  1.986875  2.482245   92.327572\n",
            "28039  xCHr8  1.633027  0.368135 -2.378367    6.120525\n",
            "43233  xCHr8 -0.847066  2.101796  5.597130  184.388641\n",
            "\n"
          ]
        }
      ],
      "source": [
        "for i in range(0,3):\n",
        "    geo = globals()['geo_data_'+str(i)]\n",
        "    geo_id = geo['id'].value_counts()\n",
        "    geo_id = geo_id[geo_id>1]\n",
        "    print('geo_data_'+str(i))\n",
        "    print(geo.query('id in @geo_id.index').sort_values(by='id'))\n",
        "    print()"
      ]
    },
    {
      "cell_type": "markdown",
      "metadata": {
        "id": "lRNeAfELzork"
      },
      "source": [
        "У нас есть скважины, повторяющиеся по 2 раза, но с разными признаками (не явные дубликаты). Пока непонятно, нужно ли их удалять. Среди 100 тыс. строк они капля в море."
      ]
    },
    {
      "cell_type": "code",
      "execution_count": null,
      "metadata": {
        "id": "edpqb4UWzorl"
      },
      "outputs": [],
      "source": [
        "def issl_analiz(df, x, list_col = []):\n",
        "    display(df.describe())\n",
        "\n",
        "    if list_col == []:\n",
        "        list_col = df.select_dtypes(exclude='object').columns\n",
        "    if len(list_col)>1:\n",
        "        fig,axes = plt.subplots(nrows=len(list_col), ncols=2, figsize=(15, x))\n",
        "        i=0\n",
        "        for col in list_col:\n",
        "            df[col].plot(kind='hist', x=col, ax=axes[i][0], title=col, bins=50, label=col, legend=True).set(\n",
        "                ylabel='количество', xlabel=col)\n",
        "            sns.boxplot(x=col, data=df, ax=axes[i][1]).set(title=col)\n",
        "            i+=1\n",
        "    else:\n",
        "        fig,axes = plt.subplots(nrows=1, ncols=2, figsize=(15, x))\n",
        "        for col in list_col:\n",
        "            df[col].plot(kind='hist', x=col, ax=axes[0], title=col, bins=50, label=col, legend=True).set(\n",
        "                ylabel='количество', xlabel=col)\n",
        "            sns.boxplot(x=col, data=df, ax=axes[1]).set(title=col)\n",
        "\n",
        "    plt.show()"
      ]
    },
    {
      "cell_type": "code",
      "execution_count": null,
      "metadata": {
        "scrolled": false,
        "id": "e3H5urp_zorl",
        "outputId": "422158d7-ef78-47b5-b830-24465936c42e"
      },
      "outputs": [
        {
          "name": "stdout",
          "output_type": "stream",
          "text": [
            "Распределение количественных признаков geo_data_0:\n"
          ]
        },
        {
          "data": {
            "text/html": [
              "<div>\n",
              "<style scoped>\n",
              "    .dataframe tbody tr th:only-of-type {\n",
              "        vertical-align: middle;\n",
              "    }\n",
              "\n",
              "    .dataframe tbody tr th {\n",
              "        vertical-align: top;\n",
              "    }\n",
              "\n",
              "    .dataframe thead th {\n",
              "        text-align: right;\n",
              "    }\n",
              "</style>\n",
              "<table border=\"1\" class=\"dataframe\">\n",
              "  <thead>\n",
              "    <tr style=\"text-align: right;\">\n",
              "      <th></th>\n",
              "      <th>f0</th>\n",
              "      <th>f1</th>\n",
              "      <th>f2</th>\n",
              "      <th>product</th>\n",
              "    </tr>\n",
              "  </thead>\n",
              "  <tbody>\n",
              "    <tr>\n",
              "      <th>count</th>\n",
              "      <td>100000.000000</td>\n",
              "      <td>100000.000000</td>\n",
              "      <td>100000.000000</td>\n",
              "      <td>100000.000000</td>\n",
              "    </tr>\n",
              "    <tr>\n",
              "      <th>mean</th>\n",
              "      <td>0.500419</td>\n",
              "      <td>0.250143</td>\n",
              "      <td>2.502647</td>\n",
              "      <td>92.500000</td>\n",
              "    </tr>\n",
              "    <tr>\n",
              "      <th>std</th>\n",
              "      <td>0.871832</td>\n",
              "      <td>0.504433</td>\n",
              "      <td>3.248248</td>\n",
              "      <td>44.288691</td>\n",
              "    </tr>\n",
              "    <tr>\n",
              "      <th>min</th>\n",
              "      <td>-1.408605</td>\n",
              "      <td>-0.848218</td>\n",
              "      <td>-12.088328</td>\n",
              "      <td>0.000000</td>\n",
              "    </tr>\n",
              "    <tr>\n",
              "      <th>25%</th>\n",
              "      <td>-0.072580</td>\n",
              "      <td>-0.200881</td>\n",
              "      <td>0.287748</td>\n",
              "      <td>56.497507</td>\n",
              "    </tr>\n",
              "    <tr>\n",
              "      <th>50%</th>\n",
              "      <td>0.502360</td>\n",
              "      <td>0.250252</td>\n",
              "      <td>2.515969</td>\n",
              "      <td>91.849972</td>\n",
              "    </tr>\n",
              "    <tr>\n",
              "      <th>75%</th>\n",
              "      <td>1.073581</td>\n",
              "      <td>0.700646</td>\n",
              "      <td>4.715088</td>\n",
              "      <td>128.564089</td>\n",
              "    </tr>\n",
              "    <tr>\n",
              "      <th>max</th>\n",
              "      <td>2.362331</td>\n",
              "      <td>1.343769</td>\n",
              "      <td>16.003790</td>\n",
              "      <td>185.364347</td>\n",
              "    </tr>\n",
              "  </tbody>\n",
              "</table>\n",
              "</div>"
            ],
            "text/plain": [
              "                  f0             f1             f2        product\n",
              "count  100000.000000  100000.000000  100000.000000  100000.000000\n",
              "mean        0.500419       0.250143       2.502647      92.500000\n",
              "std         0.871832       0.504433       3.248248      44.288691\n",
              "min        -1.408605      -0.848218     -12.088328       0.000000\n",
              "25%        -0.072580      -0.200881       0.287748      56.497507\n",
              "50%         0.502360       0.250252       2.515969      91.849972\n",
              "75%         1.073581       0.700646       4.715088     128.564089\n",
              "max         2.362331       1.343769      16.003790     185.364347"
            ]
          },
          "metadata": {},
          "output_type": "display_data"
        },
        {
          "data": {
            "image/png": "[encoded data removed]",
            "text/plain": [
              "<Figure size 1080x1440 with 8 Axes>"
            ]
          },
          "metadata": {
            "needs_background": "light"
          },
          "output_type": "display_data"
        },
        {
          "name": "stdout",
          "output_type": "stream",
          "text": [
            "Распределение количественных признаков geo_data_1:\n"
          ]
        },
        {
          "data": {
            "text/html": [
              "<div>\n",
              "<style scoped>\n",
              "    .dataframe tbody tr th:only-of-type {\n",
              "        vertical-align: middle;\n",
              "    }\n",
              "\n",
              "    .dataframe tbody tr th {\n",
              "        vertical-align: top;\n",
              "    }\n",
              "\n",
              "    .dataframe thead th {\n",
              "        text-align: right;\n",
              "    }\n",
              "</style>\n",
              "<table border=\"1\" class=\"dataframe\">\n",
              "  <thead>\n",
              "    <tr style=\"text-align: right;\">\n",
              "      <th></th>\n",
              "      <th>f0</th>\n",
              "      <th>f1</th>\n",
              "      <th>f2</th>\n",
              "      <th>product</th>\n",
              "    </tr>\n",
              "  </thead>\n",
              "  <tbody>\n",
              "    <tr>\n",
              "      <th>count</th>\n",
              "      <td>100000.000000</td>\n",
              "      <td>100000.000000</td>\n",
              "      <td>100000.000000</td>\n",
              "      <td>100000.000000</td>\n",
              "    </tr>\n",
              "    <tr>\n",
              "      <th>mean</th>\n",
              "      <td>1.141296</td>\n",
              "      <td>-4.796579</td>\n",
              "      <td>2.494541</td>\n",
              "      <td>68.825000</td>\n",
              "    </tr>\n",
              "    <tr>\n",
              "      <th>std</th>\n",
              "      <td>8.965932</td>\n",
              "      <td>5.119872</td>\n",
              "      <td>1.703572</td>\n",
              "      <td>45.944423</td>\n",
              "    </tr>\n",
              "    <tr>\n",
              "      <th>min</th>\n",
              "      <td>-31.609576</td>\n",
              "      <td>-26.358598</td>\n",
              "      <td>-0.018144</td>\n",
              "      <td>0.000000</td>\n",
              "    </tr>\n",
              "    <tr>\n",
              "      <th>25%</th>\n",
              "      <td>-6.298551</td>\n",
              "      <td>-8.267985</td>\n",
              "      <td>1.000021</td>\n",
              "      <td>26.953261</td>\n",
              "    </tr>\n",
              "    <tr>\n",
              "      <th>50%</th>\n",
              "      <td>1.153055</td>\n",
              "      <td>-4.813172</td>\n",
              "      <td>2.011479</td>\n",
              "      <td>57.085625</td>\n",
              "    </tr>\n",
              "    <tr>\n",
              "      <th>75%</th>\n",
              "      <td>8.621015</td>\n",
              "      <td>-1.332816</td>\n",
              "      <td>3.999904</td>\n",
              "      <td>107.813044</td>\n",
              "    </tr>\n",
              "    <tr>\n",
              "      <th>max</th>\n",
              "      <td>29.421755</td>\n",
              "      <td>18.734063</td>\n",
              "      <td>5.019721</td>\n",
              "      <td>137.945408</td>\n",
              "    </tr>\n",
              "  </tbody>\n",
              "</table>\n",
              "</div>"
            ],
            "text/plain": [
              "                  f0             f1             f2        product\n",
              "count  100000.000000  100000.000000  100000.000000  100000.000000\n",
              "mean        1.141296      -4.796579       2.494541      68.825000\n",
              "std         8.965932       5.119872       1.703572      45.944423\n",
              "min       -31.609576     -26.358598      -0.018144       0.000000\n",
              "25%        -6.298551      -8.267985       1.000021      26.953261\n",
              "50%         1.153055      -4.813172       2.011479      57.085625\n",
              "75%         8.621015      -1.332816       3.999904     107.813044\n",
              "max        29.421755      18.734063       5.019721     137.945408"
            ]
          },
          "metadata": {},
          "output_type": "display_data"
        },
        {
          "data": {
            "image/png": "[encoded data removed]",
            "text/plain": [
              "<Figure size 1080x1440 with 8 Axes>"
            ]
          },
          "metadata": {
            "needs_background": "light"
          },
          "output_type": "display_data"
        },
        {
          "name": "stdout",
          "output_type": "stream",
          "text": [
            "Распределение количественных признаков geo_data_2:\n"
          ]
        },
        {
          "data": {
            "text/html": [
              "<div>\n",
              "<style scoped>\n",
              "    .dataframe tbody tr th:only-of-type {\n",
              "        vertical-align: middle;\n",
              "    }\n",
              "\n",
              "    .dataframe tbody tr th {\n",
              "        vertical-align: top;\n",
              "    }\n",
              "\n",
              "    .dataframe thead th {\n",
              "        text-align: right;\n",
              "    }\n",
              "</style>\n",
              "<table border=\"1\" class=\"dataframe\">\n",
              "  <thead>\n",
              "    <tr style=\"text-align: right;\">\n",
              "      <th></th>\n",
              "      <th>f0</th>\n",
              "      <th>f1</th>\n",
              "      <th>f2</th>\n",
              "      <th>product</th>\n",
              "    </tr>\n",
              "  </thead>\n",
              "  <tbody>\n",
              "    <tr>\n",
              "      <th>count</th>\n",
              "      <td>100000.000000</td>\n",
              "      <td>100000.000000</td>\n",
              "      <td>100000.000000</td>\n",
              "      <td>100000.000000</td>\n",
              "    </tr>\n",
              "    <tr>\n",
              "      <th>mean</th>\n",
              "      <td>0.002023</td>\n",
              "      <td>-0.002081</td>\n",
              "      <td>2.495128</td>\n",
              "      <td>95.000000</td>\n",
              "    </tr>\n",
              "    <tr>\n",
              "      <th>std</th>\n",
              "      <td>1.732045</td>\n",
              "      <td>1.730417</td>\n",
              "      <td>3.473445</td>\n",
              "      <td>44.749921</td>\n",
              "    </tr>\n",
              "    <tr>\n",
              "      <th>min</th>\n",
              "      <td>-8.760004</td>\n",
              "      <td>-7.084020</td>\n",
              "      <td>-11.970335</td>\n",
              "      <td>0.000000</td>\n",
              "    </tr>\n",
              "    <tr>\n",
              "      <th>25%</th>\n",
              "      <td>-1.162288</td>\n",
              "      <td>-1.174820</td>\n",
              "      <td>0.130359</td>\n",
              "      <td>59.450441</td>\n",
              "    </tr>\n",
              "    <tr>\n",
              "      <th>50%</th>\n",
              "      <td>0.009424</td>\n",
              "      <td>-0.009482</td>\n",
              "      <td>2.484236</td>\n",
              "      <td>94.925613</td>\n",
              "    </tr>\n",
              "    <tr>\n",
              "      <th>75%</th>\n",
              "      <td>1.158535</td>\n",
              "      <td>1.163678</td>\n",
              "      <td>4.858794</td>\n",
              "      <td>130.595027</td>\n",
              "    </tr>\n",
              "    <tr>\n",
              "      <th>max</th>\n",
              "      <td>7.238262</td>\n",
              "      <td>7.844801</td>\n",
              "      <td>16.739402</td>\n",
              "      <td>190.029838</td>\n",
              "    </tr>\n",
              "  </tbody>\n",
              "</table>\n",
              "</div>"
            ],
            "text/plain": [
              "                  f0             f1             f2        product\n",
              "count  100000.000000  100000.000000  100000.000000  100000.000000\n",
              "mean        0.002023      -0.002081       2.495128      95.000000\n",
              "std         1.732045       1.730417       3.473445      44.749921\n",
              "min        -8.760004      -7.084020     -11.970335       0.000000\n",
              "25%        -1.162288      -1.174820       0.130359      59.450441\n",
              "50%         0.009424      -0.009482       2.484236      94.925613\n",
              "75%         1.158535       1.163678       4.858794     130.595027\n",
              "max         7.238262       7.844801      16.739402     190.029838"
            ]
          },
          "metadata": {},
          "output_type": "display_data"
        },
        {
          "data": {
            "image/png": "[encoded data removed]",
            "text/plain": [
              "<Figure size 1080x1440 with 8 Axes>"
            ]
          },
          "metadata": {
            "needs_background": "light"
          },
          "output_type": "display_data"
        }
      ],
      "source": [
        "for i in range(0,3):\n",
        "    geo = globals()['geo_data_'+str(i)]\n",
        "    print('Распределение количественных признаков geo_data_'+str(i)+':')\n",
        "    issl_analiz(geo, 20)"
      ]
    },
    {
      "cell_type": "markdown",
      "metadata": {
        "id": "a6aYXxwUzorl"
      },
      "source": [
        "В регионе 0 нормально распределён только признак f2, распределение f0 имеет 4 пика, f1 3 пика, product распределён с провалами.\n",
        "\n",
        "В регионе 1 нормально распределён признак f1, распределение f0 имеет 2 пика, f2 и product имеют мало уникальных значений (product в каждой группе примерно одинаковое количество наблюдений, f2 с провалом посередине на значениях около 2 и около 3).\n",
        "\n",
        "В регионе 2 признаки f0-f2 нормально распределены, product распределён с провалами."
      ]
    },
    {
      "cell_type": "code",
      "execution_count": null,
      "metadata": {
        "id": "VbxVNsugzorm",
        "outputId": "28d0b47f-1444-4af3-fb9f-d3bafa67bdc8"
      },
      "outputs": [
        {
          "data": {
            "image/png": "[encoded data removed]",
            "text/plain": [
              "<Figure size 1152x288 with 6 Axes>"
            ]
          },
          "metadata": {
            "needs_background": "light"
          },
          "output_type": "display_data"
        }
      ],
      "source": [
        "fig,axes = plt.subplots(nrows=1, ncols=3, figsize=(16, 4))\n",
        "for i in range(0,3):\n",
        "    geo = globals()['geo_data_'+str(i)]\n",
        "    sns.heatmap(geo.corr(method='spearman'), annot=True, cmap='coolwarm', vmin=-1, fmt='.2f', ax=axes[i]).set(\n",
        "        title='Корреляция числовых признаков \\n geo_data_'+str(i))\n",
        "\n",
        "plt.show()"
      ]
    },
    {
      "cell_type": "markdown",
      "metadata": {
        "id": "J-os-kr9zorm"
      },
      "source": [
        "В регионе 1 признак f2 имеет мультиколлинеарность с целевым признаком product (объёмом запасов нефти в скважине).\n",
        "\n",
        "В регионе 0 f0 и f1 имеют слабую отрицательную связь, в регионах 0 и 2 f2 и целевой признак - слабую положительную связь.\n",
        "\n",
        "Остальные признаки не имеют связи или очень слабую."
      ]
    },
    {
      "cell_type": "markdown",
      "metadata": {
        "id": "13Cgwqsizorm"
      },
      "source": [
        "Смысл входящих признаков нам неизвестен и их всего 3. Веских причин удалять какие-либо признаки нет (дальних выбросов нет, мультиколлениарности между входящими тоже нет)."
      ]
    },
    {
      "cell_type": "markdown",
      "metadata": {
        "id": "hsAbmhMGzorm"
      },
      "source": [
        "## Обучение и проверка модели"
      ]
    },
    {
      "cell_type": "markdown",
      "metadata": {
        "id": "oZFyZVUFzorm"
      },
      "source": [
        "### Разбейте данные на обучающую и валидационную выборки в соотношении 75:25"
      ]
    },
    {
      "cell_type": "code",
      "execution_count": null,
      "metadata": {
        "id": "epql47y4zorm"
      },
      "outputs": [],
      "source": [
        "RANDOM_STATE = 42\n",
        "TEST_SIZE = 0.25\n",
        "\n",
        "def tt_split (df):\n",
        "    X = df.drop(['id', 'product'], axis=1)\n",
        "    y = df['product']\n",
        "    X_train, X_test, y_train, y_test = train_test_split(X, y, test_size = TEST_SIZE,\n",
        "                                                        random_state = RANDOM_STATE)\n",
        "    return X_train, X_test, y_train, y_test"
      ]
    },
    {
      "cell_type": "markdown",
      "metadata": {
        "id": "CY3ifkISzorn"
      },
      "source": [
        "###  Обучите модель и сделайте предсказания на валидационной выборке"
      ]
    },
    {
      "cell_type": "code",
      "execution_count": null,
      "metadata": {
        "id": "_12VpGfDzorn"
      },
      "outputs": [],
      "source": [
        "data_preprocessor = ColumnTransformer(\n",
        "    [\n",
        "        ('num', StandardScaler(), ['f0', 'f1', 'f2'])\n",
        "    ],\n",
        "    remainder='passthrough') # verbose_feature_names_out=False)\n",
        "\n",
        "pipe_final = Pipeline(\n",
        "    [\n",
        "        ('preprocessor', data_preprocessor),\n",
        "        ('models', LinearRegression())\n",
        "    ]\n",
        ")\n",
        "\n",
        "param_grid = [\n",
        "    # словарь для модели LinearRegression()\n",
        "    {\n",
        "        'models': [LinearRegression()],\n",
        "        'preprocessor__num': [StandardScaler(), MinMaxScaler(), 'passthrough']\n",
        "    },\n",
        "]\n",
        "\n",
        "grid = GridSearchCV(\n",
        "    pipe_final,\n",
        "    param_grid=param_grid,\n",
        "    cv=5,\n",
        "    scoring='neg_root_mean_squared_error',\n",
        "    n_jobs=-1\n",
        ")\n",
        "\n",
        "\n",
        "def geo_rmse_pred(df):\n",
        "    X_train, X_test, y_train, y_test = tt_split(df)\n",
        "    grid.fit(X_train, y_train)\n",
        "    #print('Лучшая модель и её параметры:\\n\\n', grid.best_estimator_)\n",
        "    print('Метрика RMSE на кросс-валидации:', round(-grid.best_score_, 4))\n",
        "    y_pred = grid.best_estimator_.predict(X_test)\n",
        "    print('Метрика RMSE на тестовой выборке:', round(mean_squared_error(y_test, y_pred, squared=False), 4))\n",
        "    print('Cредний запас предсказанного сырья:', round(y_pred.mean(), 4), 'тыс. баррелей')\n",
        "    return y_test, y_pred\n"
      ]
    },
    {
      "cell_type": "markdown",
      "metadata": {
        "id": "jZpelcmnzoro"
      },
      "source": [
        "###  Сохраните предсказания и правильные ответы на валидационной выборке"
      ]
    },
    {
      "cell_type": "markdown",
      "metadata": {
        "id": "yhbh3ezjzoro"
      },
      "source": [
        "###  Напечатайте на экране средний запас предсказанного сырья и RMSE модели"
      ]
    },
    {
      "cell_type": "code",
      "execution_count": null,
      "metadata": {
        "id": "Kip0IuCxzoro",
        "outputId": "60c7ecee-ecb8-4051-c9e1-e7c6e596e2cd"
      },
      "outputs": [
        {
          "name": "stdout",
          "output_type": "stream",
          "text": [
            "Линейная регрессия для geo_data_0:\n",
            "Метрика RMSE на кросс-валидации: 37.672\n",
            "Метрика RMSE на тестовой выборке: 37.7566\n",
            "Cредний запас предсказанного сырья: 92.3988 тыс. баррелей\n",
            "\n",
            "Линейная регрессия для geo_data_1:\n",
            "Метрика RMSE на кросс-валидации: 0.8905\n",
            "Метрика RMSE на тестовой выборке: 0.8903\n",
            "Cредний запас предсказанного сырья: 68.7129 тыс. баррелей\n",
            "\n",
            "Линейная регрессия для geo_data_2:\n",
            "Метрика RMSE на кросс-валидации: 40.027\n",
            "Метрика RMSE на тестовой выборке: 40.1459\n",
            "Cредний запас предсказанного сырья: 94.771 тыс. баррелей\n"
          ]
        }
      ],
      "source": [
        "print('Линейная регрессия для geo_data_0:')\n",
        "y_test_0, y_pred_0 = geo_rmse_pred(geo_data_0)\n",
        "\n",
        "print()\n",
        "print('Линейная регрессия для geo_data_1:')\n",
        "y_test_1, y_pred_1 = geo_rmse_pred(geo_data_1)\n",
        "\n",
        "print()\n",
        "print('Линейная регрессия для geo_data_2:')\n",
        "y_test_2, y_pred_2 = geo_rmse_pred(geo_data_2)"
      ]
    },
    {
      "cell_type": "markdown",
      "metadata": {
        "id": "CYXtFi7kzoro"
      },
      "source": [
        "###  Проанализируйте результаты"
      ]
    },
    {
      "cell_type": "markdown",
      "metadata": {
        "id": "aMiRXDvGzorp"
      },
      "source": [
        "Лучшая RMSE получилась в регионе 1 (датасет geo_data_1), но и запас сырья там меньше, чем в остальных регионах."
      ]
    },
    {
      "cell_type": "markdown",
      "metadata": {
        "id": "G37fY7Irzorp"
      },
      "source": [
        "## Подготовка к расчёту прибыли"
      ]
    },
    {
      "cell_type": "markdown",
      "metadata": {
        "id": "arpeXqthzorp"
      },
      "source": [
        "###  Все ключевые значения для расчётов сохраните в отдельных переменных"
      ]
    },
    {
      "cell_type": "code",
      "execution_count": null,
      "metadata": {
        "id": "dy36NIpDzorp"
      },
      "outputs": [],
      "source": [
        "budjet = 10\n",
        "revenue_barr = 450\n",
        "bests = 200"
      ]
    },
    {
      "cell_type": "markdown",
      "metadata": {
        "id": "zmCbLo9Jzorq"
      },
      "source": [
        "###  Рассчитайте достаточный объём сырья для безубыточной разработки новой скважины. Сравните полученный объём сырья со средним запасом в каждом регионе."
      ]
    },
    {
      "cell_type": "code",
      "execution_count": null,
      "metadata": {
        "id": "PCih8TCXzorq",
        "outputId": "60d66f5f-bf9a-41f9-d179-c17544062fbe"
      },
      "outputs": [
        {
          "name": "stdout",
          "output_type": "stream",
          "text": [
            "Бюджет на разработку скважин каждого региона, млрд. рублей: 10\n",
            "Доход с одной единицы продукта, т.е. с 1 тыс. баррелей, тыс. рублей: 450\n",
            "Для окупаемости бюджета в одном регионе нужно добыть не менее 22222.2222 тыс. баррелей сырья\n",
            "Т.е. в среднем с одной скважины из 200 лучших нужно добыть не менее 111.1111 тыс.баррелей\n"
          ]
        }
      ],
      "source": [
        "print('Бюджет на разработку скважин каждого региона, млрд. рублей:', budjet)\n",
        "print('Доход с одной единицы продукта, т.е. с 1 тыс. баррелей, тыс. рублей:', revenue_barr)\n",
        "product_geo_ok = budjet*1000000/revenue_barr\n",
        "print('Для окупаемости бюджета в одном регионе нужно добыть не менее', round(product_geo_ok, 4), 'тыс. баррелей сырья')\n",
        "print('Т.е. в среднем с одной скважины из 200 лучших нужно добыть не менее',round(product_geo_ok/bests, 4),'тыс.баррелей')"
      ]
    },
    {
      "cell_type": "markdown",
      "metadata": {
        "id": "1X-_ty5Yzorq"
      },
      "source": [
        "Во всех трёх регионах средняя добыча с одной скважины меньше требуемого объёма для окупаемости затрат."
      ]
    },
    {
      "cell_type": "markdown",
      "metadata": {
        "id": "MqlQjKtmzors"
      },
      "source": [
        "###  Напишите выводы по этапу подготовки расчёта прибыли"
      ]
    },
    {
      "cell_type": "markdown",
      "metadata": {
        "id": "FOyFCEa8zors"
      },
      "source": [
        "Во всех трёх регионах средняя добыча с одной скважины меньше требуемого объёма для окупаемости затрат, поэтому важно выбрать правильные 200 скважин, чтоб прибыль была не ниже 0."
      ]
    },
    {
      "cell_type": "markdown",
      "metadata": {
        "id": "5PI1SqkQzors"
      },
      "source": [
        "## Расчёт прибыли и рисков - функция для расчёта прибыли по выбранным скважинам и предсказаниям модели"
      ]
    },
    {
      "cell_type": "code",
      "execution_count": null,
      "metadata": {
        "id": "SZV5ZPKezors"
      },
      "outputs": [],
      "source": [
        "def geo_profit (df_zip):\n",
        "    # Выберите скважины с максимальными значениями предсказаний\n",
        "    df200 = df_zip.sort_values(by='pred', ascending=False).head(bests)\n",
        "\n",
        "    # Просуммируйте целевое значение объёма сырья, соответствующее этим предсказаниям\n",
        "    product200 = df200['test'].sum() # тыс.баррелей\n",
        "\n",
        "    # Рассчитайте прибыль для полученного объёма сырья\n",
        "    profit200 = product200 * revenue_barr / 1000000 - budjet # млрд.рублей\n",
        "\n",
        "    # проверка на попадание в 200 лучших дублей скважин\n",
        "    #geo_id = df200['id'].value_counts()\n",
        "    #geo_id = geo_id[geo_id>1]\n",
        "    #display(df200.query('id in @geo_id.index').sort_values(by='id'))\n",
        "\n",
        "    return profit200"
      ]
    },
    {
      "cell_type": "code",
      "execution_count": null,
      "metadata": {
        "id": "qF2p9sHgzort"
      },
      "outputs": [],
      "source": [
        "# вспомогательная функция для сборки id скважин, фактической добычи и предсказаний в 1 датафрейм\n",
        "def geo_zip(df, y_test, y_pred):\n",
        "    return pd.DataFrame(zip(y_test, y_pred), columns=['test','pred']).join(df['id'])"
      ]
    },
    {
      "cell_type": "code",
      "execution_count": null,
      "metadata": {
        "id": "5s7LSbYizort",
        "outputId": "1714ef28-d457-4cba-a3be-b571dc949760"
      },
      "outputs": [
        {
          "data": {
            "text/plain": [
              "3.3591411144621794"
            ]
          },
          "execution_count": 19,
          "metadata": {},
          "output_type": "execute_result"
        }
      ],
      "source": [
        "geo_profit(geo_zip(geo_data_0, y_test_0, y_pred_0))"
      ]
    },
    {
      "cell_type": "code",
      "execution_count": null,
      "metadata": {
        "scrolled": false,
        "id": "jNkzzuKDzort",
        "outputId": "a5dcbeb0-1a43-4bd6-a878-2f6f553538c3"
      },
      "outputs": [
        {
          "data": {
            "text/plain": [
              "2.415086696681513"
            ]
          },
          "execution_count": 20,
          "metadata": {},
          "output_type": "execute_result"
        }
      ],
      "source": [
        "geo_profit(geo_zip(geo_data_1, y_test_1, y_pred_1))"
      ]
    },
    {
      "cell_type": "code",
      "execution_count": null,
      "metadata": {
        "id": "wak9ayIYzoru",
        "outputId": "1e72ac91-f5bd-4d6a-ba0b-38f4bf2155b8"
      },
      "outputs": [
        {
          "data": {
            "text/plain": [
              "2.598571759374112"
            ]
          },
          "execution_count": 21,
          "metadata": {},
          "output_type": "execute_result"
        }
      ],
      "source": [
        "geo_profit(geo_zip(geo_data_2, y_test_2, y_pred_2))"
      ]
    },
    {
      "cell_type": "markdown",
      "metadata": {
        "id": "y3Igkyiwzoru"
      },
      "source": [
        "На всякий случай проверила функцию на трёх регионах - везде положительная прибыль (но это на 200 лучших скважин из всех 25 тыс. известных тестовых, без бутстрепа)."
      ]
    },
    {
      "cell_type": "markdown",
      "metadata": {
        "id": "CNjMmpHOzorv"
      },
      "source": [
        "## Расчёт прибыли и рисков для каждого региона - применение Bootstrap"
      ]
    },
    {
      "cell_type": "markdown",
      "metadata": {
        "id": "rjwTUnWqzorv"
      },
      "source": [
        "###  Примените технику Bootstrap с 1000 выборок, чтобы найти распределение прибыли"
      ]
    },
    {
      "cell_type": "code",
      "execution_count": null,
      "metadata": {
        "id": "YEc-8BF-zorv"
      },
      "outputs": [],
      "source": [
        "def bootstrap(df_geo_zip):\n",
        "    state = np.random.RandomState(12345)\n",
        "    values = []\n",
        "    for i in range(1000):\n",
        "        df_geo_zip_sub = df_geo_zip.sample(500, random_state=state, replace=True)\n",
        "        values.append(geo_profit(df_geo_zip_sub))\n",
        "\n",
        "    values = pd.Series(values)\n",
        "    mean = values.mean()\n",
        "    risk = len(values[values<0])/len(values)\n",
        "    print('Средняя прибыль:', round(mean, 4), 'млрд.рублей')\n",
        "    print('95%-й доверительный интервал:', round(values.quantile(0.025), 4), round(values.quantile(0.975), 4))\n",
        "    print('Вероятность убытков:', round(risk*100, 4), '%')\n",
        "    values.plot(kind='hist', title='Распределение прибыли', bins=50, label='прибыль', legend=True)\n",
        "    plt.vlines(x=values.quantile(0.025), ymin=0, ymax=65, color='red', label='доверительный\\nинтервал')\n",
        "    plt.vlines(x=values.quantile(0.975), ymin=0, ymax=65, color='red')\n",
        "    plt.legend()"
      ]
    },
    {
      "cell_type": "markdown",
      "metadata": {
        "id": "OeSIrawqzorw"
      },
      "source": [
        "###  Найдите среднюю прибыль, 95%-й доверительный интервал и риск убытков (убыток — это отрицательная прибыль)"
      ]
    },
    {
      "cell_type": "code",
      "execution_count": null,
      "metadata": {
        "scrolled": false,
        "id": "C-tlDyixzorw",
        "outputId": "032c778d-92ff-467b-d3e8-456a69f345c7"
      },
      "outputs": [
        {
          "name": "stdout",
          "output_type": "stream",
          "text": [
            "Результаты Bootstrap для региона 0:\n",
            "Средняя прибыль: 0.4063 млрд.рублей\n",
            "95%-й доверительный интервал: -0.1177 0.9117\n",
            "Вероятность убытков: 6.7 %\n"
          ]
        },
        {
          "data": {
            "image/png": "[encoded data removed]",
            "text/plain": [
              "<Figure size 432x288 with 1 Axes>"
            ]
          },
          "metadata": {
            "needs_background": "light"
          },
          "output_type": "display_data"
        }
      ],
      "source": [
        "print('Результаты Bootstrap для региона 0:')\n",
        "bootstrap(geo_zip(geo_data_0, y_test_0, y_pred_0))"
      ]
    },
    {
      "cell_type": "code",
      "execution_count": null,
      "metadata": {
        "id": "6c6z9qmczorw",
        "outputId": "d944b43f-557b-4d9e-d676-fe753cf687d4"
      },
      "outputs": [
        {
          "name": "stdout",
          "output_type": "stream",
          "text": [
            "Результаты Bootstrap для региона 1:\n",
            "Средняя прибыль: 0.4326 млрд.рублей\n",
            "95%-й доверительный интервал: 0.0168 0.816\n",
            "Вероятность убытков: 1.9 %\n"
          ]
        },
        {
          "data": {
            "image/png": "[encoded data removed]",
            "text/plain": [
              "<Figure size 432x288 with 1 Axes>"
            ]
          },
          "metadata": {
            "needs_background": "light"
          },
          "output_type": "display_data"
        }
      ],
      "source": [
        "print('Результаты Bootstrap для региона 1:')\n",
        "bootstrap(geo_zip(geo_data_1, y_test_1, y_pred_1))"
      ]
    },
    {
      "cell_type": "code",
      "execution_count": null,
      "metadata": {
        "id": "bhDbu40czorw",
        "outputId": "3b57c15e-bd24-4060-80c3-436782b2fadc"
      },
      "outputs": [
        {
          "name": "stdout",
          "output_type": "stream",
          "text": [
            "Результаты Bootstrap для региона 2:\n",
            "Средняя прибыль: 0.3774 млрд.рублей\n",
            "95%-й доверительный интервал: -0.1708 0.9018\n",
            "Вероятность убытков: 7.4 %\n"
          ]
        },
        {
          "data": {
            "image/png": "[encoded data removed]",
            "text/plain": [
              "<Figure size 432x288 with 1 Axes>"
            ]
          },
          "metadata": {
            "needs_background": "light"
          },
          "output_type": "display_data"
        }
      ],
      "source": [
        "print('Результаты Bootstrap для региона 2:')\n",
        "bootstrap(geo_zip(geo_data_2, y_test_2, y_pred_2))"
      ]
    },
    {
      "cell_type": "markdown",
      "metadata": {
        "id": "PQEVDb1izorx"
      },
      "source": [
        "###  Напишите выводы: предложите регион для разработки скважин и обоснуйте выбор"
      ]
    },
    {
      "cell_type": "markdown",
      "metadata": {
        "id": "oogw0JJ6zorx"
      },
      "source": [
        "**Выводы:** только в регионе 1 (geo_data_1) вероятность убытков ниже 2.5%, поэтому **регион 1** предлагается для разработки новых скважин.\n",
        "\n",
        "В нём же наибольшая средняя прибыль (и доверительный интервал начинается с положительного значения, в отличие от других регионов)."
      ]
    }
  ],
  "metadata": {
    "ExecuteTimeLog": [
      {
        "duration": 6980,
        "start_time": "2024-01-25T08:58:25.569Z"
      },
      {
        "duration": 1395,
        "start_time": "2024-01-25T08:58:35.469Z"
      },
      {
        "duration": 97,
        "start_time": "2024-01-25T09:02:13.944Z"
      },
      {
        "duration": 7,
        "start_time": "2024-01-25T09:02:45.742Z"
      },
      {
        "duration": 1627,
        "start_time": "2024-01-25T09:04:58.950Z"
      },
      {
        "duration": 25,
        "start_time": "2024-01-25T09:06:58.889Z"
      },
      {
        "duration": 21,
        "start_time": "2024-01-25T09:07:32.697Z"
      },
      {
        "duration": 23,
        "start_time": "2024-01-25T09:07:59.254Z"
      },
      {
        "duration": 71,
        "start_time": "2024-01-25T09:31:05.499Z"
      },
      {
        "duration": 68,
        "start_time": "2024-01-25T09:31:11.596Z"
      },
      {
        "duration": 73,
        "start_time": "2024-01-25T09:31:16.651Z"
      },
      {
        "duration": 32,
        "start_time": "2024-01-25T09:34:25.377Z"
      },
      {
        "duration": 27,
        "start_time": "2024-01-25T09:36:13.977Z"
      },
      {
        "duration": 27,
        "start_time": "2024-01-25T09:36:20.263Z"
      },
      {
        "duration": 3,
        "start_time": "2024-01-25T09:36:29.010Z"
      },
      {
        "duration": 8,
        "start_time": "2024-01-25T10:05:15.707Z"
      },
      {
        "duration": 7,
        "start_time": "2024-01-25T10:05:35.924Z"
      },
      {
        "duration": 1766,
        "start_time": "2024-01-25T10:07:13.426Z"
      },
      {
        "duration": 8,
        "start_time": "2024-01-25T10:08:39.835Z"
      },
      {
        "duration": 6,
        "start_time": "2024-01-25T10:08:49.365Z"
      },
      {
        "duration": 1610,
        "start_time": "2024-01-25T10:08:52.302Z"
      },
      {
        "duration": 7,
        "start_time": "2024-01-25T10:09:07.219Z"
      },
      {
        "duration": 1810,
        "start_time": "2024-01-25T10:09:13.237Z"
      },
      {
        "duration": 163,
        "start_time": "2024-01-25T10:21:04.082Z"
      },
      {
        "duration": 5945,
        "start_time": "2024-01-25T10:22:52.448Z"
      },
      {
        "duration": 5697,
        "start_time": "2024-01-25T10:23:17.339Z"
      },
      {
        "duration": 6228,
        "start_time": "2024-01-25T10:24:02.586Z"
      },
      {
        "duration": 5751,
        "start_time": "2024-01-25T10:24:15.595Z"
      },
      {
        "duration": 8,
        "start_time": "2024-01-25T10:25:50.096Z"
      },
      {
        "duration": 5734,
        "start_time": "2024-01-25T10:25:54.485Z"
      },
      {
        "duration": 5376,
        "start_time": "2024-01-25T10:42:26.589Z"
      },
      {
        "duration": 5548,
        "start_time": "2024-01-25T10:42:39.107Z"
      },
      {
        "duration": 7,
        "start_time": "2024-01-25T10:59:14.792Z"
      },
      {
        "duration": 4772,
        "start_time": "2024-01-25T10:59:17.538Z"
      },
      {
        "duration": 4669,
        "start_time": "2024-01-25T11:04:33.844Z"
      },
      {
        "duration": 7,
        "start_time": "2024-01-25T11:04:54.756Z"
      },
      {
        "duration": 4633,
        "start_time": "2024-01-25T11:04:57.038Z"
      },
      {
        "duration": 1216,
        "start_time": "2024-01-25T11:15:36.072Z"
      },
      {
        "duration": 1085,
        "start_time": "2024-01-25T11:15:49.214Z"
      },
      {
        "duration": 1132,
        "start_time": "2024-01-25T11:16:18.563Z"
      },
      {
        "duration": 1237,
        "start_time": "2024-01-25T11:16:39.559Z"
      },
      {
        "duration": 1138,
        "start_time": "2024-01-25T11:16:55.539Z"
      },
      {
        "duration": 1142,
        "start_time": "2024-01-25T11:17:03.778Z"
      },
      {
        "duration": 6383,
        "start_time": "2024-01-25T13:30:55.513Z"
      },
      {
        "duration": 1330,
        "start_time": "2024-01-25T13:31:01.898Z"
      },
      {
        "duration": 5,
        "start_time": "2024-01-25T13:31:03.230Z"
      },
      {
        "duration": 837,
        "start_time": "2024-01-25T13:31:03.244Z"
      },
      {
        "duration": 62,
        "start_time": "2024-01-25T13:31:04.082Z"
      },
      {
        "duration": 56,
        "start_time": "2024-01-25T13:31:04.146Z"
      },
      {
        "duration": 122,
        "start_time": "2024-01-25T13:31:04.203Z"
      },
      {
        "duration": 63,
        "start_time": "2024-01-25T13:31:04.326Z"
      },
      {
        "duration": 189,
        "start_time": "2024-01-25T13:31:04.391Z"
      },
      {
        "duration": 4026,
        "start_time": "2024-01-25T13:31:04.582Z"
      },
      {
        "duration": 1064,
        "start_time": "2024-01-25T13:31:08.610Z"
      },
      {
        "duration": 48,
        "start_time": "2024-01-25T13:35:55.758Z"
      },
      {
        "duration": 54,
        "start_time": "2024-01-25T13:36:24.541Z"
      },
      {
        "duration": 48,
        "start_time": "2024-01-25T13:37:16.450Z"
      },
      {
        "duration": 2655,
        "start_time": "2024-01-25T13:37:32.699Z"
      },
      {
        "duration": 2970,
        "start_time": "2024-01-25T13:39:56.917Z"
      },
      {
        "duration": 131,
        "start_time": "2024-01-25T13:43:58.703Z"
      },
      {
        "duration": 121,
        "start_time": "2024-01-25T13:44:11.294Z"
      },
      {
        "duration": 126,
        "start_time": "2024-01-25T13:46:09.876Z"
      },
      {
        "duration": 124,
        "start_time": "2024-01-25T13:52:23.978Z"
      },
      {
        "duration": 144,
        "start_time": "2024-01-25T13:53:38.652Z"
      },
      {
        "duration": 134,
        "start_time": "2024-01-25T14:05:46.733Z"
      },
      {
        "duration": 131,
        "start_time": "2024-01-25T14:07:45.150Z"
      },
      {
        "duration": 130,
        "start_time": "2024-01-25T14:07:56.694Z"
      },
      {
        "duration": 141,
        "start_time": "2024-01-25T14:08:12.244Z"
      },
      {
        "duration": 147,
        "start_time": "2024-01-25T14:08:38.202Z"
      },
      {
        "duration": 133,
        "start_time": "2024-01-25T14:09:48.361Z"
      },
      {
        "duration": 129,
        "start_time": "2024-01-25T14:10:14.846Z"
      },
      {
        "duration": 129,
        "start_time": "2024-01-25T14:10:28.166Z"
      },
      {
        "duration": 137,
        "start_time": "2024-01-25T14:11:05.664Z"
      },
      {
        "duration": 165,
        "start_time": "2024-01-25T14:11:56.235Z"
      },
      {
        "duration": 134,
        "start_time": "2024-01-25T14:13:05.757Z"
      },
      {
        "duration": 139,
        "start_time": "2024-01-25T14:13:22.494Z"
      },
      {
        "duration": 151,
        "start_time": "2024-01-25T14:14:40.531Z"
      },
      {
        "duration": 140,
        "start_time": "2024-01-25T14:15:15.111Z"
      },
      {
        "duration": 133,
        "start_time": "2024-01-25T14:16:19.485Z"
      },
      {
        "duration": 132,
        "start_time": "2024-01-25T14:16:35.118Z"
      },
      {
        "duration": 83,
        "start_time": "2024-01-25T14:16:45.008Z"
      },
      {
        "duration": 145,
        "start_time": "2024-01-25T14:17:01.392Z"
      },
      {
        "duration": 137,
        "start_time": "2024-01-25T14:17:10.010Z"
      },
      {
        "duration": 132,
        "start_time": "2024-01-25T14:17:34.848Z"
      },
      {
        "duration": 51,
        "start_time": "2024-01-25T14:22:24.926Z"
      },
      {
        "duration": 69,
        "start_time": "2024-01-25T14:22:49.497Z"
      },
      {
        "duration": 66,
        "start_time": "2024-01-25T14:23:24.301Z"
      },
      {
        "duration": 75,
        "start_time": "2024-01-25T14:24:37.013Z"
      },
      {
        "duration": 72,
        "start_time": "2024-01-25T14:24:58.318Z"
      },
      {
        "duration": 148,
        "start_time": "2024-01-25T14:26:15.053Z"
      },
      {
        "duration": 147,
        "start_time": "2024-01-25T14:29:22.078Z"
      },
      {
        "duration": 6390,
        "start_time": "2024-01-26T06:14:47.066Z"
      },
      {
        "duration": 74,
        "start_time": "2024-01-26T06:14:53.458Z"
      },
      {
        "duration": 0,
        "start_time": "2024-01-26T06:14:53.534Z"
      },
      {
        "duration": 0,
        "start_time": "2024-01-26T06:14:53.535Z"
      },
      {
        "duration": 0,
        "start_time": "2024-01-26T06:14:53.536Z"
      },
      {
        "duration": 0,
        "start_time": "2024-01-26T06:14:53.537Z"
      },
      {
        "duration": 0,
        "start_time": "2024-01-26T06:14:53.538Z"
      },
      {
        "duration": 0,
        "start_time": "2024-01-26T06:14:53.539Z"
      },
      {
        "duration": 0,
        "start_time": "2024-01-26T06:14:53.540Z"
      },
      {
        "duration": 0,
        "start_time": "2024-01-26T06:14:53.541Z"
      },
      {
        "duration": 0,
        "start_time": "2024-01-26T06:14:53.542Z"
      },
      {
        "duration": 0,
        "start_time": "2024-01-26T06:14:53.543Z"
      },
      {
        "duration": 2766,
        "start_time": "2024-01-26T06:16:20.117Z"
      },
      {
        "duration": 1439,
        "start_time": "2024-01-26T06:16:22.885Z"
      },
      {
        "duration": 5,
        "start_time": "2024-01-26T06:16:24.326Z"
      },
      {
        "duration": 783,
        "start_time": "2024-01-26T06:16:24.333Z"
      },
      {
        "duration": 75,
        "start_time": "2024-01-26T06:16:25.118Z"
      },
      {
        "duration": 64,
        "start_time": "2024-01-26T06:16:25.195Z"
      },
      {
        "duration": 79,
        "start_time": "2024-01-26T06:16:25.261Z"
      },
      {
        "duration": 201,
        "start_time": "2024-01-26T06:16:25.342Z"
      },
      {
        "duration": 6,
        "start_time": "2024-01-26T06:16:25.544Z"
      },
      {
        "duration": 4161,
        "start_time": "2024-01-26T06:16:25.553Z"
      },
      {
        "duration": 1162,
        "start_time": "2024-01-26T06:16:29.715Z"
      },
      {
        "duration": 85,
        "start_time": "2024-01-26T06:16:30.878Z"
      },
      {
        "duration": 4,
        "start_time": "2024-01-26T06:17:53.961Z"
      },
      {
        "duration": 100,
        "start_time": "2024-01-26T07:57:48.288Z"
      },
      {
        "duration": 130,
        "start_time": "2024-01-26T07:58:02.952Z"
      },
      {
        "duration": 2828,
        "start_time": "2024-01-26T08:03:43.274Z"
      },
      {
        "duration": 1424,
        "start_time": "2024-01-26T08:03:46.105Z"
      },
      {
        "duration": 5,
        "start_time": "2024-01-26T08:03:47.531Z"
      },
      {
        "duration": 424,
        "start_time": "2024-01-26T08:03:47.538Z"
      },
      {
        "duration": 76,
        "start_time": "2024-01-26T08:03:47.964Z"
      },
      {
        "duration": 76,
        "start_time": "2024-01-26T08:03:48.041Z"
      },
      {
        "duration": 75,
        "start_time": "2024-01-26T08:03:48.119Z"
      },
      {
        "duration": 194,
        "start_time": "2024-01-26T08:03:48.195Z"
      },
      {
        "duration": 5,
        "start_time": "2024-01-26T08:03:48.391Z"
      },
      {
        "duration": 4240,
        "start_time": "2024-01-26T08:03:48.398Z"
      },
      {
        "duration": 1102,
        "start_time": "2024-01-26T08:03:52.640Z"
      },
      {
        "duration": 3,
        "start_time": "2024-01-26T08:03:53.744Z"
      },
      {
        "duration": 135,
        "start_time": "2024-01-26T08:03:53.748Z"
      },
      {
        "duration": 0,
        "start_time": "2024-01-26T08:03:53.884Z"
      },
      {
        "duration": 0,
        "start_time": "2024-01-26T08:03:53.885Z"
      },
      {
        "duration": 37,
        "start_time": "2024-01-26T08:14:36.102Z"
      },
      {
        "duration": 114,
        "start_time": "2024-01-26T08:14:56.949Z"
      },
      {
        "duration": 2047,
        "start_time": "2024-01-26T08:15:08.843Z"
      },
      {
        "duration": 16,
        "start_time": "2024-01-26T08:16:31.709Z"
      },
      {
        "duration": 12,
        "start_time": "2024-01-26T08:17:05.600Z"
      },
      {
        "duration": 14,
        "start_time": "2024-01-26T08:18:31.462Z"
      },
      {
        "duration": 27,
        "start_time": "2024-01-26T08:21:43.541Z"
      },
      {
        "duration": 27,
        "start_time": "2024-01-26T08:22:13.192Z"
      },
      {
        "duration": 38,
        "start_time": "2024-01-26T08:22:25.670Z"
      },
      {
        "duration": 2146,
        "start_time": "2024-01-26T08:22:33.537Z"
      },
      {
        "duration": 10,
        "start_time": "2024-01-26T08:22:41.083Z"
      },
      {
        "duration": 11,
        "start_time": "2024-01-26T08:31:44.217Z"
      },
      {
        "duration": 5,
        "start_time": "2024-01-26T08:31:56.075Z"
      },
      {
        "duration": 10,
        "start_time": "2024-01-26T08:32:16.652Z"
      },
      {
        "duration": 5,
        "start_time": "2024-01-26T08:32:19.401Z"
      },
      {
        "duration": 13,
        "start_time": "2024-01-26T08:45:54.464Z"
      },
      {
        "duration": 2259,
        "start_time": "2024-01-26T08:45:56.623Z"
      },
      {
        "duration": 11,
        "start_time": "2024-01-26T08:46:04.147Z"
      },
      {
        "duration": 11,
        "start_time": "2024-01-26T08:46:19.351Z"
      },
      {
        "duration": 2034,
        "start_time": "2024-01-26T08:46:23.549Z"
      },
      {
        "duration": 11,
        "start_time": "2024-01-26T08:46:30.003Z"
      },
      {
        "duration": 12,
        "start_time": "2024-01-26T08:46:45.655Z"
      },
      {
        "duration": 1930,
        "start_time": "2024-01-26T08:46:49.353Z"
      },
      {
        "duration": 13,
        "start_time": "2024-01-26T08:46:57.026Z"
      },
      {
        "duration": 4,
        "start_time": "2024-01-26T08:48:23.926Z"
      },
      {
        "duration": 3,
        "start_time": "2024-01-26T08:54:49.011Z"
      },
      {
        "duration": 6652,
        "start_time": "2024-01-26T08:57:59.834Z"
      },
      {
        "duration": 6671,
        "start_time": "2024-01-26T08:58:38.614Z"
      },
      {
        "duration": 7348,
        "start_time": "2024-01-26T09:04:28.747Z"
      },
      {
        "duration": 7267,
        "start_time": "2024-01-26T09:11:02.216Z"
      },
      {
        "duration": 2290,
        "start_time": "2024-01-26T09:39:00.696Z"
      },
      {
        "duration": 7,
        "start_time": "2024-01-26T09:40:30.733Z"
      },
      {
        "duration": 7276,
        "start_time": "2024-01-26T09:41:45.513Z"
      },
      {
        "duration": 4,
        "start_time": "2024-01-26T10:14:41.743Z"
      },
      {
        "duration": 7,
        "start_time": "2024-01-26T10:16:32.459Z"
      },
      {
        "duration": 6722,
        "start_time": "2024-01-26T10:16:37.070Z"
      },
      {
        "duration": 128,
        "start_time": "2024-01-26T10:25:33.302Z"
      },
      {
        "duration": 101,
        "start_time": "2024-01-26T10:25:55.890Z"
      },
      {
        "duration": 4,
        "start_time": "2024-01-26T10:26:38.795Z"
      },
      {
        "duration": 4,
        "start_time": "2024-01-26T10:27:26.457Z"
      },
      {
        "duration": 6,
        "start_time": "2024-01-26T10:44:24.886Z"
      },
      {
        "duration": 4,
        "start_time": "2024-01-26T10:44:29.911Z"
      },
      {
        "duration": 3,
        "start_time": "2024-01-26T10:49:29.754Z"
      },
      {
        "duration": 8,
        "start_time": "2024-01-26T11:04:19.453Z"
      },
      {
        "duration": 10,
        "start_time": "2024-01-26T11:05:00.617Z"
      },
      {
        "duration": 3,
        "start_time": "2024-01-26T11:06:38.338Z"
      },
      {
        "duration": 6,
        "start_time": "2024-01-26T11:06:40.650Z"
      },
      {
        "duration": 3,
        "start_time": "2024-01-26T11:06:57.133Z"
      },
      {
        "duration": 13,
        "start_time": "2024-01-26T11:06:59.460Z"
      },
      {
        "duration": 6,
        "start_time": "2024-01-26T11:07:42.911Z"
      },
      {
        "duration": 6,
        "start_time": "2024-01-26T11:08:10.966Z"
      },
      {
        "duration": 5,
        "start_time": "2024-01-26T11:08:22.685Z"
      },
      {
        "duration": 3,
        "start_time": "2024-01-26T11:14:33.938Z"
      },
      {
        "duration": 18,
        "start_time": "2024-01-26T11:14:35.486Z"
      },
      {
        "duration": 3,
        "start_time": "2024-01-26T11:14:55.308Z"
      },
      {
        "duration": 8,
        "start_time": "2024-01-26T11:14:57.513Z"
      },
      {
        "duration": 6,
        "start_time": "2024-01-26T11:15:53.108Z"
      },
      {
        "duration": 3,
        "start_time": "2024-01-26T11:16:24.233Z"
      },
      {
        "duration": 17,
        "start_time": "2024-01-26T11:16:26.145Z"
      },
      {
        "duration": 5,
        "start_time": "2024-01-26T11:16:41.716Z"
      },
      {
        "duration": 6,
        "start_time": "2024-01-26T11:17:02.723Z"
      },
      {
        "duration": 3,
        "start_time": "2024-01-26T11:19:09.884Z"
      },
      {
        "duration": 19,
        "start_time": "2024-01-26T11:19:19.968Z"
      },
      {
        "duration": 3,
        "start_time": "2024-01-26T11:19:23.029Z"
      },
      {
        "duration": 4,
        "start_time": "2024-01-26T11:21:44.713Z"
      },
      {
        "duration": 15,
        "start_time": "2024-01-26T11:21:48.048Z"
      },
      {
        "duration": 16,
        "start_time": "2024-01-26T11:22:01.041Z"
      },
      {
        "duration": 4,
        "start_time": "2024-01-26T11:22:03.826Z"
      },
      {
        "duration": 17,
        "start_time": "2024-01-26T11:22:05.536Z"
      },
      {
        "duration": 3,
        "start_time": "2024-01-26T11:22:26.419Z"
      },
      {
        "duration": 4,
        "start_time": "2024-01-26T11:30:04.480Z"
      },
      {
        "duration": 12,
        "start_time": "2024-01-26T11:30:06.468Z"
      },
      {
        "duration": 3,
        "start_time": "2024-01-26T11:30:16.882Z"
      },
      {
        "duration": 12,
        "start_time": "2024-01-26T11:30:18.880Z"
      },
      {
        "duration": 3,
        "start_time": "2024-01-26T11:31:22.618Z"
      },
      {
        "duration": 11,
        "start_time": "2024-01-26T11:31:25.590Z"
      },
      {
        "duration": 4,
        "start_time": "2024-01-26T11:37:51.940Z"
      },
      {
        "duration": 34,
        "start_time": "2024-01-26T11:37:54.421Z"
      },
      {
        "duration": 3,
        "start_time": "2024-01-26T11:39:12.983Z"
      },
      {
        "duration": 24,
        "start_time": "2024-01-26T11:39:15.091Z"
      },
      {
        "duration": 3,
        "start_time": "2024-01-26T11:40:01.387Z"
      },
      {
        "duration": 25,
        "start_time": "2024-01-26T11:40:02.831Z"
      },
      {
        "duration": 3,
        "start_time": "2024-01-26T11:40:39.962Z"
      },
      {
        "duration": 27,
        "start_time": "2024-01-26T11:40:41.641Z"
      },
      {
        "duration": 3,
        "start_time": "2024-01-26T11:41:27.961Z"
      },
      {
        "duration": 20,
        "start_time": "2024-01-26T11:41:29.547Z"
      },
      {
        "duration": 3,
        "start_time": "2024-01-26T11:42:06.412Z"
      },
      {
        "duration": 22,
        "start_time": "2024-01-26T11:42:08.752Z"
      },
      {
        "duration": 6,
        "start_time": "2024-01-26T11:46:37.551Z"
      },
      {
        "duration": 7173,
        "start_time": "2024-01-26T11:47:11.914Z"
      },
      {
        "duration": 10,
        "start_time": "2024-01-26T11:51:58.260Z"
      },
      {
        "duration": 14,
        "start_time": "2024-01-26T11:52:24.188Z"
      },
      {
        "duration": 13,
        "start_time": "2024-01-26T11:52:50.362Z"
      },
      {
        "duration": 6,
        "start_time": "2024-01-26T11:53:00.079Z"
      },
      {
        "duration": 10,
        "start_time": "2024-01-26T11:53:12.241Z"
      },
      {
        "duration": 1757,
        "start_time": "2024-01-26T11:53:38.663Z"
      },
      {
        "duration": 10,
        "start_time": "2024-01-26T11:54:02.973Z"
      },
      {
        "duration": 18,
        "start_time": "2024-01-26T11:55:01.037Z"
      },
      {
        "duration": 15,
        "start_time": "2024-01-26T11:55:29.517Z"
      },
      {
        "duration": 1369,
        "start_time": "2024-01-26T11:55:52.919Z"
      },
      {
        "duration": 14,
        "start_time": "2024-01-26T11:56:03.321Z"
      },
      {
        "duration": 1243,
        "start_time": "2024-01-26T11:56:39.555Z"
      },
      {
        "duration": 626,
        "start_time": "2024-01-26T11:57:08.849Z"
      },
      {
        "duration": 1371,
        "start_time": "2024-01-26T11:57:19.868Z"
      },
      {
        "duration": 13,
        "start_time": "2024-01-26T11:57:44.933Z"
      },
      {
        "duration": 13,
        "start_time": "2024-01-26T11:58:07.437Z"
      },
      {
        "duration": 6,
        "start_time": "2024-01-26T11:58:39.798Z"
      },
      {
        "duration": 6930,
        "start_time": "2024-01-26T11:59:25.163Z"
      },
      {
        "duration": 3,
        "start_time": "2024-01-26T12:00:26.057Z"
      },
      {
        "duration": 20,
        "start_time": "2024-01-26T12:00:28.399Z"
      },
      {
        "duration": 4,
        "start_time": "2024-01-26T12:01:03.922Z"
      },
      {
        "duration": 14,
        "start_time": "2024-01-26T12:01:07.052Z"
      },
      {
        "duration": 4,
        "start_time": "2024-01-26T12:01:49.209Z"
      },
      {
        "duration": 23,
        "start_time": "2024-01-26T12:01:50.884Z"
      },
      {
        "duration": 3,
        "start_time": "2024-01-26T12:03:20.766Z"
      },
      {
        "duration": 24,
        "start_time": "2024-01-26T12:03:22.253Z"
      },
      {
        "duration": 15,
        "start_time": "2024-01-26T12:03:29.741Z"
      },
      {
        "duration": 3,
        "start_time": "2024-01-26T12:04:21.742Z"
      },
      {
        "duration": 29,
        "start_time": "2024-01-26T12:04:23.684Z"
      },
      {
        "duration": 3,
        "start_time": "2024-01-26T12:04:50.102Z"
      },
      {
        "duration": 23,
        "start_time": "2024-01-26T12:04:51.918Z"
      },
      {
        "duration": 4,
        "start_time": "2024-01-26T12:05:57.829Z"
      },
      {
        "duration": 27,
        "start_time": "2024-01-26T12:06:00.153Z"
      },
      {
        "duration": 28,
        "start_time": "2024-01-26T12:07:20.424Z"
      },
      {
        "duration": 13,
        "start_time": "2024-01-26T12:07:54.251Z"
      },
      {
        "duration": 13,
        "start_time": "2024-01-26T12:08:13.211Z"
      },
      {
        "duration": 4,
        "start_time": "2024-01-26T12:09:03.334Z"
      },
      {
        "duration": 29,
        "start_time": "2024-01-26T12:09:08.818Z"
      },
      {
        "duration": 4,
        "start_time": "2024-01-26T12:09:38.381Z"
      },
      {
        "duration": 28,
        "start_time": "2024-01-26T12:09:39.933Z"
      },
      {
        "duration": 4,
        "start_time": "2024-01-26T12:15:46.949Z"
      },
      {
        "duration": 30,
        "start_time": "2024-01-26T12:15:49.137Z"
      },
      {
        "duration": 4,
        "start_time": "2024-01-26T12:22:00.133Z"
      },
      {
        "duration": 29,
        "start_time": "2024-01-26T12:22:02.201Z"
      },
      {
        "duration": 4,
        "start_time": "2024-01-26T12:25:36.949Z"
      },
      {
        "duration": 24,
        "start_time": "2024-01-26T12:25:38.639Z"
      },
      {
        "duration": 3,
        "start_time": "2024-01-26T12:26:27.213Z"
      },
      {
        "duration": 22,
        "start_time": "2024-01-26T12:26:29.630Z"
      },
      {
        "duration": 4,
        "start_time": "2024-01-26T12:27:17.003Z"
      },
      {
        "duration": 24,
        "start_time": "2024-01-26T12:27:19.130Z"
      },
      {
        "duration": 24,
        "start_time": "2024-01-26T12:27:30.827Z"
      },
      {
        "duration": 26,
        "start_time": "2024-01-26T12:27:59.102Z"
      },
      {
        "duration": 24,
        "start_time": "2024-01-26T12:28:22.039Z"
      },
      {
        "duration": 4,
        "start_time": "2024-01-26T12:29:33.697Z"
      },
      {
        "duration": 23,
        "start_time": "2024-01-26T12:29:36.118Z"
      },
      {
        "duration": 23,
        "start_time": "2024-01-26T12:29:38.826Z"
      },
      {
        "duration": 23,
        "start_time": "2024-01-26T12:29:51.274Z"
      },
      {
        "duration": 5,
        "start_time": "2024-01-26T12:35:39.889Z"
      },
      {
        "duration": 78,
        "start_time": "2024-01-26T12:35:42.050Z"
      },
      {
        "duration": 5,
        "start_time": "2024-01-26T12:36:16.444Z"
      },
      {
        "duration": 26,
        "start_time": "2024-01-26T12:36:18.778Z"
      },
      {
        "duration": 30,
        "start_time": "2024-01-26T12:36:25.468Z"
      },
      {
        "duration": 25,
        "start_time": "2024-01-26T12:36:29.657Z"
      },
      {
        "duration": 5,
        "start_time": "2024-01-26T15:41:49.215Z"
      },
      {
        "duration": 31,
        "start_time": "2024-01-26T15:41:51.219Z"
      },
      {
        "duration": 29,
        "start_time": "2024-01-26T15:41:55.178Z"
      },
      {
        "duration": 29,
        "start_time": "2024-01-26T15:41:59.351Z"
      },
      {
        "duration": 3,
        "start_time": "2024-01-26T15:49:33.531Z"
      },
      {
        "duration": 5,
        "start_time": "2024-01-26T15:54:41.793Z"
      },
      {
        "duration": 6,
        "start_time": "2024-01-26T15:57:17.742Z"
      },
      {
        "duration": 28,
        "start_time": "2024-01-26T15:57:20.172Z"
      },
      {
        "duration": 29,
        "start_time": "2024-01-26T15:57:27.118Z"
      },
      {
        "duration": 28,
        "start_time": "2024-01-26T15:57:29.882Z"
      },
      {
        "duration": 5,
        "start_time": "2024-01-26T15:58:12.164Z"
      },
      {
        "duration": 29,
        "start_time": "2024-01-26T15:58:14.567Z"
      },
      {
        "duration": 31,
        "start_time": "2024-01-26T15:58:19.229Z"
      },
      {
        "duration": 29,
        "start_time": "2024-01-26T15:58:21.126Z"
      },
      {
        "duration": 4,
        "start_time": "2024-01-26T16:05:37.535Z"
      },
      {
        "duration": 4,
        "start_time": "2024-01-26T16:05:43.002Z"
      },
      {
        "duration": 29,
        "start_time": "2024-01-26T16:05:45.615Z"
      },
      {
        "duration": 3,
        "start_time": "2024-01-26T16:06:15.566Z"
      },
      {
        "duration": 4,
        "start_time": "2024-01-26T16:06:19.738Z"
      },
      {
        "duration": 28,
        "start_time": "2024-01-26T16:06:21.993Z"
      },
      {
        "duration": 28,
        "start_time": "2024-01-26T16:07:36.629Z"
      },
      {
        "duration": 29,
        "start_time": "2024-01-26T16:07:40.860Z"
      },
      {
        "duration": 4,
        "start_time": "2024-01-26T16:08:32.624Z"
      },
      {
        "duration": 28,
        "start_time": "2024-01-26T16:08:35.092Z"
      },
      {
        "duration": 28,
        "start_time": "2024-01-26T16:08:38.749Z"
      },
      {
        "duration": 29,
        "start_time": "2024-01-26T16:08:41.966Z"
      },
      {
        "duration": 4,
        "start_time": "2024-01-26T16:08:51.514Z"
      },
      {
        "duration": 3,
        "start_time": "2024-01-26T16:08:54.012Z"
      },
      {
        "duration": 28,
        "start_time": "2024-01-26T16:08:55.588Z"
      },
      {
        "duration": 29,
        "start_time": "2024-01-26T16:08:57.421Z"
      },
      {
        "duration": 138,
        "start_time": "2024-01-26T16:08:59.032Z"
      },
      {
        "duration": 3,
        "start_time": "2024-01-26T16:22:59.173Z"
      },
      {
        "duration": 26,
        "start_time": "2024-01-26T16:23:20.808Z"
      },
      {
        "duration": 30,
        "start_time": "2024-01-26T16:23:27.844Z"
      },
      {
        "duration": 32,
        "start_time": "2024-01-26T16:23:29.893Z"
      },
      {
        "duration": 5,
        "start_time": "2024-01-26T16:24:34.044Z"
      },
      {
        "duration": 894,
        "start_time": "2024-01-26T16:25:23.836Z"
      },
      {
        "duration": 5,
        "start_time": "2024-01-26T16:27:35.607Z"
      },
      {
        "duration": 910,
        "start_time": "2024-01-26T16:27:38.978Z"
      },
      {
        "duration": 5,
        "start_time": "2024-01-26T16:29:11.966Z"
      },
      {
        "duration": 857,
        "start_time": "2024-01-26T16:29:13.900Z"
      },
      {
        "duration": 4,
        "start_time": "2024-01-26T16:29:41.276Z"
      },
      {
        "duration": 868,
        "start_time": "2024-01-26T16:29:43.691Z"
      },
      {
        "duration": 872,
        "start_time": "2024-01-26T16:32:08.997Z"
      },
      {
        "duration": 874,
        "start_time": "2024-01-26T16:33:10.925Z"
      },
      {
        "duration": 4,
        "start_time": "2024-01-26T16:34:54.916Z"
      },
      {
        "duration": 1062,
        "start_time": "2024-01-26T16:34:58.236Z"
      },
      {
        "duration": 4,
        "start_time": "2024-01-26T16:35:08.836Z"
      },
      {
        "duration": 1074,
        "start_time": "2024-01-26T16:35:18.272Z"
      },
      {
        "duration": 1042,
        "start_time": "2024-01-26T16:35:21.224Z"
      },
      {
        "duration": 4,
        "start_time": "2024-01-26T16:35:42.143Z"
      },
      {
        "duration": 1055,
        "start_time": "2024-01-26T16:35:43.880Z"
      },
      {
        "duration": 5,
        "start_time": "2024-01-26T16:36:07.764Z"
      },
      {
        "duration": 903,
        "start_time": "2024-01-26T16:36:13.098Z"
      },
      {
        "duration": 893,
        "start_time": "2024-01-26T16:36:41.973Z"
      },
      {
        "duration": 5,
        "start_time": "2024-01-26T16:36:50.638Z"
      },
      {
        "duration": 877,
        "start_time": "2024-01-26T16:36:52.238Z"
      },
      {
        "duration": 866,
        "start_time": "2024-01-26T16:36:58.213Z"
      },
      {
        "duration": 4,
        "start_time": "2024-01-26T16:39:19.978Z"
      },
      {
        "duration": 887,
        "start_time": "2024-01-26T16:39:23.084Z"
      },
      {
        "duration": 5,
        "start_time": "2024-01-26T16:44:03.205Z"
      },
      {
        "duration": 880,
        "start_time": "2024-01-26T16:44:06.941Z"
      },
      {
        "duration": 881,
        "start_time": "2024-01-26T16:44:18.137Z"
      },
      {
        "duration": 4,
        "start_time": "2024-01-26T16:52:28.699Z"
      },
      {
        "duration": 4,
        "start_time": "2024-01-26T16:52:39.185Z"
      },
      {
        "duration": 902,
        "start_time": "2024-01-26T16:52:42.465Z"
      },
      {
        "duration": 909,
        "start_time": "2024-01-26T16:52:52.289Z"
      },
      {
        "duration": 884,
        "start_time": "2024-01-26T16:52:55.235Z"
      },
      {
        "duration": 877,
        "start_time": "2024-01-26T16:58:19.009Z"
      },
      {
        "duration": 887,
        "start_time": "2024-01-26T16:58:21.601Z"
      },
      {
        "duration": 5,
        "start_time": "2024-01-26T17:27:53.663Z"
      },
      {
        "duration": 879,
        "start_time": "2024-01-26T17:27:55.874Z"
      },
      {
        "duration": 5,
        "start_time": "2024-01-26T17:28:34.179Z"
      },
      {
        "duration": 866,
        "start_time": "2024-01-26T17:28:35.948Z"
      },
      {
        "duration": 5,
        "start_time": "2024-01-26T17:34:12.658Z"
      },
      {
        "duration": 861,
        "start_time": "2024-01-26T17:34:16.187Z"
      },
      {
        "duration": 884,
        "start_time": "2024-01-26T17:34:27.043Z"
      },
      {
        "duration": 870,
        "start_time": "2024-01-26T17:36:20.149Z"
      },
      {
        "duration": 862,
        "start_time": "2024-01-26T17:36:45.951Z"
      },
      {
        "duration": 890,
        "start_time": "2024-01-26T17:44:12.748Z"
      },
      {
        "duration": 886,
        "start_time": "2024-01-26T17:44:17.239Z"
      },
      {
        "duration": 903,
        "start_time": "2024-01-26T17:44:22.588Z"
      },
      {
        "duration": 875,
        "start_time": "2024-01-26T17:44:26.512Z"
      },
      {
        "duration": 5,
        "start_time": "2024-01-26T17:44:31.861Z"
      },
      {
        "duration": 889,
        "start_time": "2024-01-26T17:44:37.339Z"
      },
      {
        "duration": 863,
        "start_time": "2024-01-26T17:44:40.350Z"
      },
      {
        "duration": 4,
        "start_time": "2024-01-26T17:48:58.433Z"
      },
      {
        "duration": 4,
        "start_time": "2024-01-26T17:49:35.485Z"
      },
      {
        "duration": 10172,
        "start_time": "2024-01-26T17:49:54.731Z"
      },
      {
        "duration": 3,
        "start_time": "2024-01-26T17:51:40.270Z"
      },
      {
        "duration": 894,
        "start_time": "2024-01-26T17:51:46.875Z"
      },
      {
        "duration": 915,
        "start_time": "2024-01-26T17:51:53.780Z"
      },
      {
        "duration": 907,
        "start_time": "2024-01-26T17:51:56.798Z"
      },
      {
        "duration": 3010,
        "start_time": "2024-01-26T17:54:50.847Z"
      },
      {
        "duration": 1326,
        "start_time": "2024-01-26T17:54:53.859Z"
      },
      {
        "duration": 6,
        "start_time": "2024-01-26T17:54:55.189Z"
      },
      {
        "duration": 433,
        "start_time": "2024-01-26T17:54:55.196Z"
      },
      {
        "duration": 80,
        "start_time": "2024-01-26T17:54:55.631Z"
      },
      {
        "duration": 81,
        "start_time": "2024-01-26T17:54:55.713Z"
      },
      {
        "duration": 90,
        "start_time": "2024-01-26T17:54:55.796Z"
      },
      {
        "duration": 243,
        "start_time": "2024-01-26T17:54:55.888Z"
      },
      {
        "duration": 7,
        "start_time": "2024-01-26T17:54:56.134Z"
      },
      {
        "duration": 4469,
        "start_time": "2024-01-26T17:54:56.142Z"
      },
      {
        "duration": 1139,
        "start_time": "2024-01-26T17:55:00.612Z"
      },
      {
        "duration": 4,
        "start_time": "2024-01-26T17:55:01.753Z"
      },
      {
        "duration": 54,
        "start_time": "2024-01-26T17:55:01.759Z"
      },
      {
        "duration": 7277,
        "start_time": "2024-01-26T17:55:01.814Z"
      },
      {
        "duration": 3,
        "start_time": "2024-01-26T17:55:09.184Z"
      },
      {
        "duration": 92,
        "start_time": "2024-01-26T17:55:09.190Z"
      },
      {
        "duration": 4,
        "start_time": "2024-01-26T17:55:09.284Z"
      },
      {
        "duration": 3,
        "start_time": "2024-01-26T17:55:09.290Z"
      },
      {
        "duration": 24,
        "start_time": "2024-01-26T17:55:09.295Z"
      },
      {
        "duration": 24,
        "start_time": "2024-01-26T17:55:09.321Z"
      },
      {
        "duration": 55,
        "start_time": "2024-01-26T17:55:09.346Z"
      },
      {
        "duration": 4,
        "start_time": "2024-01-26T17:55:09.403Z"
      },
      {
        "duration": 918,
        "start_time": "2024-01-26T17:55:09.409Z"
      },
      {
        "duration": 870,
        "start_time": "2024-01-26T17:55:10.329Z"
      },
      {
        "duration": 882,
        "start_time": "2024-01-26T17:55:11.201Z"
      },
      {
        "duration": 51,
        "start_time": "2024-01-27T09:51:46.178Z"
      },
      {
        "duration": 6685,
        "start_time": "2024-01-27T09:51:55.308Z"
      },
      {
        "duration": 1470,
        "start_time": "2024-01-27T09:52:01.996Z"
      },
      {
        "duration": 5,
        "start_time": "2024-01-27T09:52:03.468Z"
      },
      {
        "duration": 810,
        "start_time": "2024-01-27T09:52:03.474Z"
      },
      {
        "duration": 71,
        "start_time": "2024-01-27T09:52:04.287Z"
      },
      {
        "duration": 75,
        "start_time": "2024-01-27T09:52:04.359Z"
      },
      {
        "duration": 64,
        "start_time": "2024-01-27T09:52:04.435Z"
      },
      {
        "duration": 251,
        "start_time": "2024-01-27T09:52:04.500Z"
      },
      {
        "duration": 7,
        "start_time": "2024-01-27T09:52:04.752Z"
      },
      {
        "duration": 4123,
        "start_time": "2024-01-27T09:52:04.760Z"
      },
      {
        "duration": 1123,
        "start_time": "2024-01-27T09:52:08.885Z"
      },
      {
        "duration": 9,
        "start_time": "2024-01-27T09:52:10.009Z"
      },
      {
        "duration": 15,
        "start_time": "2024-01-27T09:52:10.019Z"
      },
      {
        "duration": 6783,
        "start_time": "2024-01-27T09:52:10.036Z"
      },
      {
        "duration": 3,
        "start_time": "2024-01-27T09:52:16.821Z"
      },
      {
        "duration": 93,
        "start_time": "2024-01-27T09:52:16.831Z"
      },
      {
        "duration": 4,
        "start_time": "2024-01-27T09:52:16.926Z"
      },
      {
        "duration": 4,
        "start_time": "2024-01-27T09:52:16.932Z"
      },
      {
        "duration": 31,
        "start_time": "2024-01-27T09:52:16.937Z"
      },
      {
        "duration": 51,
        "start_time": "2024-01-27T09:52:16.970Z"
      },
      {
        "duration": 28,
        "start_time": "2024-01-27T09:52:17.023Z"
      },
      {
        "duration": 5,
        "start_time": "2024-01-27T09:52:17.052Z"
      },
      {
        "duration": 848,
        "start_time": "2024-01-27T09:52:17.058Z"
      },
      {
        "duration": 831,
        "start_time": "2024-01-27T09:52:17.907Z"
      },
      {
        "duration": 824,
        "start_time": "2024-01-27T09:52:18.739Z"
      },
      {
        "duration": 9,
        "start_time": "2024-01-27T09:52:19.565Z"
      },
      {
        "duration": 6933,
        "start_time": "2024-01-27T11:08:17.605Z"
      },
      {
        "duration": 1431,
        "start_time": "2024-01-27T11:08:24.540Z"
      },
      {
        "duration": 4,
        "start_time": "2024-01-27T11:08:25.973Z"
      },
      {
        "duration": 788,
        "start_time": "2024-01-27T11:08:25.982Z"
      },
      {
        "duration": 80,
        "start_time": "2024-01-27T11:08:26.771Z"
      },
      {
        "duration": 94,
        "start_time": "2024-01-27T11:08:26.852Z"
      },
      {
        "duration": 97,
        "start_time": "2024-01-27T11:08:26.948Z"
      },
      {
        "duration": 216,
        "start_time": "2024-01-27T11:08:27.047Z"
      },
      {
        "duration": 18,
        "start_time": "2024-01-27T11:08:27.264Z"
      },
      {
        "duration": 4475,
        "start_time": "2024-01-27T11:08:27.285Z"
      },
      {
        "duration": 1186,
        "start_time": "2024-01-27T11:08:31.762Z"
      },
      {
        "duration": 4,
        "start_time": "2024-01-27T11:08:32.949Z"
      },
      {
        "duration": 21,
        "start_time": "2024-01-27T11:08:32.954Z"
      },
      {
        "duration": 6515,
        "start_time": "2024-01-27T11:08:32.976Z"
      },
      {
        "duration": 6,
        "start_time": "2024-01-27T11:08:39.493Z"
      },
      {
        "duration": 98,
        "start_time": "2024-01-27T11:08:39.585Z"
      },
      {
        "duration": 5,
        "start_time": "2024-01-27T11:08:39.686Z"
      },
      {
        "duration": 11,
        "start_time": "2024-01-27T11:08:39.693Z"
      },
      {
        "duration": 25,
        "start_time": "2024-01-27T11:08:39.706Z"
      },
      {
        "duration": 49,
        "start_time": "2024-01-27T11:08:39.733Z"
      },
      {
        "duration": 33,
        "start_time": "2024-01-27T11:08:39.784Z"
      },
      {
        "duration": 6,
        "start_time": "2024-01-27T11:08:39.819Z"
      },
      {
        "duration": 1077,
        "start_time": "2024-01-27T11:08:39.827Z"
      },
      {
        "duration": 1160,
        "start_time": "2024-01-27T11:08:40.906Z"
      },
      {
        "duration": 1326,
        "start_time": "2024-01-27T11:08:42.068Z"
      },
      {
        "duration": 11,
        "start_time": "2024-01-27T11:08:43.396Z"
      },
      {
        "duration": 5,
        "start_time": "2024-01-27T11:09:34.770Z"
      },
      {
        "duration": 1145,
        "start_time": "2024-01-27T11:09:39.094Z"
      },
      {
        "duration": 1066,
        "start_time": "2024-01-27T11:09:43.983Z"
      },
      {
        "duration": 1140,
        "start_time": "2024-01-27T11:09:52.401Z"
      },
      {
        "duration": 5,
        "start_time": "2024-01-27T11:27:20.837Z"
      },
      {
        "duration": 1181,
        "start_time": "2024-01-27T11:27:23.389Z"
      },
      {
        "duration": 5,
        "start_time": "2024-01-27T11:29:11.527Z"
      },
      {
        "duration": 1141,
        "start_time": "2024-01-27T11:29:15.315Z"
      },
      {
        "duration": 6,
        "start_time": "2024-01-27T11:30:45.169Z"
      },
      {
        "duration": 1278,
        "start_time": "2024-01-27T11:30:46.860Z"
      },
      {
        "duration": 5,
        "start_time": "2024-01-27T11:31:15.705Z"
      },
      {
        "duration": 6,
        "start_time": "2024-01-27T11:31:17.475Z"
      },
      {
        "duration": 1234,
        "start_time": "2024-01-27T11:31:19.394Z"
      },
      {
        "duration": 7,
        "start_time": "2024-01-27T11:32:04.829Z"
      },
      {
        "duration": 1105,
        "start_time": "2024-01-27T11:32:06.770Z"
      },
      {
        "duration": 1150,
        "start_time": "2024-01-27T11:32:19.497Z"
      },
      {
        "duration": 1122,
        "start_time": "2024-01-27T11:32:43.685Z"
      },
      {
        "duration": 6,
        "start_time": "2024-01-27T11:33:03.649Z"
      },
      {
        "duration": 1222,
        "start_time": "2024-01-27T11:33:07.113Z"
      },
      {
        "duration": 1236,
        "start_time": "2024-01-27T11:33:11.858Z"
      },
      {
        "duration": 1120,
        "start_time": "2024-01-27T11:33:17.144Z"
      }
    ],
    "kernelspec": {
      "display_name": "Python 3 (ipykernel)",
      "language": "python",
      "name": "python3"
    },
    "language_info": {
      "codemirror_mode": {
        "name": "ipython",
        "version": 3
      },
      "file_extension": ".py",
      "mimetype": "text/x-python",
      "name": "python",
      "nbconvert_exporter": "python",
      "pygments_lexer": "ipython3",
      "version": "3.9.5"
    },
    "toc": {
      "base_numbering": 1,
      "nav_menu": {},
      "number_sections": true,
      "sideBar": true,
      "skip_h1_title": true,
      "title_cell": "Table of Contents",
      "title_sidebar": "Contents",
      "toc_cell": false,
      "toc_position": {},
      "toc_section_display": true,
      "toc_window_display": false
    },
    "colab": {
      "provenance": []
    }
  },
  "nbformat": 4,
  "nbformat_minor": 0
}