{
  "cells": [
    {
      "cell_type": "markdown",
      "metadata": {
        "toc": true,
        "id": "HW5WM8cayNft"
      },
      "source": [
        "<h1>Содержание<span class=\"tocSkip\"></span></h1>\n",
        "<div class=\"toc\"><ul class=\"toc-item\"><li><span><a href=\"#Подготовка\" data-toc-modified-id=\"Подготовка-1\"><span class=\"toc-item-num\">1&nbsp;&nbsp;</span>Подготовка</a></span></li><li><span><a href=\"#Обучение\" data-toc-modified-id=\"Обучение-2\"><span class=\"toc-item-num\">2&nbsp;&nbsp;</span>Обучение</a></span></li><li><span><a href=\"#Выводы\" data-toc-modified-id=\"Выводы-3\"><span class=\"toc-item-num\">3&nbsp;&nbsp;</span>Выводы</a></span></li><li><span><a href=\"#Чек-лист-проверки\" data-toc-modified-id=\"Чек-лист-проверки-4\"><span class=\"toc-item-num\">4&nbsp;&nbsp;</span>Чек-лист проверки</a></span></li></ul></div>"
      ]
    },
    {
      "cell_type": "markdown",
      "metadata": {
        "id": "-F3rYLwOyNfv"
      },
      "source": [
        "# Проект для интернет-магазина «Викишоп»"
      ]
    },
    {
      "cell_type": "markdown",
      "metadata": {
        "id": "I5n8vOFNyNfw"
      },
      "source": [
        "Интернет-магазин «Викишоп» запускает новый сервис. Теперь пользователи могут редактировать и дополнять описания товаров, как в вики-сообществах. То есть клиенты предлагают свои правки и комментируют изменения других. Магазину нужен инструмент, который будет искать токсичные комментарии и отправлять их на модерацию.\n",
        "\n",
        "Обучите модель классифицировать комментарии на позитивные и негативные. В вашем распоряжении набор данных с разметкой о токсичности правок.\n",
        "\n",
        "Постройте модель со значением метрики качества *F1* не меньше 0.75.\n",
        "\n",
        "**Инструкция по выполнению проекта**\n",
        "\n",
        "1. Загрузите и подготовьте данные.\n",
        "2. Обучите разные модели.\n",
        "3. Сделайте выводы.\n",
        "\n",
        "Для выполнения проекта применять *BERT* необязательно, но можно попробовать (я применяла TF-IDF).\n",
        "\n",
        "**Описание данных**\n",
        "\n",
        "Данные находятся в файле `toxic_comments.csv`. Столбец *text* в нём содержит текст комментария, а *toxic* — целевой признак."
      ]
    },
    {
      "cell_type": "markdown",
      "metadata": {
        "id": "kyZVBF1NyNfy"
      },
      "source": [
        "## Подготовка"
      ]
    },
    {
      "cell_type": "code",
      "execution_count": null,
      "metadata": {
        "id": "xa6tCI2xyNfz"
      },
      "outputs": [],
      "source": [
        "import pandas as pd\n",
        "import numpy as np\n",
        "import matplotlib.pyplot as plt\n",
        "import re\n",
        "import nltk\n",
        "from nltk.corpus import stopwords as nltk_stopwords\n",
        "from sklearn.feature_extraction.text import TfidfVectorizer\n",
        "from nltk.stem import WordNetLemmatizer\n",
        "from nltk.tokenize import word_tokenize\n",
        "from nltk.corpus import wordnet\n",
        "from nltk import pos_tag\n",
        "\n",
        "from tqdm.notebook import tqdm\n",
        "\n",
        "from sklearn.model_selection import train_test_split, GridSearchCV\n",
        "from sklearn.metrics import f1_score\n",
        "\n",
        "from sklearn.pipeline import Pipeline #, make_pipeline\n",
        "from sklearn.linear_model import LogisticRegression\n",
        "from sklearn.tree import DecisionTreeClassifier\n",
        "from sklearn.dummy import DummyClassifier"
      ]
    },
    {
      "cell_type": "code",
      "execution_count": null,
      "metadata": {
        "id": "mtzqRTOeyNf1",
        "outputId": "e311633f-a446-4f96-d8c7-6737a3687c73"
      },
      "outputs": [
        {
          "name": "stdout",
          "output_type": "stream",
          "text": [
            "<class 'pandas.core.frame.DataFrame'>\n",
            "RangeIndex: 159292 entries, 0 to 159291\n",
            "Data columns (total 3 columns):\n",
            " #   Column      Non-Null Count   Dtype \n",
            "---  ------      --------------   ----- \n",
            " 0   Unnamed: 0  159292 non-null  int64 \n",
            " 1   text        159292 non-null  object\n",
            " 2   toxic       159292 non-null  int64 \n",
            "dtypes: int64(2), object(1)\n",
            "memory usage: 3.6+ MB\n"
          ]
        },
        {
          "data": {
            "text/html": [
              "<div>\n",
              "<style scoped>\n",
              "    .dataframe tbody tr th:only-of-type {\n",
              "        vertical-align: middle;\n",
              "    }\n",
              "\n",
              "    .dataframe tbody tr th {\n",
              "        vertical-align: top;\n",
              "    }\n",
              "\n",
              "    .dataframe thead th {\n",
              "        text-align: right;\n",
              "    }\n",
              "</style>\n",
              "<table border=\"1\" class=\"dataframe\">\n",
              "  <thead>\n",
              "    <tr style=\"text-align: right;\">\n",
              "      <th></th>\n",
              "      <th>Unnamed: 0</th>\n",
              "      <th>text</th>\n",
              "      <th>toxic</th>\n",
              "    </tr>\n",
              "  </thead>\n",
              "  <tbody>\n",
              "    <tr>\n",
              "      <th>0</th>\n",
              "      <td>0</td>\n",
              "      <td>Explanation\\nWhy the edits made under my usern...</td>\n",
              "      <td>0</td>\n",
              "    </tr>\n",
              "    <tr>\n",
              "      <th>1</th>\n",
              "      <td>1</td>\n",
              "      <td>D'aww! He matches this background colour I'm s...</td>\n",
              "      <td>0</td>\n",
              "    </tr>\n",
              "    <tr>\n",
              "      <th>2</th>\n",
              "      <td>2</td>\n",
              "      <td>Hey man, I'm really not trying to edit war. It...</td>\n",
              "      <td>0</td>\n",
              "    </tr>\n",
              "    <tr>\n",
              "      <th>3</th>\n",
              "      <td>3</td>\n",
              "      <td>\"\\nMore\\nI can't make any real suggestions on ...</td>\n",
              "      <td>0</td>\n",
              "    </tr>\n",
              "    <tr>\n",
              "      <th>4</th>\n",
              "      <td>4</td>\n",
              "      <td>You, sir, are my hero. Any chance you remember...</td>\n",
              "      <td>0</td>\n",
              "    </tr>\n",
              "  </tbody>\n",
              "</table>\n",
              "</div>"
            ],
            "text/plain": [
              "   Unnamed: 0                                               text  toxic\n",
              "0           0  Explanation\\nWhy the edits made under my usern...      0\n",
              "1           1  D'aww! He matches this background colour I'm s...      0\n",
              "2           2  Hey man, I'm really not trying to edit war. It...      0\n",
              "3           3  \"\\nMore\\nI can't make any real suggestions on ...      0\n",
              "4           4  You, sir, are my hero. Any chance you remember...      0"
            ]
          },
          "execution_count": 2,
          "metadata": {},
          "output_type": "execute_result"
        }
      ],
      "source": [
        "try:\n",
        "    data = pd.read_csv('/datasets/toxic_comments.csv')\n",
        "except:\n",
        "    data = pd.read_csv('C:/Users/Student/Desktop/toxic_comments.csv')\n",
        "\n",
        "data.info()\n",
        "data.head()"
      ]
    },
    {
      "cell_type": "code",
      "execution_count": null,
      "metadata": {
        "id": "CgJqrZvuyNf2",
        "outputId": "163bd902-b102-432c-f91d-d454ec8c7cdf"
      },
      "outputs": [
        {
          "data": {
            "text/plain": [
              "0"
            ]
          },
          "execution_count": 3,
          "metadata": {},
          "output_type": "execute_result"
        }
      ],
      "source": [
        "data.duplicated().sum()"
      ]
    },
    {
      "cell_type": "markdown",
      "metadata": {
        "id": "3i3fQ9mpyNf3"
      },
      "source": [
        "Датасет загрузился корректно, в нём 159292 строки без пропусков и дубликатов. Текст английский (надо использовать лемматизатор для английского языка)."
      ]
    },
    {
      "cell_type": "code",
      "execution_count": null,
      "metadata": {
        "scrolled": true,
        "id": "8IX1iPK4yNf4",
        "outputId": "c0ada4d5-38f0-43e2-8165-c250a8e1c0ff"
      },
      "outputs": [
        {
          "name": "stderr",
          "output_type": "stream",
          "text": [
            "[nltk_data] Downloading package averaged_perceptron_tagger to\n",
            "[nltk_data]     /home/jovyan/nltk_data...\n",
            "[nltk_data]   Unzipping taggers/averaged_perceptron_tagger.zip.\n"
          ]
        },
        {
          "name": "stdout",
          "output_type": "stream",
          "text": [
            "CPU times: user 9min 6s, sys: 2.93 s, total: 9min 9s\n",
            "Wall time: 9min 10s\n"
          ]
        }
      ],
      "source": [
        "%%time\n",
        "\n",
        "def penn2morphy(penntag):\n",
        "    #Converts Penn Treebank tags to WordNet\n",
        "    morphy_tag = {'NN':'n', 'JJ':'a',\n",
        "                  'VB':'v', 'RB':'r'}\n",
        "    try:\n",
        "        return morphy_tag[penntag[:2]]\n",
        "    except:\n",
        "        return 'n'\n",
        "\n",
        "nltk.download('averaged_perceptron_tagger')\n",
        "\n",
        "lemmatizer = WordNetLemmatizer()\n",
        "new_text = []\n",
        "\n",
        "for text in data['text']:\n",
        "    #удаляем неалфавитные символы\n",
        "    text = re.sub(r'[^a-zA-Z]', ' ', text)\n",
        "    # лемматирзируем слова\n",
        "    text = (lemmatizer.lemmatize(word.lower(), pos=penn2morphy(tag)) for word, tag in pos_tag(word_tokenize(text)))\n",
        "    # соединяем слова\n",
        "    text = \" \".join(text)\n",
        "    new_text.append(text)"
      ]
    },
    {
      "cell_type": "markdown",
      "metadata": {
        "id": "IMmOvHN9yNf6"
      },
      "source": [
        "Убедимся, что наш текст лемматизирован и очищен от лишних символов."
      ]
    },
    {
      "cell_type": "code",
      "execution_count": null,
      "metadata": {
        "id": "c0RjgNHLyNf6",
        "outputId": "924ab835-9c3f-45d9-ed0e-e77b5898ea1c"
      },
      "outputs": [
        {
          "data": {
            "text/html": [
              "<div>\n",
              "<style scoped>\n",
              "    .dataframe tbody tr th:only-of-type {\n",
              "        vertical-align: middle;\n",
              "    }\n",
              "\n",
              "    .dataframe tbody tr th {\n",
              "        vertical-align: top;\n",
              "    }\n",
              "\n",
              "    .dataframe thead th {\n",
              "        text-align: right;\n",
              "    }\n",
              "</style>\n",
              "<table border=\"1\" class=\"dataframe\">\n",
              "  <thead>\n",
              "    <tr style=\"text-align: right;\">\n",
              "      <th></th>\n",
              "      <th>Unnamed: 0</th>\n",
              "      <th>text</th>\n",
              "      <th>toxic</th>\n",
              "      <th>lemm_text</th>\n",
              "    </tr>\n",
              "  </thead>\n",
              "  <tbody>\n",
              "    <tr>\n",
              "      <th>0</th>\n",
              "      <td>0</td>\n",
              "      <td>Explanation\\nWhy the edits made under my usern...</td>\n",
              "      <td>0</td>\n",
              "      <td>explanation why the edits make under my userna...</td>\n",
              "    </tr>\n",
              "    <tr>\n",
              "      <th>1</th>\n",
              "      <td>1</td>\n",
              "      <td>D'aww! He matches this background colour I'm s...</td>\n",
              "      <td>0</td>\n",
              "      <td>d aww he match this background colour i m seem...</td>\n",
              "    </tr>\n",
              "    <tr>\n",
              "      <th>2</th>\n",
              "      <td>2</td>\n",
              "      <td>Hey man, I'm really not trying to edit war. It...</td>\n",
              "      <td>0</td>\n",
              "      <td>hey man i m really not try to edit war it s ju...</td>\n",
              "    </tr>\n",
              "    <tr>\n",
              "      <th>3</th>\n",
              "      <td>3</td>\n",
              "      <td>\"\\nMore\\nI can't make any real suggestions on ...</td>\n",
              "      <td>0</td>\n",
              "      <td>more i can t make any real suggestion on impro...</td>\n",
              "    </tr>\n",
              "    <tr>\n",
              "      <th>4</th>\n",
              "      <td>4</td>\n",
              "      <td>You, sir, are my hero. Any chance you remember...</td>\n",
              "      <td>0</td>\n",
              "      <td>you sir be my hero any chance you remember wha...</td>\n",
              "    </tr>\n",
              "    <tr>\n",
              "      <th>5</th>\n",
              "      <td>5</td>\n",
              "      <td>\"\\n\\nCongratulations from me as well, use the ...</td>\n",
              "      <td>0</td>\n",
              "      <td>congratulation from me a well use the tool wel...</td>\n",
              "    </tr>\n",
              "    <tr>\n",
              "      <th>6</th>\n",
              "      <td>6</td>\n",
              "      <td>COCKSUCKER BEFORE YOU PISS AROUND ON MY WORK</td>\n",
              "      <td>1</td>\n",
              "      <td>cocksucker before you piss around on my work</td>\n",
              "    </tr>\n",
              "    <tr>\n",
              "      <th>7</th>\n",
              "      <td>7</td>\n",
              "      <td>Your vandalism to the Matt Shirvington article...</td>\n",
              "      <td>0</td>\n",
              "      <td>your vandalism to the matt shirvington article...</td>\n",
              "    </tr>\n",
              "    <tr>\n",
              "      <th>8</th>\n",
              "      <td>8</td>\n",
              "      <td>Sorry if the word 'nonsense' was offensive to ...</td>\n",
              "      <td>0</td>\n",
              "      <td>sorry if the word nonsense be offensive to you...</td>\n",
              "    </tr>\n",
              "    <tr>\n",
              "      <th>9</th>\n",
              "      <td>9</td>\n",
              "      <td>alignment on this subject and which are contra...</td>\n",
              "      <td>0</td>\n",
              "      <td>alignment on this subject and which be contrar...</td>\n",
              "    </tr>\n",
              "  </tbody>\n",
              "</table>\n",
              "</div>"
            ],
            "text/plain": [
              "   Unnamed: 0                                               text  toxic  \\\n",
              "0           0  Explanation\\nWhy the edits made under my usern...      0   \n",
              "1           1  D'aww! He matches this background colour I'm s...      0   \n",
              "2           2  Hey man, I'm really not trying to edit war. It...      0   \n",
              "3           3  \"\\nMore\\nI can't make any real suggestions on ...      0   \n",
              "4           4  You, sir, are my hero. Any chance you remember...      0   \n",
              "5           5  \"\\n\\nCongratulations from me as well, use the ...      0   \n",
              "6           6       COCKSUCKER BEFORE YOU PISS AROUND ON MY WORK      1   \n",
              "7           7  Your vandalism to the Matt Shirvington article...      0   \n",
              "8           8  Sorry if the word 'nonsense' was offensive to ...      0   \n",
              "9           9  alignment on this subject and which are contra...      0   \n",
              "\n",
              "                                           lemm_text  \n",
              "0  explanation why the edits make under my userna...  \n",
              "1  d aww he match this background colour i m seem...  \n",
              "2  hey man i m really not try to edit war it s ju...  \n",
              "3  more i can t make any real suggestion on impro...  \n",
              "4  you sir be my hero any chance you remember wha...  \n",
              "5  congratulation from me a well use the tool wel...  \n",
              "6       cocksucker before you piss around on my work  \n",
              "7  your vandalism to the matt shirvington article...  \n",
              "8  sorry if the word nonsense be offensive to you...  \n",
              "9  alignment on this subject and which be contrar...  "
            ]
          },
          "execution_count": 5,
          "metadata": {},
          "output_type": "execute_result"
        }
      ],
      "source": [
        "data['lemm_text'] = pd.Series(new_text)\n",
        "data.head(10)"
      ]
    },
    {
      "cell_type": "markdown",
      "metadata": {
        "id": "BGBX6cvIyNf6"
      },
      "source": [
        "Разбиваем лемматизированный текст на выборки тренировочную и тестовую."
      ]
    },
    {
      "cell_type": "code",
      "execution_count": null,
      "metadata": {
        "id": "0kchTskuyNf7"
      },
      "outputs": [],
      "source": [
        "RANDOM_STATE = 42\n",
        "TEST_SIZE = 0.1\n",
        "train, test = train_test_split(new_text, test_size=TEST_SIZE, random_state=RANDOM_STATE)"
      ]
    },
    {
      "cell_type": "code",
      "execution_count": null,
      "metadata": {
        "scrolled": false,
        "id": "0thFGCZRyNf8",
        "outputId": "4b8f668b-1c2d-4f71-cdc4-6c150f735a02"
      },
      "outputs": [
        {
          "name": "stdout",
          "output_type": "stream",
          "text": [
            "CPU times: user 6.77 s, sys: 104 ms, total: 6.87 s\n",
            "Wall time: 6.89 s\n"
          ]
        },
        {
          "data": {
            "text/plain": [
              "(143362, 146599)"
            ]
          },
          "execution_count": 7,
          "metadata": {},
          "output_type": "execute_result"
        }
      ],
      "source": [
        "%%time\n",
        "tf_idf = TfidfVectorizer(stop_words='english')\n",
        "#преобразуем текст\n",
        "X_train = tf_idf.fit_transform(train)\n",
        "X_test = tf_idf.transform(test)\n",
        "\n",
        "X_train.shape"
      ]
    },
    {
      "cell_type": "code",
      "execution_count": null,
      "metadata": {
        "id": "pSLkt8cRyNf9",
        "outputId": "00607092-1d22-4577-aa39-0e26e573e8b9"
      },
      "outputs": [
        {
          "data": {
            "text/plain": [
              "(15930, 146599)"
            ]
          },
          "execution_count": 8,
          "metadata": {},
          "output_type": "execute_result"
        }
      ],
      "source": [
        "X_test.shape"
      ]
    },
    {
      "cell_type": "markdown",
      "metadata": {
        "id": "a0BS3bk5yNf9"
      },
      "source": [
        "Получились мешки слов без учёта английских стоп-слов в роли признаков для тренировочной и тестовой выборок."
      ]
    },
    {
      "cell_type": "markdown",
      "metadata": {
        "id": "cCLngrC_yNf9"
      },
      "source": [
        "Готовим таргет тренировочный и тестовый (целевой признак `toxic` из датасета)."
      ]
    },
    {
      "cell_type": "code",
      "execution_count": null,
      "metadata": {
        "id": "lwAyM-3oyNf-"
      },
      "outputs": [],
      "source": [
        "y_train, y_test = train_test_split(data['toxic'], test_size=TEST_SIZE, random_state=RANDOM_STATE)"
      ]
    },
    {
      "cell_type": "markdown",
      "metadata": {
        "id": "tjLtPJIIyNf-"
      },
      "source": [
        "Посмотрим распределение токсичных и не токсичных комментариев – и на тренировочной, и на тестовой выборках токсичных около 10%."
      ]
    },
    {
      "cell_type": "code",
      "execution_count": null,
      "metadata": {
        "scrolled": true,
        "id": "X-cAlzHByNf-",
        "outputId": "fa323bf0-6df3-47c0-af97-861716039c42"
      },
      "outputs": [
        {
          "data": {
            "image/png": "[encoded data removed]",
            "text/plain": [
              "<Figure size 864x288 with 2 Axes>"
            ]
          },
          "metadata": {},
          "output_type": "display_data"
        }
      ],
      "source": [
        "fig,axes = plt.subplots(nrows=1, ncols=2, figsize=(12, 4))\n",
        "axes[0].pie(y_train.value_counts(), autopct='%1.1f%%', labels=['0', '1'])\n",
        "axes[1].pie(y_test.value_counts(), autopct='%1.1f%%', labels=['0', '1'])\n",
        "axes[0].title.set_text('Тренировочная выборка')\n",
        "axes[1].title.set_text('Тестовая выборка')\n",
        "plt.legend(['не токсичные', 'токсичные'], loc=\"best\");"
      ]
    },
    {
      "cell_type": "markdown",
      "metadata": {
        "id": "DSPv2FiUyNf_"
      },
      "source": [
        "Мы загрузили комментарии (англоязычные) и целевой признак в датасет, проверили на пропуски и дубликаты (их нет), почистили текст от лишних символов и лемматизировали, подготовили мешок слов, подготовили тренировочную и тестовую выборки для обучения моделей."
      ]
    },
    {
      "cell_type": "markdown",
      "metadata": {
        "id": "SA4_4rDQyNf_"
      },
      "source": [
        "## Обучение"
      ]
    },
    {
      "cell_type": "markdown",
      "metadata": {
        "id": "ABPZfw6oyNgA"
      },
      "source": [
        "Обучим в пайплайне модели для задачи классификации:\n",
        "- логистическую регрессию и\n",
        "- дерево решений\n",
        "\n",
        "и выберем лучшую метрику F1 на кросс-валидации."
      ]
    },
    {
      "cell_type": "code",
      "execution_count": null,
      "metadata": {
        "id": "CeuYt9svyNgA",
        "outputId": "355f7c37-1f6f-4d12-9ade-021e123e169c"
      },
      "outputs": [
        {
          "name": "stderr",
          "output_type": "stream",
          "text": [
            "/opt/conda/lib/python3.9/site-packages/sklearn/linear_model/_logistic.py:763: ConvergenceWarning: lbfgs failed to converge (status=1):\n",
            "STOP: TOTAL NO. of ITERATIONS REACHED LIMIT.\n",
            "\n",
            "Increase the number of iterations (max_iter) or scale the data as shown in:\n",
            "    https://scikit-learn.org/stable/modules/preprocessing.html\n",
            "Please also refer to the documentation for alternative solver options:\n",
            "    https://scikit-learn.org/stable/modules/linear_model.html#logistic-regression\n",
            "  n_iter_i = _check_optimize_result(\n",
            "/opt/conda/lib/python3.9/site-packages/sklearn/linear_model/_logistic.py:763: ConvergenceWarning: lbfgs failed to converge (status=1):\n",
            "STOP: TOTAL NO. of ITERATIONS REACHED LIMIT.\n",
            "\n",
            "Increase the number of iterations (max_iter) or scale the data as shown in:\n",
            "    https://scikit-learn.org/stable/modules/preprocessing.html\n",
            "Please also refer to the documentation for alternative solver options:\n",
            "    https://scikit-learn.org/stable/modules/linear_model.html#logistic-regression\n",
            "  n_iter_i = _check_optimize_result(\n",
            "/opt/conda/lib/python3.9/site-packages/sklearn/linear_model/_logistic.py:763: ConvergenceWarning: lbfgs failed to converge (status=1):\n",
            "STOP: TOTAL NO. of ITERATIONS REACHED LIMIT.\n",
            "\n",
            "Increase the number of iterations (max_iter) or scale the data as shown in:\n",
            "    https://scikit-learn.org/stable/modules/preprocessing.html\n",
            "Please also refer to the documentation for alternative solver options:\n",
            "    https://scikit-learn.org/stable/modules/linear_model.html#logistic-regression\n",
            "  n_iter_i = _check_optimize_result(\n",
            "/opt/conda/lib/python3.9/site-packages/sklearn/linear_model/_logistic.py:763: ConvergenceWarning: lbfgs failed to converge (status=1):\n",
            "STOP: TOTAL NO. of ITERATIONS REACHED LIMIT.\n",
            "\n",
            "Increase the number of iterations (max_iter) or scale the data as shown in:\n",
            "    https://scikit-learn.org/stable/modules/preprocessing.html\n",
            "Please also refer to the documentation for alternative solver options:\n",
            "    https://scikit-learn.org/stable/modules/linear_model.html#logistic-regression\n",
            "  n_iter_i = _check_optimize_result(\n",
            "/opt/conda/lib/python3.9/site-packages/sklearn/linear_model/_logistic.py:763: ConvergenceWarning: lbfgs failed to converge (status=1):\n",
            "STOP: TOTAL NO. of ITERATIONS REACHED LIMIT.\n",
            "\n",
            "Increase the number of iterations (max_iter) or scale the data as shown in:\n",
            "    https://scikit-learn.org/stable/modules/preprocessing.html\n",
            "Please also refer to the documentation for alternative solver options:\n",
            "    https://scikit-learn.org/stable/modules/linear_model.html#logistic-regression\n",
            "  n_iter_i = _check_optimize_result(\n",
            "/opt/conda/lib/python3.9/site-packages/sklearn/linear_model/_logistic.py:763: ConvergenceWarning: lbfgs failed to converge (status=1):\n",
            "STOP: TOTAL NO. of ITERATIONS REACHED LIMIT.\n",
            "\n",
            "Increase the number of iterations (max_iter) or scale the data as shown in:\n",
            "    https://scikit-learn.org/stable/modules/preprocessing.html\n",
            "Please also refer to the documentation for alternative solver options:\n",
            "    https://scikit-learn.org/stable/modules/linear_model.html#logistic-regression\n",
            "  n_iter_i = _check_optimize_result(\n",
            "/opt/conda/lib/python3.9/site-packages/sklearn/linear_model/_logistic.py:763: ConvergenceWarning: lbfgs failed to converge (status=1):\n",
            "STOP: TOTAL NO. of ITERATIONS REACHED LIMIT.\n",
            "\n",
            "Increase the number of iterations (max_iter) or scale the data as shown in:\n",
            "    https://scikit-learn.org/stable/modules/preprocessing.html\n",
            "Please also refer to the documentation for alternative solver options:\n",
            "    https://scikit-learn.org/stable/modules/linear_model.html#logistic-regression\n",
            "  n_iter_i = _check_optimize_result(\n",
            "/opt/conda/lib/python3.9/site-packages/sklearn/linear_model/_logistic.py:763: ConvergenceWarning: lbfgs failed to converge (status=1):\n",
            "STOP: TOTAL NO. of ITERATIONS REACHED LIMIT.\n",
            "\n",
            "Increase the number of iterations (max_iter) or scale the data as shown in:\n",
            "    https://scikit-learn.org/stable/modules/preprocessing.html\n",
            "Please also refer to the documentation for alternative solver options:\n",
            "    https://scikit-learn.org/stable/modules/linear_model.html#logistic-regression\n",
            "  n_iter_i = _check_optimize_result(\n",
            "/opt/conda/lib/python3.9/site-packages/sklearn/linear_model/_logistic.py:763: ConvergenceWarning: lbfgs failed to converge (status=1):\n",
            "STOP: TOTAL NO. of ITERATIONS REACHED LIMIT.\n",
            "\n",
            "Increase the number of iterations (max_iter) or scale the data as shown in:\n",
            "    https://scikit-learn.org/stable/modules/preprocessing.html\n",
            "Please also refer to the documentation for alternative solver options:\n",
            "    https://scikit-learn.org/stable/modules/linear_model.html#logistic-regression\n",
            "  n_iter_i = _check_optimize_result(\n",
            "/opt/conda/lib/python3.9/site-packages/sklearn/linear_model/_logistic.py:763: ConvergenceWarning: lbfgs failed to converge (status=1):\n",
            "STOP: TOTAL NO. of ITERATIONS REACHED LIMIT.\n",
            "\n",
            "Increase the number of iterations (max_iter) or scale the data as shown in:\n",
            "    https://scikit-learn.org/stable/modules/preprocessing.html\n",
            "Please also refer to the documentation for alternative solver options:\n",
            "    https://scikit-learn.org/stable/modules/linear_model.html#logistic-regression\n",
            "  n_iter_i = _check_optimize_result(\n",
            "/opt/conda/lib/python3.9/site-packages/sklearn/linear_model/_logistic.py:763: ConvergenceWarning: lbfgs failed to converge (status=1):\n",
            "STOP: TOTAL NO. of ITERATIONS REACHED LIMIT.\n",
            "\n",
            "Increase the number of iterations (max_iter) or scale the data as shown in:\n",
            "    https://scikit-learn.org/stable/modules/preprocessing.html\n",
            "Please also refer to the documentation for alternative solver options:\n",
            "    https://scikit-learn.org/stable/modules/linear_model.html#logistic-regression\n",
            "  n_iter_i = _check_optimize_result(\n",
            "/opt/conda/lib/python3.9/site-packages/sklearn/linear_model/_logistic.py:763: ConvergenceWarning: lbfgs failed to converge (status=1):\n",
            "STOP: TOTAL NO. of ITERATIONS REACHED LIMIT.\n",
            "\n",
            "Increase the number of iterations (max_iter) or scale the data as shown in:\n",
            "    https://scikit-learn.org/stable/modules/preprocessing.html\n",
            "Please also refer to the documentation for alternative solver options:\n",
            "    https://scikit-learn.org/stable/modules/linear_model.html#logistic-regression\n",
            "  n_iter_i = _check_optimize_result(\n",
            "/opt/conda/lib/python3.9/site-packages/sklearn/linear_model/_logistic.py:763: ConvergenceWarning: lbfgs failed to converge (status=1):\n",
            "STOP: TOTAL NO. of ITERATIONS REACHED LIMIT.\n",
            "\n",
            "Increase the number of iterations (max_iter) or scale the data as shown in:\n",
            "    https://scikit-learn.org/stable/modules/preprocessing.html\n",
            "Please also refer to the documentation for alternative solver options:\n",
            "    https://scikit-learn.org/stable/modules/linear_model.html#logistic-regression\n",
            "  n_iter_i = _check_optimize_result(\n",
            "/opt/conda/lib/python3.9/site-packages/sklearn/linear_model/_logistic.py:763: ConvergenceWarning: lbfgs failed to converge (status=1):\n",
            "STOP: TOTAL NO. of ITERATIONS REACHED LIMIT.\n",
            "\n",
            "Increase the number of iterations (max_iter) or scale the data as shown in:\n",
            "    https://scikit-learn.org/stable/modules/preprocessing.html\n",
            "Please also refer to the documentation for alternative solver options:\n",
            "    https://scikit-learn.org/stable/modules/linear_model.html#logistic-regression\n",
            "  n_iter_i = _check_optimize_result(\n",
            "/opt/conda/lib/python3.9/site-packages/sklearn/linear_model/_logistic.py:763: ConvergenceWarning: lbfgs failed to converge (status=1):\n",
            "STOP: TOTAL NO. of ITERATIONS REACHED LIMIT.\n",
            "\n",
            "Increase the number of iterations (max_iter) or scale the data as shown in:\n",
            "    https://scikit-learn.org/stable/modules/preprocessing.html\n",
            "Please also refer to the documentation for alternative solver options:\n",
            "    https://scikit-learn.org/stable/modules/linear_model.html#logistic-regression\n",
            "  n_iter_i = _check_optimize_result(\n",
            "/opt/conda/lib/python3.9/site-packages/sklearn/linear_model/_logistic.py:763: ConvergenceWarning: lbfgs failed to converge (status=1):\n",
            "STOP: TOTAL NO. of ITERATIONS REACHED LIMIT.\n",
            "\n",
            "Increase the number of iterations (max_iter) or scale the data as shown in:\n",
            "    https://scikit-learn.org/stable/modules/preprocessing.html\n",
            "Please also refer to the documentation for alternative solver options:\n",
            "    https://scikit-learn.org/stable/modules/linear_model.html#logistic-regression\n",
            "  n_iter_i = _check_optimize_result(\n",
            "/opt/conda/lib/python3.9/site-packages/sklearn/linear_model/_logistic.py:763: ConvergenceWarning: lbfgs failed to converge (status=1):\n",
            "STOP: TOTAL NO. of ITERATIONS REACHED LIMIT.\n",
            "\n",
            "Increase the number of iterations (max_iter) or scale the data as shown in:\n",
            "    https://scikit-learn.org/stable/modules/preprocessing.html\n",
            "Please also refer to the documentation for alternative solver options:\n",
            "    https://scikit-learn.org/stable/modules/linear_model.html#logistic-regression\n",
            "  n_iter_i = _check_optimize_result(\n",
            "/opt/conda/lib/python3.9/site-packages/sklearn/linear_model/_logistic.py:763: ConvergenceWarning: lbfgs failed to converge (status=1):\n",
            "STOP: TOTAL NO. of ITERATIONS REACHED LIMIT.\n",
            "\n",
            "Increase the number of iterations (max_iter) or scale the data as shown in:\n",
            "    https://scikit-learn.org/stable/modules/preprocessing.html\n",
            "Please also refer to the documentation for alternative solver options:\n",
            "    https://scikit-learn.org/stable/modules/linear_model.html#logistic-regression\n",
            "  n_iter_i = _check_optimize_result(\n",
            "/opt/conda/lib/python3.9/site-packages/sklearn/linear_model/_logistic.py:763: ConvergenceWarning: lbfgs failed to converge (status=1):\n",
            "STOP: TOTAL NO. of ITERATIONS REACHED LIMIT.\n",
            "\n",
            "Increase the number of iterations (max_iter) or scale the data as shown in:\n",
            "    https://scikit-learn.org/stable/modules/preprocessing.html\n",
            "Please also refer to the documentation for alternative solver options:\n",
            "    https://scikit-learn.org/stable/modules/linear_model.html#logistic-regression\n",
            "  n_iter_i = _check_optimize_result(\n",
            "/opt/conda/lib/python3.9/site-packages/sklearn/linear_model/_logistic.py:763: ConvergenceWarning: lbfgs failed to converge (status=1):\n",
            "STOP: TOTAL NO. of ITERATIONS REACHED LIMIT.\n",
            "\n",
            "Increase the number of iterations (max_iter) or scale the data as shown in:\n",
            "    https://scikit-learn.org/stable/modules/preprocessing.html\n",
            "Please also refer to the documentation for alternative solver options:\n",
            "    https://scikit-learn.org/stable/modules/linear_model.html#logistic-regression\n",
            "  n_iter_i = _check_optimize_result(\n",
            "/opt/conda/lib/python3.9/site-packages/sklearn/linear_model/_logistic.py:763: ConvergenceWarning: lbfgs failed to converge (status=1):\n",
            "STOP: TOTAL NO. of ITERATIONS REACHED LIMIT.\n",
            "\n",
            "Increase the number of iterations (max_iter) or scale the data as shown in:\n",
            "    https://scikit-learn.org/stable/modules/preprocessing.html\n",
            "Please also refer to the documentation for alternative solver options:\n",
            "    https://scikit-learn.org/stable/modules/linear_model.html#logistic-regression\n",
            "  n_iter_i = _check_optimize_result(\n",
            "/opt/conda/lib/python3.9/site-packages/sklearn/linear_model/_logistic.py:763: ConvergenceWarning: lbfgs failed to converge (status=1):\n",
            "STOP: TOTAL NO. of ITERATIONS REACHED LIMIT.\n",
            "\n",
            "Increase the number of iterations (max_iter) or scale the data as shown in:\n",
            "    https://scikit-learn.org/stable/modules/preprocessing.html\n",
            "Please also refer to the documentation for alternative solver options:\n",
            "    https://scikit-learn.org/stable/modules/linear_model.html#logistic-regression\n",
            "  n_iter_i = _check_optimize_result(\n",
            "/opt/conda/lib/python3.9/site-packages/sklearn/linear_model/_logistic.py:763: ConvergenceWarning: lbfgs failed to converge (status=1):\n",
            "STOP: TOTAL NO. of ITERATIONS REACHED LIMIT.\n",
            "\n",
            "Increase the number of iterations (max_iter) or scale the data as shown in:\n",
            "    https://scikit-learn.org/stable/modules/preprocessing.html\n",
            "Please also refer to the documentation for alternative solver options:\n",
            "    https://scikit-learn.org/stable/modules/linear_model.html#logistic-regression\n",
            "  n_iter_i = _check_optimize_result(\n",
            "/opt/conda/lib/python3.9/site-packages/sklearn/linear_model/_logistic.py:763: ConvergenceWarning: lbfgs failed to converge (status=1):\n",
            "STOP: TOTAL NO. of ITERATIONS REACHED LIMIT.\n",
            "\n",
            "Increase the number of iterations (max_iter) or scale the data as shown in:\n",
            "    https://scikit-learn.org/stable/modules/preprocessing.html\n",
            "Please also refer to the documentation for alternative solver options:\n",
            "    https://scikit-learn.org/stable/modules/linear_model.html#logistic-regression\n",
            "  n_iter_i = _check_optimize_result(\n",
            "/opt/conda/lib/python3.9/site-packages/sklearn/linear_model/_logistic.py:763: ConvergenceWarning: lbfgs failed to converge (status=1):\n",
            "STOP: TOTAL NO. of ITERATIONS REACHED LIMIT.\n",
            "\n",
            "Increase the number of iterations (max_iter) or scale the data as shown in:\n",
            "    https://scikit-learn.org/stable/modules/preprocessing.html\n",
            "Please also refer to the documentation for alternative solver options:\n",
            "    https://scikit-learn.org/stable/modules/linear_model.html#logistic-regression\n",
            "  n_iter_i = _check_optimize_result(\n"
          ]
        },
        {
          "name": "stdout",
          "output_type": "stream",
          "text": [
            "Лучшая модель и её параметры:\n",
            "\n",
            " Pipeline(steps=[('models',\n",
            "                 LogisticRegression(C=40, max_iter=50, random_state=42))])\n",
            "Метрика F1 для лучшей модели на на кросс-валидации: 0.7694\n",
            "CPU times: user 20min 46s, sys: 4min 21s, total: 25min 7s\n",
            "Wall time: 25min 9s\n"
          ]
        },
        {
          "name": "stderr",
          "output_type": "stream",
          "text": [
            "/opt/conda/lib/python3.9/site-packages/sklearn/linear_model/_logistic.py:763: ConvergenceWarning: lbfgs failed to converge (status=1):\n",
            "STOP: TOTAL NO. of ITERATIONS REACHED LIMIT.\n",
            "\n",
            "Increase the number of iterations (max_iter) or scale the data as shown in:\n",
            "    https://scikit-learn.org/stable/modules/preprocessing.html\n",
            "Please also refer to the documentation for alternative solver options:\n",
            "    https://scikit-learn.org/stable/modules/linear_model.html#logistic-regression\n",
            "  n_iter_i = _check_optimize_result(\n"
          ]
        }
      ],
      "source": [
        "%%time\n",
        "pipe_final = Pipeline([\n",
        "        ('models', DecisionTreeClassifier(random_state=RANDOM_STATE))])\n",
        "\n",
        "param_grid = [\n",
        "    # словарь для модели DecisionTreeClassifier()\n",
        "    {\n",
        "        'models': [DecisionTreeClassifier(random_state=RANDOM_STATE)],\n",
        "        'models__max_depth': range(10,20),\n",
        "        #'models__min_samples_split': range(2,20),\n",
        "        #'models__min_samples_leaf': range(1,10),\n",
        "    },\n",
        "    # словарь для модели LogisticRegression()\n",
        "    {\n",
        "        'models': [LogisticRegression(random_state=RANDOM_STATE, max_iter=50)], #solver='liblinear')],\n",
        "        'models__C': [1,15,20,30,40],\n",
        "        #'models__penalty': ['l1', 'l2'],\n",
        "    },\n",
        "]\n",
        "\n",
        "grid = GridSearchCV(\n",
        "    pipe_final,\n",
        "    param_grid=param_grid,\n",
        "    cv=5,\n",
        "    scoring='f1',\n",
        "    n_jobs=-1\n",
        ")\n",
        "grid.fit(X_train, y_train)\n",
        "\n",
        "print('Лучшая модель и её параметры:\\n\\n', grid.best_estimator_)\n",
        "print('Метрика F1 для лучшей модели на на кросс-валидации:', round(grid.best_score_, 4))"
      ]
    },
    {
      "cell_type": "code",
      "execution_count": null,
      "metadata": {
        "id": "8J-QmNmxyNgD",
        "outputId": "e1769686-e661-424e-909e-bc35792a0d9d"
      },
      "outputs": [
        {
          "name": "stdout",
          "output_type": "stream",
          "text": [
            "F1 лучшей модели на тестовой выборке 0.7848\n",
            "CPU times: user 19 ms, sys: 18 ms, total: 37.1 ms\n",
            "Wall time: 97 ms\n"
          ]
        }
      ],
      "source": [
        "%%time\n",
        "y_pred = grid.best_estimator_.predict(X_test)\n",
        "print('F1 лучшей модели на тестовой выборке', round(f1_score(y_test, y_pred), 4))"
      ]
    },
    {
      "cell_type": "code",
      "execution_count": null,
      "metadata": {
        "id": "M6jV0u9IyNgF",
        "outputId": "1c613c13-2892-4e68-f249-422762c2c51b"
      },
      "outputs": [
        {
          "data": {
            "text/plain": [
              "0.0"
            ]
          },
          "execution_count": 13,
          "metadata": {},
          "output_type": "execute_result"
        }
      ],
      "source": [
        "dummy_c = DummyClassifier().fit(X_train, y_train)\n",
        "round(f1_score(y_test, dummy_c.predict(X_test)), 4)"
      ]
    },
    {
      "cell_type": "markdown",
      "metadata": {
        "id": "HUTlDLgkyNgF"
      },
      "source": [
        "Лучшая модель (из пайплайна) - логистическая регрессия с гиперпараметром C=40 и max_iter=50 даёт нужное качество метрики F1 = 0.7694 на кросс-валидации и 0.7848 на тесте (больше минимально требуемых 0.75).\n",
        "\n",
        "Для проверки на адекватность использовали дамми (случайное угадывание), оно вообще даёт F1 = 0."
      ]
    },
    {
      "cell_type": "markdown",
      "metadata": {
        "id": "Ew9hH811yNgG"
      },
      "source": [
        "## Выводы"
      ]
    },
    {
      "cell_type": "markdown",
      "metadata": {
        "id": "Eytu9juTyNgG"
      },
      "source": [
        "Логистическая регрессия (с гиперпараметрами C=40, max_iter=50) определяет токсичные комментарии на очищенном лемматизированном английском тексте с требуемой точностью (метрика на тесте F1 = 0.7848, что больше 0.75). Для оценки важности слов использовался TF-IDF."
      ]
    }
  ],
  "metadata": {
    "ExecuteTimeLog": [
      {
        "duration": 1830,
        "start_time": "2024-03-16T12:58:48.969Z"
      },
      {
        "duration": 3314,
        "start_time": "2024-03-16T12:58:51.880Z"
      },
      {
        "duration": 959,
        "start_time": "2024-03-16T12:59:41.806Z"
      },
      {
        "duration": 788,
        "start_time": "2024-03-16T13:19:22.639Z"
      },
      {
        "duration": 1383,
        "start_time": "2024-03-16T13:41:56.165Z"
      },
      {
        "duration": 3388,
        "start_time": "2024-03-16T13:41:59.002Z"
      },
      {
        "duration": 1410,
        "start_time": "2024-03-16T13:44:21.107Z"
      },
      {
        "duration": 3381,
        "start_time": "2024-03-16T13:44:24.157Z"
      },
      {
        "duration": 50,
        "start_time": "2024-03-16T13:44:48.845Z"
      },
      {
        "duration": 1362,
        "start_time": "2024-03-16T13:44:55.271Z"
      },
      {
        "duration": 3368,
        "start_time": "2024-03-16T13:44:56.640Z"
      },
      {
        "duration": 53,
        "start_time": "2024-03-16T13:45:16.054Z"
      },
      {
        "duration": 1372,
        "start_time": "2024-03-16T13:45:21.430Z"
      },
      {
        "duration": 3445,
        "start_time": "2024-03-16T13:45:23.746Z"
      },
      {
        "duration": 1298,
        "start_time": "2024-03-16T13:54:18.425Z"
      },
      {
        "duration": 3361,
        "start_time": "2024-03-16T13:54:20.861Z"
      },
      {
        "duration": 124,
        "start_time": "2024-03-16T13:54:30.722Z"
      },
      {
        "duration": 740,
        "start_time": "2024-03-16T13:58:37.867Z"
      },
      {
        "duration": 4,
        "start_time": "2024-03-16T14:00:33.233Z"
      },
      {
        "duration": 18,
        "start_time": "2024-03-16T14:00:54.487Z"
      },
      {
        "duration": 337870,
        "start_time": "2024-03-16T14:03:15.194Z"
      },
      {
        "duration": 7,
        "start_time": "2024-03-16T14:08:53.068Z"
      },
      {
        "duration": 8381,
        "start_time": "2024-03-16T14:19:12.889Z"
      },
      {
        "duration": 4,
        "start_time": "2024-03-16T14:20:10.657Z"
      },
      {
        "duration": 10,
        "start_time": "2024-03-16T14:20:21.909Z"
      },
      {
        "duration": 6345,
        "start_time": "2024-03-16T14:20:47.728Z"
      },
      {
        "duration": 446586,
        "start_time": "2024-03-16T14:40:41.712Z"
      },
      {
        "duration": 4,
        "start_time": "2024-03-16T15:07:34.472Z"
      },
      {
        "duration": 4,
        "start_time": "2024-03-16T15:08:00.270Z"
      },
      {
        "duration": 5,
        "start_time": "2024-03-16T15:08:20.271Z"
      },
      {
        "duration": 1251,
        "start_time": "2024-03-16T15:35:44.641Z"
      },
      {
        "duration": 3,
        "start_time": "2024-03-16T15:41:44.164Z"
      },
      {
        "duration": 1365,
        "start_time": "2024-03-16T15:52:54.649Z"
      },
      {
        "duration": 1067,
        "start_time": "2024-03-16T15:52:56.016Z"
      },
      {
        "duration": 125,
        "start_time": "2024-03-16T15:52:57.085Z"
      },
      {
        "duration": 0,
        "start_time": "2024-03-16T15:52:57.212Z"
      },
      {
        "duration": 5,
        "start_time": "2024-03-16T15:53:12.934Z"
      },
      {
        "duration": 748,
        "start_time": "2024-03-16T15:53:17.373Z"
      },
      {
        "duration": 6,
        "start_time": "2024-03-16T15:54:08.362Z"
      },
      {
        "duration": 4,
        "start_time": "2024-03-16T15:56:01.064Z"
      },
      {
        "duration": 25,
        "start_time": "2024-03-16T15:56:55.302Z"
      },
      {
        "duration": 16,
        "start_time": "2024-03-16T16:01:18.922Z"
      },
      {
        "duration": 12,
        "start_time": "2024-03-16T16:01:47.189Z"
      },
      {
        "duration": 12,
        "start_time": "2024-03-16T16:03:07.745Z"
      },
      {
        "duration": 5,
        "start_time": "2024-03-16T16:04:38.435Z"
      },
      {
        "duration": 7,
        "start_time": "2024-03-16T16:05:11.130Z"
      },
      {
        "duration": 14,
        "start_time": "2024-03-16T16:05:31.752Z"
      },
      {
        "duration": 11,
        "start_time": "2024-03-16T16:06:11.028Z"
      },
      {
        "duration": 11,
        "start_time": "2024-03-16T16:07:54.638Z"
      },
      {
        "duration": 11,
        "start_time": "2024-03-16T16:08:34.993Z"
      },
      {
        "duration": 93,
        "start_time": "2024-03-16T16:09:50.562Z"
      },
      {
        "duration": 17,
        "start_time": "2024-03-16T16:10:19.157Z"
      },
      {
        "duration": 21,
        "start_time": "2024-03-16T16:13:16.447Z"
      },
      {
        "duration": 236772,
        "start_time": "2024-03-16T16:13:44.301Z"
      },
      {
        "duration": 53,
        "start_time": "2024-03-16T16:34:54.690Z"
      },
      {
        "duration": 46,
        "start_time": "2024-03-16T16:36:08.996Z"
      },
      {
        "duration": 7,
        "start_time": "2024-03-16T16:36:25.667Z"
      },
      {
        "duration": 1412,
        "start_time": "2024-03-16T16:43:33.017Z"
      },
      {
        "duration": 1102,
        "start_time": "2024-03-16T16:43:34.431Z"
      },
      {
        "duration": 237553,
        "start_time": "2024-03-16T16:43:35.534Z"
      },
      {
        "duration": 48,
        "start_time": "2024-03-16T16:47:33.089Z"
      },
      {
        "duration": 603041,
        "start_time": "2024-03-16T17:04:27.356Z"
      },
      {
        "duration": 68,
        "start_time": "2024-03-16T17:14:46.643Z"
      },
      {
        "duration": 7753,
        "start_time": "2024-03-16T17:19:15.266Z"
      },
      {
        "duration": 121,
        "start_time": "2024-03-16T17:19:35.551Z"
      },
      {
        "duration": 126,
        "start_time": "2024-03-16T17:21:06.535Z"
      },
      {
        "duration": 609402,
        "start_time": "2024-03-16T17:21:43.714Z"
      },
      {
        "duration": 78,
        "start_time": "2024-03-16T17:57:43.685Z"
      },
      {
        "duration": 7975,
        "start_time": "2024-03-16T17:59:21.724Z"
      },
      {
        "duration": 5,
        "start_time": "2024-03-16T18:00:55.940Z"
      },
      {
        "duration": 3,
        "start_time": "2024-03-16T18:01:47.471Z"
      },
      {
        "duration": 5,
        "start_time": "2024-03-16T18:03:27.810Z"
      },
      {
        "duration": 6,
        "start_time": "2024-03-16T18:04:05.715Z"
      },
      {
        "duration": 4,
        "start_time": "2024-03-16T18:04:26.882Z"
      },
      {
        "duration": 4,
        "start_time": "2024-03-16T18:05:12.131Z"
      },
      {
        "duration": 5,
        "start_time": "2024-03-16T18:10:43.515Z"
      },
      {
        "duration": 5,
        "start_time": "2024-03-16T18:11:17.591Z"
      },
      {
        "duration": 5,
        "start_time": "2024-03-16T18:11:34.164Z"
      },
      {
        "duration": 17,
        "start_time": "2024-03-16T18:14:46.136Z"
      },
      {
        "duration": 8,
        "start_time": "2024-03-16T18:15:33.243Z"
      },
      {
        "duration": 117,
        "start_time": "2024-03-16T18:16:04.002Z"
      },
      {
        "duration": 9,
        "start_time": "2024-03-16T18:21:05.509Z"
      },
      {
        "duration": 7,
        "start_time": "2024-03-16T18:27:59.622Z"
      },
      {
        "duration": 7,
        "start_time": "2024-03-16T18:28:21.242Z"
      },
      {
        "duration": 7,
        "start_time": "2024-03-16T18:31:53.089Z"
      },
      {
        "duration": 5,
        "start_time": "2024-03-16T18:32:26.595Z"
      },
      {
        "duration": 7,
        "start_time": "2024-03-16T18:33:17.744Z"
      },
      {
        "duration": 5,
        "start_time": "2024-03-16T18:33:24.453Z"
      },
      {
        "duration": 29,
        "start_time": "2024-03-16T18:33:34.191Z"
      },
      {
        "duration": 107,
        "start_time": "2024-03-16T18:34:23.885Z"
      },
      {
        "duration": 6,
        "start_time": "2024-03-16T18:34:36.640Z"
      },
      {
        "duration": 13,
        "start_time": "2024-03-16T18:34:58.079Z"
      },
      {
        "duration": 6,
        "start_time": "2024-03-16T18:35:37.681Z"
      },
      {
        "duration": 12,
        "start_time": "2024-03-16T18:35:43.157Z"
      },
      {
        "duration": 6,
        "start_time": "2024-03-16T18:35:50.571Z"
      },
      {
        "duration": 13,
        "start_time": "2024-03-16T18:35:55.955Z"
      },
      {
        "duration": 55,
        "start_time": "2024-03-16T18:37:01.571Z"
      },
      {
        "duration": 5,
        "start_time": "2024-03-16T18:37:40.584Z"
      },
      {
        "duration": 6,
        "start_time": "2024-03-16T18:38:17.879Z"
      },
      {
        "duration": 13,
        "start_time": "2024-03-16T18:40:29.228Z"
      },
      {
        "duration": 6,
        "start_time": "2024-03-16T18:41:14.414Z"
      },
      {
        "duration": 18,
        "start_time": "2024-03-16T18:41:22.009Z"
      },
      {
        "duration": 38267,
        "start_time": "2024-03-16T18:41:37.165Z"
      },
      {
        "duration": 49,
        "start_time": "2024-03-16T18:51:03.522Z"
      },
      {
        "duration": 7136,
        "start_time": "2024-03-16T18:51:20.637Z"
      },
      {
        "duration": 103,
        "start_time": "2024-03-16T18:55:03.673Z"
      },
      {
        "duration": 102,
        "start_time": "2024-03-16T18:55:43.673Z"
      },
      {
        "duration": 7220,
        "start_time": "2024-03-16T18:56:35.688Z"
      },
      {
        "duration": 7478,
        "start_time": "2024-03-16T18:58:45.293Z"
      },
      {
        "duration": 7404,
        "start_time": "2024-03-16T19:00:24.443Z"
      },
      {
        "duration": 6570,
        "start_time": "2024-03-16T19:02:29.768Z"
      },
      {
        "duration": 4,
        "start_time": "2024-03-16T19:03:41.025Z"
      },
      {
        "duration": 4,
        "start_time": "2024-03-16T19:03:57.208Z"
      },
      {
        "duration": 4,
        "start_time": "2024-03-16T19:04:23.682Z"
      },
      {
        "duration": 3,
        "start_time": "2024-03-16T19:04:46.310Z"
      },
      {
        "duration": 4,
        "start_time": "2024-03-16T19:04:55.020Z"
      },
      {
        "duration": 3,
        "start_time": "2024-03-16T19:05:02.396Z"
      },
      {
        "duration": 4,
        "start_time": "2024-03-16T19:05:15.027Z"
      },
      {
        "duration": 3,
        "start_time": "2024-03-16T19:05:31.200Z"
      },
      {
        "duration": 4,
        "start_time": "2024-03-16T19:05:42.565Z"
      },
      {
        "duration": 11,
        "start_time": "2024-03-16T19:06:13.245Z"
      },
      {
        "duration": 3,
        "start_time": "2024-03-16T19:06:36.578Z"
      },
      {
        "duration": 4,
        "start_time": "2024-03-16T19:06:47.419Z"
      },
      {
        "duration": 3,
        "start_time": "2024-03-16T19:06:55.051Z"
      },
      {
        "duration": 4,
        "start_time": "2024-03-16T19:07:08.625Z"
      },
      {
        "duration": 5,
        "start_time": "2024-03-16T19:07:15.836Z"
      },
      {
        "duration": 4,
        "start_time": "2024-03-16T19:07:32.289Z"
      },
      {
        "duration": 11,
        "start_time": "2024-03-16T19:07:56.072Z"
      },
      {
        "duration": 8704,
        "start_time": "2024-03-16T19:09:49.679Z"
      },
      {
        "duration": 7367,
        "start_time": "2024-03-16T19:10:15.776Z"
      },
      {
        "duration": 4,
        "start_time": "2024-03-16T19:17:01.043Z"
      },
      {
        "duration": 6362,
        "start_time": "2024-03-16T19:19:32.788Z"
      },
      {
        "duration": 47812,
        "start_time": "2024-03-16T19:21:12.871Z"
      },
      {
        "duration": 10,
        "start_time": "2024-03-16T19:23:34.484Z"
      },
      {
        "duration": 4,
        "start_time": "2024-03-16T19:23:43.802Z"
      },
      {
        "duration": 4,
        "start_time": "2024-03-16T19:23:59.761Z"
      },
      {
        "duration": 4,
        "start_time": "2024-03-16T19:24:10.492Z"
      },
      {
        "duration": 11,
        "start_time": "2024-03-16T19:24:47.947Z"
      },
      {
        "duration": 4,
        "start_time": "2024-03-16T19:25:38.317Z"
      },
      {
        "duration": 24,
        "start_time": "2024-03-16T19:26:08.576Z"
      },
      {
        "duration": 1335,
        "start_time": "2024-03-17T17:04:02.469Z"
      },
      {
        "duration": 2377,
        "start_time": "2024-03-17T17:04:03.806Z"
      },
      {
        "duration": 36082,
        "start_time": "2024-03-17T17:04:06.184Z"
      },
      {
        "duration": 7146,
        "start_time": "2024-03-17T17:04:42.267Z"
      },
      {
        "duration": 44,
        "start_time": "2024-03-17T17:04:49.414Z"
      },
      {
        "duration": 44,
        "start_time": "2024-03-17T17:04:49.460Z"
      },
      {
        "duration": 48703,
        "start_time": "2024-03-17T17:04:49.517Z"
      },
      {
        "duration": 15,
        "start_time": "2024-03-17T17:05:38.222Z"
      },
      {
        "duration": 189,
        "start_time": "2024-03-17T17:05:38.238Z"
      },
      {
        "duration": 9,
        "start_time": "2024-03-17T17:05:38.428Z"
      },
      {
        "duration": 88,
        "start_time": "2024-03-17T17:10:27.715Z"
      },
      {
        "duration": 4,
        "start_time": "2024-03-17T17:11:35.384Z"
      },
      {
        "duration": 108,
        "start_time": "2024-03-17T17:11:44.690Z"
      },
      {
        "duration": 102,
        "start_time": "2024-03-17T17:14:59.784Z"
      },
      {
        "duration": 111,
        "start_time": "2024-03-17T17:17:50.973Z"
      },
      {
        "duration": 50,
        "start_time": "2024-03-17T18:01:43.597Z"
      },
      {
        "duration": 1372,
        "start_time": "2024-03-17T18:01:59.784Z"
      },
      {
        "duration": 2404,
        "start_time": "2024-03-17T18:02:01.158Z"
      },
      {
        "duration": 37018,
        "start_time": "2024-03-17T18:02:03.564Z"
      },
      {
        "duration": 7332,
        "start_time": "2024-03-17T18:02:40.584Z"
      },
      {
        "duration": 42,
        "start_time": "2024-03-17T18:02:47.917Z"
      },
      {
        "duration": 64,
        "start_time": "2024-03-17T18:02:47.961Z"
      },
      {
        "duration": 50503,
        "start_time": "2024-03-17T18:02:48.026Z"
      },
      {
        "duration": 97,
        "start_time": "2024-03-17T18:03:38.531Z"
      },
      {
        "duration": 1405,
        "start_time": "2024-03-17T18:20:28.999Z"
      },
      {
        "duration": 2519,
        "start_time": "2024-03-17T18:20:30.405Z"
      },
      {
        "duration": 42666,
        "start_time": "2024-03-17T18:20:32.930Z"
      },
      {
        "duration": 8147,
        "start_time": "2024-03-17T18:21:15.598Z"
      },
      {
        "duration": 49,
        "start_time": "2024-03-17T18:21:23.747Z"
      },
      {
        "duration": 66,
        "start_time": "2024-03-17T18:21:23.798Z"
      },
      {
        "duration": 53084,
        "start_time": "2024-03-17T18:21:23.866Z"
      },
      {
        "duration": 94,
        "start_time": "2024-03-17T18:22:16.953Z"
      },
      {
        "duration": 1395,
        "start_time": "2024-03-17T18:58:56.796Z"
      },
      {
        "duration": 2580,
        "start_time": "2024-03-17T18:58:58.193Z"
      },
      {
        "duration": 41506,
        "start_time": "2024-03-17T18:59:00.775Z"
      },
      {
        "duration": 7881,
        "start_time": "2024-03-17T18:59:42.283Z"
      },
      {
        "duration": 94,
        "start_time": "2024-03-17T18:59:50.166Z"
      },
      {
        "duration": 43,
        "start_time": "2024-03-17T18:59:50.264Z"
      },
      {
        "duration": 51143,
        "start_time": "2024-03-17T18:59:50.308Z"
      },
      {
        "duration": 370294,
        "start_time": "2024-03-17T19:00:41.454Z"
      },
      {
        "duration": 1408,
        "start_time": "2024-03-17T19:10:00.136Z"
      },
      {
        "duration": 2548,
        "start_time": "2024-03-17T19:10:01.546Z"
      },
      {
        "duration": 42993,
        "start_time": "2024-03-17T19:10:04.096Z"
      },
      {
        "duration": 7899,
        "start_time": "2024-03-17T19:10:47.090Z"
      },
      {
        "duration": 77,
        "start_time": "2024-03-17T19:10:54.991Z"
      },
      {
        "duration": 42,
        "start_time": "2024-03-17T19:10:55.070Z"
      },
      {
        "duration": 51625,
        "start_time": "2024-03-17T19:10:55.114Z"
      },
      {
        "duration": 16571,
        "start_time": "2024-03-17T19:11:46.741Z"
      },
      {
        "duration": 1413,
        "start_time": "2024-03-17T19:20:25.779Z"
      },
      {
        "duration": 2504,
        "start_time": "2024-03-17T19:20:28.240Z"
      },
      {
        "duration": 40999,
        "start_time": "2024-03-17T19:20:35.196Z"
      },
      {
        "duration": 5,
        "start_time": "2024-03-17T19:24:17.088Z"
      },
      {
        "duration": 958,
        "start_time": "2024-03-17T19:24:18.808Z"
      },
      {
        "duration": 1444,
        "start_time": "2024-03-17T19:25:01.615Z"
      },
      {
        "duration": 1030,
        "start_time": "2024-03-17T19:25:03.061Z"
      },
      {
        "duration": 41160,
        "start_time": "2024-03-17T19:25:04.092Z"
      },
      {
        "duration": 7556,
        "start_time": "2024-03-17T19:25:45.254Z"
      },
      {
        "duration": 58,
        "start_time": "2024-03-17T19:25:52.812Z"
      },
      {
        "duration": 49,
        "start_time": "2024-03-17T19:25:52.871Z"
      },
      {
        "duration": 53400,
        "start_time": "2024-03-17T19:25:52.922Z"
      },
      {
        "duration": 21012,
        "start_time": "2024-03-17T19:26:46.324Z"
      },
      {
        "duration": 1311,
        "start_time": "2024-03-17T19:29:04.871Z"
      },
      {
        "duration": 2412,
        "start_time": "2024-03-17T19:29:07.013Z"
      },
      {
        "duration": 40598,
        "start_time": "2024-03-17T19:29:12.968Z"
      },
      {
        "duration": 7936,
        "start_time": "2024-03-17T19:29:57.813Z"
      },
      {
        "duration": 40,
        "start_time": "2024-03-17T19:30:14.439Z"
      },
      {
        "duration": 1338,
        "start_time": "2024-03-17T19:31:00.012Z"
      },
      {
        "duration": 2627,
        "start_time": "2024-03-17T19:31:01.352Z"
      },
      {
        "duration": 41486,
        "start_time": "2024-03-17T19:31:03.981Z"
      },
      {
        "duration": 7717,
        "start_time": "2024-03-17T19:31:45.468Z"
      },
      {
        "duration": 65,
        "start_time": "2024-03-17T19:31:53.187Z"
      },
      {
        "duration": 41,
        "start_time": "2024-03-17T19:31:53.254Z"
      },
      {
        "duration": 53659,
        "start_time": "2024-03-17T19:31:53.297Z"
      },
      {
        "duration": 19292,
        "start_time": "2024-03-17T19:32:46.957Z"
      },
      {
        "duration": 1346,
        "start_time": "2024-03-18T05:48:51.899Z"
      },
      {
        "duration": 3304,
        "start_time": "2024-03-18T05:48:57.033Z"
      },
      {
        "duration": 1644,
        "start_time": "2024-03-18T05:49:10.315Z"
      },
      {
        "duration": 233,
        "start_time": "2024-03-18T05:50:56.154Z"
      },
      {
        "duration": 61,
        "start_time": "2024-03-18T05:50:59.391Z"
      },
      {
        "duration": 5,
        "start_time": "2024-03-18T05:51:08.262Z"
      },
      {
        "duration": 35,
        "start_time": "2024-03-18T05:51:13.313Z"
      },
      {
        "duration": 26,
        "start_time": "2024-03-18T05:51:49.567Z"
      },
      {
        "duration": 22,
        "start_time": "2024-03-18T05:51:54.742Z"
      },
      {
        "duration": 508,
        "start_time": "2024-03-18T05:52:14.239Z"
      },
      {
        "duration": 5,
        "start_time": "2024-03-18T05:53:01.290Z"
      },
      {
        "duration": 19591,
        "start_time": "2024-03-18T05:54:06.428Z"
      },
      {
        "duration": 6,
        "start_time": "2024-03-18T05:54:56.047Z"
      },
      {
        "duration": 19,
        "start_time": "2024-03-18T05:55:19.775Z"
      },
      {
        "duration": 17,
        "start_time": "2024-03-18T05:55:26.455Z"
      },
      {
        "duration": 16,
        "start_time": "2024-03-18T05:55:34.247Z"
      },
      {
        "duration": 18,
        "start_time": "2024-03-18T05:55:43.456Z"
      },
      {
        "duration": 24,
        "start_time": "2024-03-18T05:55:50.240Z"
      },
      {
        "duration": 24,
        "start_time": "2024-03-18T05:56:10.080Z"
      },
      {
        "duration": 20,
        "start_time": "2024-03-18T05:56:17.941Z"
      },
      {
        "duration": 18,
        "start_time": "2024-03-18T05:56:27.508Z"
      },
      {
        "duration": 18,
        "start_time": "2024-03-18T05:56:36.649Z"
      },
      {
        "duration": 19,
        "start_time": "2024-03-18T05:56:45.400Z"
      },
      {
        "duration": 19,
        "start_time": "2024-03-18T05:56:57.733Z"
      },
      {
        "duration": 19,
        "start_time": "2024-03-18T05:57:05.488Z"
      },
      {
        "duration": 25,
        "start_time": "2024-03-18T05:57:14.347Z"
      },
      {
        "duration": 115,
        "start_time": "2024-03-18T05:57:25.494Z"
      },
      {
        "duration": 12,
        "start_time": "2024-03-18T05:57:33.668Z"
      },
      {
        "duration": 29,
        "start_time": "2024-03-18T05:57:51.879Z"
      },
      {
        "duration": 26,
        "start_time": "2024-03-18T05:58:02.701Z"
      },
      {
        "duration": 17,
        "start_time": "2024-03-18T05:58:14.758Z"
      },
      {
        "duration": 478469,
        "start_time": "2024-03-18T05:58:44.127Z"
      },
      {
        "duration": 8,
        "start_time": "2024-03-18T06:12:37.096Z"
      },
      {
        "duration": 32,
        "start_time": "2024-03-18T06:15:58.264Z"
      },
      {
        "duration": 23,
        "start_time": "2024-03-18T06:16:42.908Z"
      },
      {
        "duration": 30,
        "start_time": "2024-03-18T06:16:56.195Z"
      },
      {
        "duration": 87,
        "start_time": "2024-03-18T06:17:06.120Z"
      },
      {
        "duration": 85,
        "start_time": "2024-03-18T06:17:14.256Z"
      },
      {
        "duration": 98,
        "start_time": "2024-03-18T06:17:23.234Z"
      },
      {
        "duration": 78,
        "start_time": "2024-03-18T06:17:30.681Z"
      },
      {
        "duration": 71,
        "start_time": "2024-03-18T06:17:40.932Z"
      },
      {
        "duration": 85,
        "start_time": "2024-03-18T06:17:50.806Z"
      },
      {
        "duration": 83,
        "start_time": "2024-03-18T06:17:58.293Z"
      },
      {
        "duration": 59,
        "start_time": "2024-03-18T06:18:06.647Z"
      },
      {
        "duration": 80,
        "start_time": "2024-03-18T06:18:16.083Z"
      },
      {
        "duration": 78,
        "start_time": "2024-03-18T06:18:25.805Z"
      },
      {
        "duration": 28,
        "start_time": "2024-03-18T06:18:26.020Z"
      },
      {
        "duration": 67,
        "start_time": "2024-03-18T06:18:37.030Z"
      },
      {
        "duration": 83,
        "start_time": "2024-03-18T06:18:46.761Z"
      },
      {
        "duration": 86,
        "start_time": "2024-03-18T06:18:54.829Z"
      },
      {
        "duration": 35,
        "start_time": "2024-03-18T06:19:21.549Z"
      },
      {
        "duration": 21,
        "start_time": "2024-03-18T06:19:33.551Z"
      },
      {
        "duration": 28,
        "start_time": "2024-03-18T06:19:41.896Z"
      },
      {
        "duration": 4,
        "start_time": "2024-03-18T06:19:42.118Z"
      },
      {
        "duration": 546,
        "start_time": "2024-03-18T06:20:50.753Z"
      },
      {
        "duration": 1005,
        "start_time": "2024-03-18T06:21:00.956Z"
      },
      {
        "duration": 762,
        "start_time": "2024-03-18T06:21:04.316Z"
      },
      {
        "duration": 188,
        "start_time": "2024-03-18T06:21:08.518Z"
      },
      {
        "duration": 9,
        "start_time": "2024-03-18T06:21:16.943Z"
      },
      {
        "duration": 6,
        "start_time": "2024-03-18T06:21:39.307Z"
      },
      {
        "duration": 7565,
        "start_time": "2024-03-18T06:21:43.721Z"
      },
      {
        "duration": 86,
        "start_time": "2024-03-18T06:21:54.309Z"
      },
      {
        "duration": 104,
        "start_time": "2024-03-18T06:22:01.781Z"
      },
      {
        "duration": 179805,
        "start_time": "2024-03-18T06:22:23.400Z"
      },
      {
        "duration": 5,
        "start_time": "2024-03-18T06:26:07.032Z"
      },
      {
        "duration": 1007,
        "start_time": "2024-03-18T06:26:27.763Z"
      },
      {
        "duration": 2489,
        "start_time": "2024-03-18T06:26:42.034Z"
      },
      {
        "duration": 544,
        "start_time": "2024-03-18T06:26:44.526Z"
      },
      {
        "duration": 8,
        "start_time": "2024-03-18T06:26:59.917Z"
      },
      {
        "duration": 8516,
        "start_time": "2024-03-18T06:27:02.271Z"
      },
      {
        "duration": 391,
        "start_time": "2024-03-18T06:27:16.994Z"
      },
      {
        "duration": 823,
        "start_time": "2024-03-18T06:27:21.197Z"
      },
      {
        "duration": 658931,
        "start_time": "2024-03-18T06:27:39.098Z"
      },
      {
        "duration": 7,
        "start_time": "2024-03-18T06:39:15.951Z"
      },
      {
        "duration": 692,
        "start_time": "2024-03-18T06:44:20.432Z"
      },
      {
        "duration": 812,
        "start_time": "2024-03-18T06:44:29.182Z"
      },
      {
        "duration": 570,
        "start_time": "2024-03-18T06:44:38.692Z"
      },
      {
        "duration": 690,
        "start_time": "2024-03-18T06:44:47.567Z"
      },
      {
        "duration": 725,
        "start_time": "2024-03-18T06:44:58.484Z"
      },
      {
        "duration": 775,
        "start_time": "2024-03-18T06:45:07.815Z"
      },
      {
        "duration": 1249,
        "start_time": "2024-03-18T06:45:23.477Z"
      },
      {
        "duration": 2286,
        "start_time": "2024-03-18T06:45:32.939Z"
      },
      {
        "duration": 2202,
        "start_time": "2024-03-18T06:45:45.404Z"
      },
      {
        "duration": 2092,
        "start_time": "2024-03-18T06:45:55.280Z"
      },
      {
        "duration": 2264,
        "start_time": "2024-03-18T06:46:06.289Z"
      },
      {
        "duration": 4202,
        "start_time": "2024-03-18T06:46:26.292Z"
      },
      {
        "duration": 2700,
        "start_time": "2024-03-18T06:46:46.287Z"
      },
      {
        "duration": 2075,
        "start_time": "2024-03-18T06:46:56.561Z"
      },
      {
        "duration": 1857,
        "start_time": "2024-03-18T06:47:22.310Z"
      },
      {
        "duration": 1452,
        "start_time": "2024-03-18T06:47:32.552Z"
      },
      {
        "duration": 1341,
        "start_time": "2024-03-18T06:47:44.716Z"
      },
      {
        "duration": 1600,
        "start_time": "2024-03-18T06:47:57.962Z"
      },
      {
        "duration": 1508,
        "start_time": "2024-03-18T06:48:10.247Z"
      },
      {
        "duration": 1488,
        "start_time": "2024-03-18T06:48:20.913Z"
      },
      {
        "duration": 1511,
        "start_time": "2024-03-18T06:48:30.128Z"
      },
      {
        "duration": 971,
        "start_time": "2024-03-18T06:49:12.020Z"
      },
      {
        "duration": 664,
        "start_time": "2024-03-18T06:49:20.578Z"
      },
      {
        "duration": 692,
        "start_time": "2024-03-18T06:49:30.817Z"
      },
      {
        "duration": 846,
        "start_time": "2024-03-18T06:49:46.705Z"
      },
      {
        "duration": 839,
        "start_time": "2024-03-18T06:49:55.178Z"
      },
      {
        "duration": 861,
        "start_time": "2024-03-18T06:50:05.682Z"
      },
      {
        "duration": 886,
        "start_time": "2024-03-18T06:50:14.310Z"
      },
      {
        "duration": 856,
        "start_time": "2024-03-18T06:50:25.296Z"
      },
      {
        "duration": 842,
        "start_time": "2024-03-18T06:50:34.347Z"
      },
      {
        "duration": 862,
        "start_time": "2024-03-18T06:50:43.599Z"
      },
      {
        "duration": 839,
        "start_time": "2024-03-18T06:50:55.168Z"
      },
      {
        "duration": 832,
        "start_time": "2024-03-18T06:51:05.596Z"
      },
      {
        "duration": 844,
        "start_time": "2024-03-18T06:51:14.537Z"
      },
      {
        "duration": 871,
        "start_time": "2024-03-18T06:51:24.054Z"
      },
      {
        "duration": 830,
        "start_time": "2024-03-18T06:51:32.194Z"
      },
      {
        "duration": 818,
        "start_time": "2024-03-18T06:51:40.869Z"
      },
      {
        "duration": 850,
        "start_time": "2024-03-18T06:51:54.885Z"
      },
      {
        "duration": 833,
        "start_time": "2024-03-18T06:52:06.484Z"
      },
      {
        "duration": 881,
        "start_time": "2024-03-18T06:52:15.790Z"
      },
      {
        "duration": 841,
        "start_time": "2024-03-18T06:52:25.149Z"
      },
      {
        "duration": 1016292,
        "start_time": "2024-03-18T06:53:20.517Z"
      },
      {
        "duration": 7,
        "start_time": "2024-03-18T07:11:35.184Z"
      },
      {
        "duration": 503,
        "start_time": "2024-03-18T07:12:12.393Z"
      },
      {
        "duration": 3236,
        "start_time": "2024-03-18T07:12:22.371Z"
      },
      {
        "duration": 5035,
        "start_time": "2024-03-18T07:12:34.217Z"
      },
      {
        "duration": 976,
        "start_time": "2024-03-18T07:12:43.611Z"
      },
      {
        "duration": 10,
        "start_time": "2024-03-18T07:12:50.888Z"
      },
      {
        "duration": 13733,
        "start_time": "2024-03-18T07:12:55.449Z"
      },
      {
        "duration": 3345,
        "start_time": "2024-03-18T07:13:16.159Z"
      },
      {
        "duration": 3148,
        "start_time": "2024-03-18T07:13:29.782Z"
      },
      {
        "duration": 2978,
        "start_time": "2024-03-18T07:13:52.678Z"
      },
      {
        "duration": 2881,
        "start_time": "2024-03-18T07:14:06.145Z"
      },
      {
        "duration": 2866,
        "start_time": "2024-03-18T07:14:17.721Z"
      },
      {
        "duration": 3285,
        "start_time": "2024-03-18T07:14:32.625Z"
      },
      {
        "duration": 3326,
        "start_time": "2024-03-18T07:14:45.004Z"
      },
      {
        "duration": 3525,
        "start_time": "2024-03-18T07:14:59.676Z"
      },
      {
        "duration": 3474,
        "start_time": "2024-03-18T07:15:24.178Z"
      },
      {
        "duration": 4864,
        "start_time": "2024-03-18T07:15:35.670Z"
      },
      {
        "duration": 3846,
        "start_time": "2024-03-18T07:15:54.482Z"
      },
      {
        "duration": 3248,
        "start_time": "2024-03-18T07:16:07.833Z"
      },
      {
        "duration": 3327,
        "start_time": "2024-03-18T07:16:19.493Z"
      },
      {
        "duration": 941,
        "start_time": "2024-03-18T07:17:29.229Z"
      },
      {
        "duration": 4,
        "start_time": "2024-03-18T07:17:43.399Z"
      },
      {
        "duration": 919,
        "start_time": "2024-03-18T07:17:47.173Z"
      },
      {
        "duration": 11932,
        "start_time": "2024-03-18T07:18:11.567Z"
      },
      {
        "duration": 2301,
        "start_time": "2024-03-18T07:18:23.502Z"
      },
      {
        "duration": 16,
        "start_time": "2024-03-18T07:18:31.657Z"
      },
      {
        "duration": 30325,
        "start_time": "2024-03-18T07:18:38.370Z"
      },
      {
        "duration": 10367,
        "start_time": "2024-03-18T07:20:29.902Z"
      },
      {
        "duration": 9229,
        "start_time": "2024-03-18T07:21:26.600Z"
      },
      {
        "duration": 5029,
        "start_time": "2024-03-18T07:23:44.611Z"
      },
      {
        "duration": 11780,
        "start_time": "2024-03-18T07:23:59.325Z"
      },
      {
        "duration": 12382,
        "start_time": "2024-03-18T07:24:21.246Z"
      },
      {
        "duration": 15841,
        "start_time": "2024-03-18T07:24:41.060Z"
      },
      {
        "duration": 11038,
        "start_time": "2024-03-18T07:25:10.362Z"
      },
      {
        "duration": 13171,
        "start_time": "2024-03-18T07:25:30.279Z"
      },
      {
        "duration": 13070,
        "start_time": "2024-03-18T07:25:53.969Z"
      },
      {
        "duration": 13388,
        "start_time": "2024-03-18T07:26:14.879Z"
      },
      {
        "duration": 13551,
        "start_time": "2024-03-18T07:26:36.920Z"
      },
      {
        "duration": 12994,
        "start_time": "2024-03-18T07:26:58.608Z"
      },
      {
        "duration": 13076,
        "start_time": "2024-03-18T07:27:20.187Z"
      },
      {
        "duration": 12783,
        "start_time": "2024-03-18T07:27:41.118Z"
      },
      {
        "duration": 12825,
        "start_time": "2024-03-18T07:28:02.077Z"
      },
      {
        "duration": 11746,
        "start_time": "2024-03-18T07:28:24.542Z"
      },
      {
        "duration": 13022,
        "start_time": "2024-03-18T07:28:45.440Z"
      },
      {
        "duration": 25182,
        "start_time": "2024-03-18T07:29:04.813Z"
      },
      {
        "duration": 33903,
        "start_time": "2024-03-18T07:39:46.885Z"
      },
      {
        "duration": 12997,
        "start_time": "2024-03-18T07:40:37.749Z"
      },
      {
        "duration": 46434,
        "start_time": "2024-03-18T07:41:04.081Z"
      },
      {
        "duration": 21438,
        "start_time": "2024-03-18T07:42:07.470Z"
      },
      {
        "duration": 25021,
        "start_time": "2024-03-18T07:42:39.229Z"
      },
      {
        "duration": 25023,
        "start_time": "2024-03-18T07:50:14.099Z"
      },
      {
        "duration": 24421,
        "start_time": "2024-03-18T07:52:29.104Z"
      },
      {
        "duration": 24542,
        "start_time": "2024-03-18T07:53:03.600Z"
      },
      {
        "duration": 24577,
        "start_time": "2024-03-18T07:53:38.497Z"
      },
      {
        "duration": 26113,
        "start_time": "2024-03-18T07:54:52.262Z"
      },
      {
        "duration": 25197,
        "start_time": "2024-03-18T07:55:39.909Z"
      },
      {
        "duration": 644556,
        "start_time": "2024-03-18T07:56:52.561Z"
      },
      {
        "duration": 23846,
        "start_time": "2024-03-18T08:10:39.340Z"
      },
      {
        "duration": 28213,
        "start_time": "2024-03-18T08:11:11.668Z"
      },
      {
        "duration": 29378,
        "start_time": "2024-03-18T08:11:49.611Z"
      },
      {
        "duration": 28435,
        "start_time": "2024-03-18T08:13:48.945Z"
      },
      {
        "duration": 31312,
        "start_time": "2024-03-18T08:15:06.769Z"
      },
      {
        "duration": 29056,
        "start_time": "2024-03-18T08:15:55.425Z"
      },
      {
        "duration": 29839,
        "start_time": "2024-03-18T08:16:37.742Z"
      },
      {
        "duration": 27987,
        "start_time": "2024-03-18T08:17:25.001Z"
      },
      {
        "duration": 16,
        "start_time": "2024-03-18T08:18:30.140Z"
      },
      {
        "duration": 14276,
        "start_time": "2024-03-18T08:19:10.705Z"
      },
      {
        "duration": 5412,
        "start_time": "2024-03-18T08:19:50.669Z"
      },
      {
        "duration": 2750,
        "start_time": "2024-03-18T08:20:07.240Z"
      },
      {
        "duration": 7766,
        "start_time": "2024-03-18T08:20:19.115Z"
      },
      {
        "duration": 11004,
        "start_time": "2024-03-18T08:20:36.782Z"
      },
      {
        "duration": 9888,
        "start_time": "2024-03-18T08:20:57.693Z"
      },
      {
        "duration": 8735,
        "start_time": "2024-03-18T08:21:23.557Z"
      },
      {
        "duration": 7585,
        "start_time": "2024-03-18T08:21:49.596Z"
      },
      {
        "duration": 8192,
        "start_time": "2024-03-18T08:22:08.589Z"
      },
      {
        "duration": 8009,
        "start_time": "2024-03-18T08:22:34.484Z"
      },
      {
        "duration": 8131,
        "start_time": "2024-03-18T08:22:55.253Z"
      },
      {
        "duration": 7786,
        "start_time": "2024-03-18T08:23:16.104Z"
      },
      {
        "duration": 6482,
        "start_time": "2024-03-18T08:23:37.199Z"
      },
      {
        "duration": 6020,
        "start_time": "2024-03-18T08:24:02.361Z"
      },
      {
        "duration": 6374,
        "start_time": "2024-03-18T08:24:17.310Z"
      },
      {
        "duration": 6704,
        "start_time": "2024-03-18T08:24:33.777Z"
      },
      {
        "duration": 8015,
        "start_time": "2024-03-18T08:24:50.476Z"
      },
      {
        "duration": 7200,
        "start_time": "2024-03-18T08:25:11.492Z"
      },
      {
        "duration": 6360,
        "start_time": "2024-03-18T08:25:30.128Z"
      },
      {
        "duration": 7705,
        "start_time": "2024-03-18T08:25:44.188Z"
      },
      {
        "duration": 7962,
        "start_time": "2024-03-18T08:26:02.926Z"
      },
      {
        "duration": 6156,
        "start_time": "2024-03-18T08:26:24.625Z"
      },
      {
        "duration": 6919,
        "start_time": "2024-03-18T08:26:49.962Z"
      },
      {
        "duration": 6831,
        "start_time": "2024-03-18T08:27:09.058Z"
      },
      {
        "duration": 7259,
        "start_time": "2024-03-18T08:27:26.127Z"
      },
      {
        "duration": 6287,
        "start_time": "2024-03-18T08:27:43.504Z"
      },
      {
        "duration": 6884,
        "start_time": "2024-03-18T08:28:02.096Z"
      },
      {
        "duration": 7924,
        "start_time": "2024-03-18T08:28:18.660Z"
      },
      {
        "duration": 5965,
        "start_time": "2024-03-18T08:28:38.416Z"
      },
      {
        "duration": 7374,
        "start_time": "2024-03-18T08:28:54.007Z"
      },
      {
        "duration": 6982,
        "start_time": "2024-03-18T08:29:14.699Z"
      },
      {
        "duration": 7377,
        "start_time": "2024-03-18T08:29:30.003Z"
      },
      {
        "duration": 7441,
        "start_time": "2024-03-18T08:29:46.740Z"
      },
      {
        "duration": 7636,
        "start_time": "2024-03-18T08:30:03.446Z"
      },
      {
        "duration": 6318,
        "start_time": "2024-03-18T08:30:24.863Z"
      },
      {
        "duration": 7004,
        "start_time": "2024-03-18T08:30:39.677Z"
      },
      {
        "duration": 6523,
        "start_time": "2024-03-18T08:30:57.358Z"
      },
      {
        "duration": 6857,
        "start_time": "2024-03-18T08:31:13.427Z"
      },
      {
        "duration": 6598,
        "start_time": "2024-03-18T08:31:33.482Z"
      },
      {
        "duration": 6952,
        "start_time": "2024-03-18T08:31:49.629Z"
      },
      {
        "duration": 6261,
        "start_time": "2024-03-18T08:32:07.122Z"
      },
      {
        "duration": 7761,
        "start_time": "2024-03-18T08:32:25.725Z"
      },
      {
        "duration": 7370,
        "start_time": "2024-03-18T08:32:43.015Z"
      },
      {
        "duration": 6825,
        "start_time": "2024-03-18T08:33:06.473Z"
      },
      {
        "duration": 7525,
        "start_time": "2024-03-18T08:33:21.558Z"
      },
      {
        "duration": 7707,
        "start_time": "2024-03-18T08:33:41.384Z"
      },
      {
        "duration": 7296,
        "start_time": "2024-03-18T08:35:00.893Z"
      },
      {
        "duration": 7259,
        "start_time": "2024-03-18T08:35:25.320Z"
      },
      {
        "duration": 5,
        "start_time": "2024-03-18T08:36:40.760Z"
      },
      {
        "duration": 5,
        "start_time": "2024-03-18T08:36:59.906Z"
      },
      {
        "duration": 689,
        "start_time": "2024-03-18T08:40:26.586Z"
      },
      {
        "duration": 7143,
        "start_time": "2024-03-18T08:40:45.946Z"
      },
      {
        "duration": 14075,
        "start_time": "2024-03-18T08:41:18.523Z"
      },
      {
        "duration": 13,
        "start_time": "2024-03-18T08:42:02.245Z"
      },
      {
        "duration": 14,
        "start_time": "2024-03-18T08:42:44.225Z"
      },
      {
        "duration": 626,
        "start_time": "2024-03-18T08:42:52.112Z"
      },
      {
        "duration": 5876,
        "start_time": "2024-03-18T08:43:02.716Z"
      },
      {
        "duration": 11964,
        "start_time": "2024-03-18T08:43:27.092Z"
      },
      {
        "duration": 2248,
        "start_time": "2024-03-18T08:43:45.622Z"
      },
      {
        "duration": 939,
        "start_time": "2024-03-18T08:44:00.504Z"
      },
      {
        "duration": 37330,
        "start_time": "2024-03-18T08:44:05.053Z"
      },
      {
        "duration": 7500,
        "start_time": "2024-03-18T08:44:48.011Z"
      },
      {
        "duration": 7,
        "start_time": "2024-03-18T08:45:01.870Z"
      },
      {
        "duration": 44,
        "start_time": "2024-03-18T08:45:15.365Z"
      },
      {
        "duration": 10974,
        "start_time": "2024-03-18T08:45:25.517Z"
      },
      {
        "duration": 46898,
        "start_time": "2024-03-18T08:47:49.496Z"
      },
      {
        "duration": 47414,
        "start_time": "2024-03-18T08:48:54.284Z"
      },
      {
        "duration": 48851,
        "start_time": "2024-03-18T08:49:58.139Z"
      },
      {
        "duration": 48549,
        "start_time": "2024-03-18T08:51:14.244Z"
      },
      {
        "duration": 1477,
        "start_time": "2024-03-18T09:16:25.760Z"
      },
      {
        "duration": 3365,
        "start_time": "2024-03-18T09:16:31.957Z"
      },
      {
        "duration": 39708,
        "start_time": "2024-03-18T09:16:48.527Z"
      },
      {
        "duration": 7591,
        "start_time": "2024-03-18T09:17:38.208Z"
      },
      {
        "duration": 51,
        "start_time": "2024-03-18T09:17:50.480Z"
      },
      {
        "duration": 7,
        "start_time": "2024-03-18T09:17:59.635Z"
      },
      {
        "duration": 53,
        "start_time": "2024-03-18T09:18:31.878Z"
      },
      {
        "duration": 216,
        "start_time": "2024-03-18T09:20:05.535Z"
      },
      {
        "duration": 44,
        "start_time": "2024-03-18T09:20:17.735Z"
      },
      {
        "duration": 138,
        "start_time": "2024-03-18T09:20:23.708Z"
      },
      {
        "duration": 117,
        "start_time": "2024-03-18T09:21:03.461Z"
      },
      {
        "duration": 6,
        "start_time": "2024-03-18T09:21:19.438Z"
      },
      {
        "duration": 109,
        "start_time": "2024-03-18T09:21:40.421Z"
      },
      {
        "duration": 49514,
        "start_time": "2024-03-18T09:22:57.077Z"
      },
      {
        "duration": 49447,
        "start_time": "2024-03-18T09:24:27.761Z"
      },
      {
        "duration": 47396,
        "start_time": "2024-03-18T09:26:26.595Z"
      },
      {
        "duration": 47900,
        "start_time": "2024-03-18T09:27:36.110Z"
      },
      {
        "duration": 46346,
        "start_time": "2024-03-18T09:28:42.345Z"
      },
      {
        "duration": 49249,
        "start_time": "2024-03-18T09:30:26.232Z"
      },
      {
        "duration": 146,
        "start_time": "2024-03-18T09:32:25.924Z"
      },
      {
        "duration": 1560694,
        "start_time": "2024-03-18T09:34:50.886Z"
      },
      {
        "duration": 19,
        "start_time": "2024-03-18T10:02:57.834Z"
      },
      {
        "duration": 48298,
        "start_time": "2024-03-18T10:04:17.284Z"
      },
      {
        "duration": 46341,
        "start_time": "2024-03-18T10:05:32.846Z"
      },
      {
        "duration": 11106,
        "start_time": "2024-03-18T10:08:09.591Z"
      },
      {
        "duration": 24091,
        "start_time": "2024-03-18T10:10:33.096Z"
      },
      {
        "duration": 18496,
        "start_time": "2024-03-18T10:11:20.795Z"
      },
      {
        "duration": 28400,
        "start_time": "2024-03-18T10:11:48.306Z"
      },
      {
        "duration": 31640,
        "start_time": "2024-03-18T10:12:30.654Z"
      },
      {
        "duration": 21678,
        "start_time": "2024-03-18T10:13:25.008Z"
      },
      {
        "duration": 581220,
        "start_time": "2024-03-18T10:16:46.374Z"
      },
      {
        "duration": 19,
        "start_time": "2024-03-18T10:32:37.910Z"
      },
      {
        "duration": 1453,
        "start_time": "2024-03-18T11:54:00.720Z"
      },
      {
        "duration": 1136,
        "start_time": "2024-03-18T11:54:02.175Z"
      },
      {
        "duration": 37823,
        "start_time": "2024-03-18T11:54:03.313Z"
      },
      {
        "duration": 7372,
        "start_time": "2024-03-18T11:54:41.138Z"
      },
      {
        "duration": 48,
        "start_time": "2024-03-18T11:54:48.512Z"
      },
      {
        "duration": 70,
        "start_time": "2024-03-18T11:54:48.562Z"
      },
      {
        "duration": 7,
        "start_time": "2024-03-18T11:54:48.634Z"
      },
      {
        "duration": 47639,
        "start_time": "2024-03-18T11:54:48.643Z"
      },
      {
        "duration": 24007,
        "start_time": "2024-03-18T11:55:36.283Z"
      },
      {
        "duration": 24496,
        "start_time": "2024-03-18T11:56:00.292Z"
      },
      {
        "duration": 573492,
        "start_time": "2024-03-18T11:56:24.790Z"
      },
      {
        "duration": 20,
        "start_time": "2024-03-18T12:05:58.284Z"
      },
      {
        "duration": 1166296,
        "start_time": "2024-03-18T12:05:58.306Z"
      },
      {
        "duration": 368616,
        "start_time": "2024-03-18T12:25:24.604Z"
      },
      {
        "duration": 244,
        "start_time": "2024-03-18T12:31:33.221Z"
      },
      {
        "duration": 20,
        "start_time": "2024-03-18T12:31:33.466Z"
      },
      {
        "duration": 20,
        "start_time": "2024-03-18T12:31:33.488Z"
      },
      {
        "duration": 1928285,
        "start_time": "2024-03-18T12:39:18.695Z"
      },
      {
        "duration": 19,
        "start_time": "2024-03-18T13:13:07.988Z"
      },
      {
        "duration": 16,
        "start_time": "2024-03-18T13:15:01.448Z"
      },
      {
        "duration": 19,
        "start_time": "2024-03-18T13:15:46.034Z"
      },
      {
        "duration": 858,
        "start_time": "2024-03-18T13:16:08.427Z"
      },
      {
        "duration": 37909,
        "start_time": "2024-03-18T13:16:36.330Z"
      },
      {
        "duration": 7113,
        "start_time": "2024-03-18T13:17:25.592Z"
      },
      {
        "duration": 17,
        "start_time": "2024-03-18T13:17:40.589Z"
      },
      {
        "duration": 126,
        "start_time": "2024-03-18T13:18:19.558Z"
      },
      {
        "duration": 6,
        "start_time": "2024-03-18T13:18:26.421Z"
      },
      {
        "duration": 22846,
        "start_time": "2024-03-18T13:18:35.745Z"
      },
      {
        "duration": 21,
        "start_time": "2024-03-18T13:27:56.558Z"
      },
      {
        "duration": 6,
        "start_time": "2024-03-18T13:37:20.587Z"
      },
      {
        "duration": 254,
        "start_time": "2024-03-18T13:44:23.955Z"
      },
      {
        "duration": 893,
        "start_time": "2024-03-18T13:58:33.542Z"
      },
      {
        "duration": 1363,
        "start_time": "2024-03-18T13:58:50.009Z"
      },
      {
        "duration": 1025,
        "start_time": "2024-03-18T13:58:51.374Z"
      },
      {
        "duration": 274,
        "start_time": "2024-03-18T13:58:52.401Z"
      },
      {
        "duration": 39572,
        "start_time": "2024-03-18T13:58:52.678Z"
      },
      {
        "duration": 7417,
        "start_time": "2024-03-18T13:59:32.252Z"
      },
      {
        "duration": 76,
        "start_time": "2024-03-18T13:59:39.671Z"
      },
      {
        "duration": 60,
        "start_time": "2024-03-18T13:59:39.750Z"
      },
      {
        "duration": 26089,
        "start_time": "2024-03-18T13:59:39.812Z"
      },
      {
        "duration": 15618,
        "start_time": "2024-03-18T14:00:05.903Z"
      },
      {
        "duration": 20,
        "start_time": "2024-03-18T14:00:21.524Z"
      },
      {
        "duration": 26174,
        "start_time": "2024-03-18T14:01:26.812Z"
      },
      {
        "duration": 15244,
        "start_time": "2024-03-18T14:02:06.485Z"
      },
      {
        "duration": 20,
        "start_time": "2024-03-18T14:02:36.538Z"
      },
      {
        "duration": 18766,
        "start_time": "2024-03-18T14:02:58.855Z"
      },
      {
        "duration": 24016,
        "start_time": "2024-03-18T14:03:56.321Z"
      },
      {
        "duration": 338425,
        "start_time": "2024-03-18T14:04:42.973Z"
      },
      {
        "duration": 20,
        "start_time": "2024-03-18T14:14:16.239Z"
      },
      {
        "duration": 48,
        "start_time": "2024-03-18T14:15:15.862Z"
      },
      {
        "duration": 7281,
        "start_time": "2024-03-18T14:15:45.552Z"
      },
      {
        "duration": 50,
        "start_time": "2024-03-18T14:16:13.909Z"
      },
      {
        "duration": 53,
        "start_time": "2024-03-18T14:16:48.368Z"
      },
      {
        "duration": 8594,
        "start_time": "2024-03-18T14:17:08.607Z"
      },
      {
        "duration": 52,
        "start_time": "2024-03-18T14:17:27.349Z"
      },
      {
        "duration": 49,
        "start_time": "2024-03-18T14:18:19.226Z"
      },
      {
        "duration": 7247,
        "start_time": "2024-03-18T14:18:29.751Z"
      },
      {
        "duration": 64,
        "start_time": "2024-03-18T14:22:23.755Z"
      },
      {
        "duration": 7023,
        "start_time": "2024-03-18T14:22:41.602Z"
      },
      {
        "duration": 49,
        "start_time": "2024-03-18T14:22:56.940Z"
      },
      {
        "duration": 1380,
        "start_time": "2024-03-18T14:26:37.245Z"
      },
      {
        "duration": 1049,
        "start_time": "2024-03-18T14:26:38.627Z"
      },
      {
        "duration": 257,
        "start_time": "2024-03-18T14:26:39.680Z"
      },
      {
        "duration": 39475,
        "start_time": "2024-03-18T14:26:39.939Z"
      },
      {
        "duration": 7258,
        "start_time": "2024-03-18T14:27:19.415Z"
      },
      {
        "duration": 54,
        "start_time": "2024-03-18T14:27:26.674Z"
      },
      {
        "duration": 56,
        "start_time": "2024-03-18T14:27:26.729Z"
      },
      {
        "duration": 24100,
        "start_time": "2024-03-18T14:27:26.788Z"
      },
      {
        "duration": 330801,
        "start_time": "2024-03-18T14:27:50.890Z"
      },
      {
        "duration": 20,
        "start_time": "2024-03-18T14:33:21.694Z"
      },
      {
        "duration": 8789,
        "start_time": "2024-03-18T14:36:18.230Z"
      },
      {
        "duration": 7884,
        "start_time": "2024-03-18T14:36:49.469Z"
      },
      {
        "duration": 1409,
        "start_time": "2024-03-18T14:51:08.620Z"
      },
      {
        "duration": 3398,
        "start_time": "2024-03-18T14:51:10.031Z"
      },
      {
        "duration": 256,
        "start_time": "2024-03-18T14:51:13.431Z"
      },
      {
        "duration": 39331,
        "start_time": "2024-03-18T14:51:13.689Z"
      },
      {
        "duration": 7225,
        "start_time": "2024-03-18T14:51:53.022Z"
      },
      {
        "duration": 57,
        "start_time": "2024-03-18T14:52:00.249Z"
      },
      {
        "duration": 1398,
        "start_time": "2024-03-18T14:56:41.986Z"
      },
      {
        "duration": 3327,
        "start_time": "2024-03-18T14:56:43.386Z"
      },
      {
        "duration": 242,
        "start_time": "2024-03-18T14:56:46.715Z"
      },
      {
        "duration": 40179,
        "start_time": "2024-03-18T14:56:46.959Z"
      },
      {
        "duration": 7845,
        "start_time": "2024-03-18T14:57:27.140Z"
      },
      {
        "duration": 72,
        "start_time": "2024-03-18T14:57:34.988Z"
      },
      {
        "duration": 113,
        "start_time": "2024-03-18T14:57:35.062Z"
      },
      {
        "duration": 0,
        "start_time": "2024-03-18T14:57:35.177Z"
      },
      {
        "duration": 0,
        "start_time": "2024-03-18T14:57:35.179Z"
      },
      {
        "duration": 0,
        "start_time": "2024-03-18T14:57:35.180Z"
      },
      {
        "duration": 0,
        "start_time": "2024-03-18T14:57:35.182Z"
      },
      {
        "duration": 1998,
        "start_time": "2024-03-18T15:02:35.935Z"
      },
      {
        "duration": 80,
        "start_time": "2024-03-18T15:03:50.859Z"
      },
      {
        "duration": 102,
        "start_time": "2024-03-18T15:04:40.194Z"
      },
      {
        "duration": 234,
        "start_time": "2024-03-18T15:04:47.370Z"
      },
      {
        "duration": 216,
        "start_time": "2024-03-18T15:06:21.505Z"
      },
      {
        "duration": 271,
        "start_time": "2024-03-18T15:10:21.632Z"
      },
      {
        "duration": 197,
        "start_time": "2024-03-18T15:11:09.819Z"
      },
      {
        "duration": 218,
        "start_time": "2024-03-18T15:11:43.355Z"
      },
      {
        "duration": 226,
        "start_time": "2024-03-18T15:16:24.183Z"
      },
      {
        "duration": 72,
        "start_time": "2024-03-18T15:16:42.904Z"
      },
      {
        "duration": 217,
        "start_time": "2024-03-18T15:17:14.360Z"
      },
      {
        "duration": 227,
        "start_time": "2024-03-18T15:20:00.187Z"
      },
      {
        "duration": 371,
        "start_time": "2024-03-18T15:20:19.803Z"
      },
      {
        "duration": 211,
        "start_time": "2024-03-18T15:20:39.106Z"
      },
      {
        "duration": 217,
        "start_time": "2024-03-18T15:21:58.832Z"
      },
      {
        "duration": 242,
        "start_time": "2024-03-18T15:22:16.698Z"
      },
      {
        "duration": 1310,
        "start_time": "2024-03-18T15:32:54.695Z"
      },
      {
        "duration": 993,
        "start_time": "2024-03-18T15:32:56.007Z"
      },
      {
        "duration": 233,
        "start_time": "2024-03-18T15:32:57.001Z"
      },
      {
        "duration": 37794,
        "start_time": "2024-03-18T15:32:57.236Z"
      },
      {
        "duration": 6869,
        "start_time": "2024-03-18T15:33:35.032Z"
      },
      {
        "duration": 49,
        "start_time": "2024-03-18T15:33:41.903Z"
      },
      {
        "duration": 474,
        "start_time": "2024-03-18T15:33:41.957Z"
      },
      {
        "duration": 33,
        "start_time": "2024-03-18T15:33:42.433Z"
      },
      {
        "duration": 23835,
        "start_time": "2024-03-18T15:33:42.468Z"
      },
      {
        "duration": 317938,
        "start_time": "2024-03-18T15:34:06.306Z"
      },
      {
        "duration": 18,
        "start_time": "2024-03-18T15:39:24.245Z"
      },
      {
        "duration": 130,
        "start_time": "2024-03-18T16:09:38.337Z"
      },
      {
        "duration": 11,
        "start_time": "2024-03-18T16:10:00.686Z"
      },
      {
        "duration": 18,
        "start_time": "2024-03-18T16:11:30.230Z"
      },
      {
        "duration": 10,
        "start_time": "2024-03-18T16:11:56.757Z"
      },
      {
        "duration": 1684,
        "start_time": "2024-03-18T16:12:40.043Z"
      },
      {
        "duration": 65,
        "start_time": "2024-03-18T16:17:56.920Z"
      },
      {
        "duration": 5249,
        "start_time": "2024-03-18T16:21:29.126Z"
      },
      {
        "duration": 11423,
        "start_time": "2024-03-18T16:29:56.220Z"
      },
      {
        "duration": 4750,
        "start_time": "2024-03-18T16:31:45.974Z"
      },
      {
        "duration": 10,
        "start_time": "2024-03-18T16:32:22.437Z"
      },
      {
        "duration": 3,
        "start_time": "2024-03-18T16:32:33.389Z"
      },
      {
        "duration": 6676,
        "start_time": "2024-03-18T16:33:35.323Z"
      },
      {
        "duration": 4,
        "start_time": "2024-03-18T16:33:52.662Z"
      },
      {
        "duration": 11,
        "start_time": "2024-03-18T16:34:44.888Z"
      },
      {
        "duration": 238,
        "start_time": "2024-03-18T16:36:15.902Z"
      },
      {
        "duration": 258,
        "start_time": "2024-03-18T16:37:01.762Z"
      },
      {
        "duration": 172,
        "start_time": "2024-03-18T16:38:08.932Z"
      },
      {
        "duration": 9,
        "start_time": "2024-03-18T16:40:47.059Z"
      },
      {
        "duration": 4,
        "start_time": "2024-03-18T16:42:50.113Z"
      },
      {
        "duration": 6,
        "start_time": "2024-03-18T16:43:45.373Z"
      },
      {
        "duration": 59,
        "start_time": "2024-03-18T16:44:08.019Z"
      },
      {
        "duration": 73,
        "start_time": "2024-03-18T16:48:08.355Z"
      },
      {
        "duration": 12,
        "start_time": "2024-03-18T16:48:29.792Z"
      },
      {
        "duration": 79,
        "start_time": "2024-03-18T16:48:41.978Z"
      },
      {
        "duration": 196,
        "start_time": "2024-03-18T16:52:33.079Z"
      },
      {
        "duration": 21970,
        "start_time": "2024-03-18T16:53:22.011Z"
      },
      {
        "duration": 21,
        "start_time": "2024-03-18T16:54:07.149Z"
      },
      {
        "duration": 304542,
        "start_time": "2024-03-18T16:54:33.764Z"
      },
      {
        "duration": 153,
        "start_time": "2024-03-18T17:02:26.379Z"
      },
      {
        "duration": 140,
        "start_time": "2024-03-18T17:02:37.842Z"
      },
      {
        "duration": 205,
        "start_time": "2024-03-18T17:04:07.672Z"
      },
      {
        "duration": 211,
        "start_time": "2024-03-18T17:05:57.503Z"
      },
      {
        "duration": 213,
        "start_time": "2024-03-18T17:06:04.462Z"
      },
      {
        "duration": 170,
        "start_time": "2024-03-18T17:08:42.267Z"
      },
      {
        "duration": 172,
        "start_time": "2024-03-18T17:09:09.617Z"
      },
      {
        "duration": 176,
        "start_time": "2024-03-18T17:10:21.308Z"
      },
      {
        "duration": 159,
        "start_time": "2024-03-18T17:10:36.350Z"
      },
      {
        "duration": 174,
        "start_time": "2024-03-18T17:11:26.470Z"
      },
      {
        "duration": 200,
        "start_time": "2024-03-18T17:11:38.743Z"
      },
      {
        "duration": 9,
        "start_time": "2024-03-18T17:24:20.612Z"
      },
      {
        "duration": 1633,
        "start_time": "2024-03-18T17:26:36.265Z"
      },
      {
        "duration": 1042,
        "start_time": "2024-03-18T17:26:37.900Z"
      },
      {
        "duration": 258,
        "start_time": "2024-03-18T17:26:38.943Z"
      },
      {
        "duration": 38971,
        "start_time": "2024-03-18T17:26:39.203Z"
      },
      {
        "duration": 50,
        "start_time": "2024-03-18T17:27:18.180Z"
      },
      {
        "duration": 6997,
        "start_time": "2024-03-18T17:27:18.231Z"
      },
      {
        "duration": 3,
        "start_time": "2024-03-18T17:27:25.230Z"
      },
      {
        "duration": 73,
        "start_time": "2024-03-18T17:27:25.235Z"
      },
      {
        "duration": 17,
        "start_time": "2024-03-18T17:27:25.309Z"
      },
      {
        "duration": 220,
        "start_time": "2024-03-18T17:27:25.327Z"
      },
      {
        "duration": 22041,
        "start_time": "2024-03-18T17:27:25.549Z"
      },
      {
        "duration": 305233,
        "start_time": "2024-03-18T17:27:47.592Z"
      },
      {
        "duration": 19,
        "start_time": "2024-03-18T17:32:52.827Z"
      },
      {
        "duration": 5,
        "start_time": "2024-03-18T18:41:16.346Z"
      },
      {
        "duration": 876,
        "start_time": "2024-03-18T18:41:18.701Z"
      },
      {
        "duration": 213,
        "start_time": "2024-03-18T18:41:23.478Z"
      },
      {
        "duration": 262,
        "start_time": "2024-03-18T18:41:36.510Z"
      },
      {
        "duration": 4,
        "start_time": "2024-03-18T18:48:44.275Z"
      },
      {
        "duration": 110,
        "start_time": "2024-03-18T18:48:53.290Z"
      },
      {
        "duration": 415,
        "start_time": "2024-03-18T18:56:45.820Z"
      },
      {
        "duration": 113,
        "start_time": "2024-03-18T18:59:02.629Z"
      },
      {
        "duration": 130,
        "start_time": "2024-03-18T18:59:19.827Z"
      },
      {
        "duration": 111,
        "start_time": "2024-03-18T19:01:19.066Z"
      },
      {
        "duration": 103,
        "start_time": "2024-03-18T19:02:19.630Z"
      },
      {
        "duration": 5,
        "start_time": "2024-03-18T19:03:55.635Z"
      },
      {
        "duration": 112,
        "start_time": "2024-03-18T19:06:25.004Z"
      },
      {
        "duration": 1557,
        "start_time": "2024-03-18T19:14:46.147Z"
      },
      {
        "duration": 967,
        "start_time": "2024-03-18T19:14:47.706Z"
      },
      {
        "duration": 259,
        "start_time": "2024-03-18T19:14:48.675Z"
      },
      {
        "duration": 526564,
        "start_time": "2024-03-18T19:14:48.936Z"
      },
      {
        "duration": 57,
        "start_time": "2024-03-18T19:23:35.502Z"
      },
      {
        "duration": 6842,
        "start_time": "2024-03-18T19:23:35.564Z"
      },
      {
        "duration": 4,
        "start_time": "2024-03-18T19:23:42.408Z"
      },
      {
        "duration": 17,
        "start_time": "2024-03-18T19:23:42.414Z"
      },
      {
        "duration": 255,
        "start_time": "2024-03-18T19:23:42.432Z"
      },
      {
        "duration": 51,
        "start_time": "2024-03-18T19:23:42.690Z"
      },
      {
        "duration": 264,
        "start_time": "2024-03-18T19:23:42.743Z"
      },
      {
        "duration": 112,
        "start_time": "2024-03-18T19:23:43.009Z"
      },
      {
        "duration": 13,
        "start_time": "2024-03-18T19:23:43.122Z"
      },
      {
        "duration": 60,
        "start_time": "2024-03-18T19:28:45.353Z"
      },
      {
        "duration": 6427,
        "start_time": "2024-03-18T19:28:53.685Z"
      },
      {
        "duration": 4,
        "start_time": "2024-03-18T19:29:04.704Z"
      },
      {
        "duration": 10,
        "start_time": "2024-03-18T19:29:19.017Z"
      },
      {
        "duration": 222,
        "start_time": "2024-03-18T19:29:25.157Z"
      },
      {
        "duration": 55,
        "start_time": "2024-03-18T19:29:30.449Z"
      },
      {
        "duration": 55,
        "start_time": "2024-03-18T19:35:30.280Z"
      },
      {
        "duration": 51,
        "start_time": "2024-03-18T19:36:32.339Z"
      },
      {
        "duration": 8,
        "start_time": "2024-03-18T19:42:20.862Z"
      },
      {
        "duration": 1977,
        "start_time": "2024-03-19T04:45:34.443Z"
      },
      {
        "duration": 3272,
        "start_time": "2024-03-19T04:45:36.422Z"
      },
      {
        "duration": 234,
        "start_time": "2024-03-19T04:45:39.695Z"
      },
      {
        "duration": 550309,
        "start_time": "2024-03-19T04:45:39.931Z"
      },
      {
        "duration": 59,
        "start_time": "2024-03-19T04:54:50.241Z"
      },
      {
        "duration": 48,
        "start_time": "2024-03-19T04:54:50.301Z"
      },
      {
        "duration": 6894,
        "start_time": "2024-03-19T04:54:50.351Z"
      },
      {
        "duration": 4,
        "start_time": "2024-03-19T04:54:57.247Z"
      },
      {
        "duration": 24,
        "start_time": "2024-03-19T04:54:57.252Z"
      },
      {
        "duration": 241,
        "start_time": "2024-03-19T04:54:57.279Z"
      },
      {
        "duration": 1509254,
        "start_time": "2024-03-19T04:54:57.522Z"
      },
      {
        "duration": 101,
        "start_time": "2024-03-19T05:20:06.778Z"
      },
      {
        "duration": 13,
        "start_time": "2024-03-19T05:20:06.881Z"
      }
    ],
    "kernelspec": {
      "display_name": "Python 3 (ipykernel)",
      "language": "python",
      "name": "python3"
    },
    "language_info": {
      "codemirror_mode": {
        "name": "ipython",
        "version": 3
      },
      "file_extension": ".py",
      "mimetype": "text/x-python",
      "name": "python",
      "nbconvert_exporter": "python",
      "pygments_lexer": "ipython3",
      "version": "3.9.5"
    },
    "toc": {
      "base_numbering": 1,
      "nav_menu": {},
      "number_sections": true,
      "sideBar": true,
      "skip_h1_title": true,
      "title_cell": "Содержание",
      "title_sidebar": "Contents",
      "toc_cell": true,
      "toc_position": {
        "height": "calc(100% - 180px)",
        "left": "10px",
        "top": "150px",
        "width": "302.391px"
      },
      "toc_section_display": true,
      "toc_window_display": false
    },
    "colab": {
      "provenance": []
    }
  },
  "nbformat": 4,
  "nbformat_minor": 0
}